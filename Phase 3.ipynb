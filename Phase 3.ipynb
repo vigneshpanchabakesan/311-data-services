{
 "cells": [
  {
   "cell_type": "code",
   "execution_count": 1,
   "id": "a33360c8",
   "metadata": {},
   "outputs": [],
   "source": [
    "import findspark\n",
    "import pandas as pd\n",
    "from pyspark.sql.functions import *"
   ]
  },
  {
   "cell_type": "code",
   "execution_count": 2,
   "id": "6d4277fd",
   "metadata": {},
   "outputs": [],
   "source": [
    "findspark.init()"
   ]
  },
  {
   "cell_type": "code",
   "execution_count": 3,
   "id": "d098c225",
   "metadata": {},
   "outputs": [],
   "source": [
    "from pyspark.sql import SparkSession\n",
    "spark=SparkSession.builder.appName('Services_').config(\"spark.jars.packages\",\"com.crealytics:spark-excel_2.12:0.13.7\").getOrCreate()"
   ]
  },
  {
   "cell_type": "code",
   "execution_count": 4,
   "id": "aa0d8bfa",
   "metadata": {},
   "outputs": [
    {
     "data": {
      "text/plain": [
       "'C:\\\\Users\\\\Vignesh'"
      ]
     },
     "execution_count": 4,
     "metadata": {},
     "output_type": "execute_result"
    }
   ],
   "source": [
    "pwd"
   ]
  },
  {
   "cell_type": "code",
   "execution_count": 5,
   "id": "537da19b",
   "metadata": {},
   "outputs": [],
   "source": [
    "df_pyspark=spark.read.csv(\"./Downloads/311_Service_Requests_from_2010_to_Present.csv\", header='true',inferSchema=True)"
   ]
  },
  {
   "cell_type": "code",
   "execution_count": 6,
   "id": "898eda11",
   "metadata": {},
   "outputs": [],
   "source": [
    "pd_pyspark=df_pyspark.limit(100).toPandas()"
   ]
  },
  {
   "cell_type": "code",
   "execution_count": 7,
   "id": "291daa09",
   "metadata": {},
   "outputs": [],
   "source": [
    "pd_pyspark.to_csv(\"./Downloads/sample_data.csv\")"
   ]
  },
  {
   "cell_type": "code",
   "execution_count": 8,
   "id": "438b3de3",
   "metadata": {},
   "outputs": [
    {
     "name": "stdout",
     "output_type": "stream",
     "text": [
      "    Unique Key            Created Date             Closed Date Agency  \\\n",
      "0     25620844  05/28/2013 10:12:39 AM  05/28/2013 02:24:37 PM   NYPD   \n",
      "1     25620853  05/28/2013 04:06:16 PM  05/31/2013 12:34:22 PM    DPR   \n",
      "2     25620854  05/28/2013 03:29:19 PM  06/05/2013 09:24:38 AM    DPR   \n",
      "3     25620855  05/28/2013 07:55:00 PM  05/29/2013 07:21:03 AM    DPR   \n",
      "4     25620856  05/28/2013 02:50:55 PM                    None    DPR   \n",
      "..         ...                     ...                     ...    ...   \n",
      "95    25621075  05/28/2013 07:53:00 PM  05/28/2013 09:04:00 PM    DEP   \n",
      "96    25621076  05/28/2013 09:08:00 AM  06/02/2013 12:00:00 PM    DEP   \n",
      "97    25621080  05/28/2013 10:55:00 AM  07/13/2013 12:00:00 AM    DEP   \n",
      "98    25621082  05/28/2013 04:32:00 PM  05/28/2013 04:32:00 PM    DEP   \n",
      "99    25621083  05/28/2013 03:51:00 PM  05/28/2013 04:45:00 PM    DEP   \n",
      "\n",
      "                               Agency Name       Complaint Type  \\\n",
      "0          New York City Police Department  Urinating in Public   \n",
      "1       Department of Parks and Recreation            Dead Tree   \n",
      "2       Department of Parks and Recreation            Dead Tree   \n",
      "3       Department of Parks and Recreation            Dead Tree   \n",
      "4       Department of Parks and Recreation            Dead Tree   \n",
      "..                                     ...                  ...   \n",
      "95  Department of Environmental Protection                Sewer   \n",
      "96  Department of Environmental Protection                Sewer   \n",
      "97  Department of Environmental Protection                Sewer   \n",
      "98  Department of Environmental Protection                Sewer   \n",
      "99  Department of Environmental Protection                Sewer   \n",
      "\n",
      "                                          Descriptor    Location Type  \\\n",
      "0                                                N/A  Street/Sidewalk   \n",
      "1                                    Dead/Dying Tree           Street   \n",
      "2                                    Dead/Dying Tree           Street   \n",
      "3                                    Dead/Dying Tree           Street   \n",
      "4                                    Dead/Dying Tree           Street   \n",
      "..                                               ...              ...   \n",
      "95  Catch Basin Clogged/Flooding (Use Comments) (SC)             None   \n",
      "96  Catch Basin Clogged/Flooding (Use Comments) (SC)             None   \n",
      "97                Defective/Missing Curb Piece (SC4)             None   \n",
      "98                  Sewer Backup (Use Comments) (SA)             None   \n",
      "99                  Sewer Backup (Use Comments) (SA)             None   \n",
      "\n",
      "   Incident Zip              Incident Address  ... Vehicle Type  \\\n",
      "0         10459       1228 SOUTHERN BOULEVARD  ...         None   \n",
      "1         11236  10802 FLATLANDS NINTH STREET  ...         None   \n",
      "2         11370               30-36 83 STREET  ...         None   \n",
      "3         11413             227-18 141 AVENUE  ...         None   \n",
      "4         10312            666 RATHBUN AVENUE  ...         None   \n",
      "..          ...                           ...  ...          ...   \n",
      "95        11210         1224 EAST   24 STREET  ...         None   \n",
      "96        10463            3822 ORLOFF AVENUE  ...         None   \n",
      "97        11367             72-28 MAIN STREET  ...         None   \n",
      "98        10457          1937 MONTEREY AVENUE  ...         None   \n",
      "99        11222      404 MCGUINNESS BOULEVARD  ...         None   \n",
      "\n",
      "   Taxi Company Borough Taxi Pick Up Location Bridge Highway Name  \\\n",
      "0                  None                  None                None   \n",
      "1                  None                  None                None   \n",
      "2                  None                  None                None   \n",
      "3                  None                  None                None   \n",
      "4                  None                  None                None   \n",
      "..                  ...                   ...                 ...   \n",
      "95                 None                  None                None   \n",
      "96                 None                  None                None   \n",
      "97                 None                  None                None   \n",
      "98                 None                  None                None   \n",
      "99                 None                  None                None   \n",
      "\n",
      "   Bridge Highway Direction Road Ramp Bridge Highway Segment   Latitude  \\\n",
      "0                      None      None                   None  40.829245   \n",
      "1                      None      None                   None  40.640257   \n",
      "2                      None      None                   None  40.760505   \n",
      "3                      None      None                   None  40.668614   \n",
      "4                      None      None                   None  40.539303   \n",
      "..                      ...       ...                    ...        ...   \n",
      "95                     None      None                   None  40.620602   \n",
      "96                     None      None                   None  40.883232   \n",
      "97                     None      None                   None  40.725810   \n",
      "98                     None      None                   None  40.846946   \n",
      "99                     None      None                   None  40.736917   \n",
      "\n",
      "    Longitude                                  Location  \n",
      "0  -73.891874   (40.82924494625826, -73.89187449031489)  \n",
      "1  -73.882729   (40.64025689607397, -73.88272946731684)  \n",
      "2  -73.885330    (40.760505061647166, -73.885329735479)  \n",
      "3  -73.748009   (40.66861388568256, -73.74800925747168)  \n",
      "4  -74.197641   (40.53930264937191, -74.19764060985678)  \n",
      "..        ...                                       ...  \n",
      "95 -73.951537   (40.62060163833424, -73.95153650980224)  \n",
      "96 -73.896813   (40.88323228851747, -73.89681347507215)  \n",
      "97 -73.821397   (40.72580956587566, -73.82139693188572)  \n",
      "98 -73.895113  (40.846945838382695, -73.89511315500758)  \n",
      "99 -73.952646   (40.73691736961068, -73.95264630569102)  \n",
      "\n",
      "[100 rows x 41 columns]\n"
     ]
    }
   ],
   "source": [
    "print(pd_pyspark)"
   ]
  },
  {
   "cell_type": "code",
   "execution_count": 9,
   "id": "c47564a4",
   "metadata": {},
   "outputs": [
    {
     "name": "stdout",
     "output_type": "stream",
     "text": [
      "+----------+--------------------+--------------------+------+--------------------+--------------------+--------------------+--------------------+------------+--------------------+--------------------+------------------+----------------+---------------------+---------------------+------------+-------------------+--------+-------------+------+--------------------+----------------------+------------------------------+----------------+----------+-------------+--------------------------+--------------------------+----------------------+------------------+-------------+------------+--------------------+---------------------+-------------------+------------------------+---------+----------------------+------------------+------------------+--------------------+\n",
      "|Unique Key|        Created Date|         Closed Date|Agency|         Agency Name|      Complaint Type|          Descriptor|       Location Type|Incident Zip|    Incident Address|         Street Name|    Cross Street 1|  Cross Street 2|Intersection Street 1|Intersection Street 2|Address Type|               City|Landmark|Facility Type|Status|            Due Date|Resolution Description|Resolution Action Updated Date| Community Board|       BBL|      Borough|X Coordinate (State Plane)|Y Coordinate (State Plane)|Open Data Channel Type|Park Facility Name| Park Borough|Vehicle Type|Taxi Company Borough|Taxi Pick Up Location|Bridge Highway Name|Bridge Highway Direction|Road Ramp|Bridge Highway Segment|          Latitude|         Longitude|            Location|\n",
      "+----------+--------------------+--------------------+------+--------------------+--------------------+--------------------+--------------------+------------+--------------------+--------------------+------------------+----------------+---------------------+---------------------+------------+-------------------+--------+-------------+------+--------------------+----------------------+------------------------------+----------------+----------+-------------+--------------------------+--------------------------+----------------------+------------------+-------------+------------+--------------------+---------------------+-------------------+------------------------+---------+----------------------+------------------+------------------+--------------------+\n",
      "|  25620844|05/28/2013 10:12:...|05/28/2013 02:24:...|  NYPD|New York City Pol...| Urinating in Public|                 N/A|     Street/Sidewalk|       10459|1228 SOUTHERN BOU...|  SOUTHERN BOULEVARD|       HOME STREET|  FREEMAN STREET|                 null|                 null|     ADDRESS|              BRONX|    null|     Precinct|Closed|05/28/2013 06:12:...|  The Police Depart...|          05/28/2013 02:24:...|        03 BRONX|2029790012|        BRONX|                   1014173|                    241412|                 PHONE|       Unspecified|        BRONX|        null|                null|                 null|               null|                    null|     null|                  null| 40.82924494625826|-73.89187449031489|(40.8292449462582...|\n",
      "|  25620853|05/28/2013 04:06:...|05/31/2013 12:34:...|   DPR|Department of Par...|           Dead Tree|     Dead/Dying Tree|              Street|       11236|10802 FLATLANDS N...|FLATLANDS NINTH S...|   EAST 108 STREET|        DEAD END|                 null|                 null|     ADDRESS|           BROOKLYN|    null|          N/A|Closed|06/05/2013 07:43:...|  The Department of...|          05/31/2013 12:34:...|     18 BROOKLYN|3082737501|     BROOKLYN|                   1016796|                    172561|                 PHONE|       Unspecified|     BROOKLYN|        null|                null|                 null|               null|                    null|     null|                  null| 40.64025689607397|-73.88272946731684|(40.6402568960739...|\n",
      "|  25620854|05/28/2013 03:29:...|06/05/2013 09:24:...|   DPR|Department of Par...|           Dead Tree|     Dead/Dying Tree|              Street|       11370|     30-36 83 STREET|           83 STREET|         30 AVENUE|       31 AVENUE|                 null|                 null|     ADDRESS|      EAST ELMHURST|    null|          N/A|Closed|06/05/2013 06:52:...|  The Department of...|          06/05/2013 09:24:...|       03 QUEENS|4013800023|       QUEENS|                   1016017|                    216370|                 PHONE|       Unspecified|       QUEENS|        null|                null|                 null|               null|                    null|     null|                  null|40.760505061647166|  -73.885329735479|(40.7605050616471...|\n",
      "|  25620855|05/28/2013 07:55:...|05/29/2013 07:21:...|   DPR|Department of Par...|           Dead Tree|     Dead/Dying Tree|              Street|       11413|   227-18 141 AVENUE|          141 AVENUE|        227 STREET|      228 STREET|                 null|                 null|     ADDRESS|SPRINGFIELD GARDENS|    null|          N/A|Closed|06/02/2013 07:55:...|  The Department of...|          05/29/2013 07:20:...|       13 QUEENS|4131910297|       QUEENS|                   1054155|                    182971|                 PHONE|       Unspecified|       QUEENS|        null|                null|                 null|               null|                    null|     null|                  null| 40.66861388568256|-73.74800925747168|(40.6686138856825...|\n",
      "|  25620856|05/28/2013 02:50:...|                null|   DPR|Department of Par...|           Dead Tree|     Dead/Dying Tree|              Street|       10312|  666 RATHBUN AVENUE|      RATHBUN AVENUE|   HUGUENOT AVENUE|ELLSWORTH AVENUE|                 null|                 null|     ADDRESS|      STATEN ISLAND|    null|          N/A|  Open|06/02/2013 02:50:...|  The Department of...|                          null|03 STATEN ISLAND|5068430044|STATEN ISLAND|                    929316|                    135821|                 PHONE|       Unspecified|STATEN ISLAND|        null|                null|                 null|               null|                    null|     null|                  null| 40.53930264937191|-74.19764060985678|(40.5393026493719...|\n",
      "|  25620860|05/28/2013 04:43:...|06/13/2013 01:06:...|   DCA|Department of Con...|  Consumer Complaint|     Clothing Damage|                null|       10075|  265 EAST 78 STREET|      EAST 78 STREET|          3 AVENUE|        2 AVENUE|                 null|                 null|     ADDRESS|           NEW YORK|    null|          N/A|Closed|06/13/2013 04:43:...|  The Department of...|          06/13/2013 01:06:...|    08 MANHATTAN|1014330022|    MANHATTAN|                    996319|                    220917|                 PHONE|       Unspecified|    MANHATTAN|        null|                null|                 null|               null|                    null|     null|                  null| 40.77303422968557|-73.95642599348551|(40.7730342296855...|\n",
      "|  25620866|05/28/2013 10:32:...|05/30/2013 08:09:...|  NYPD|New York City Pol...|Noise - Street/Si...|        Loud Talking|     Street/Sidewalk|       10034|    176 NAGLE AVENUE|        NAGLE AVENUE|    DYCKMAN STREET|    NYCTA SUBWAY|                 null|                 null|     ADDRESS|           NEW YORK|    null|     Precinct|Closed|05/29/2013 06:32:...|  The Police Depart...|          05/30/2013 08:09:...|    12 MANHATTAN|1022170047|    MANHATTAN|                   1005179|                    253245|                ONLINE|       Unspecified|    MANHATTAN|        null|                null|                 null|               null|                    null|     null|                  null| 40.86174893459112|-73.92433698102494|(40.8617489345911...|\n",
      "|  25620867|05/28/2013 06:49:...|05/31/2013 01:55:...| DOHMH|Department of Hea...|      Food Poisoning|              1 or 2|Restaurant/Bar/De...|       10003|        227 1 AVENUE|            1 AVENUE|    EAST 13 STREET|  EAST 14 STREET|                 null|                 null|     ADDRESS|           NEW YORK|    null|          N/A|Closed|06/11/2013 06:49:...|  The Department of...|          05/31/2013 01:54:...|    03 MANHATTAN|1004550038|    MANHATTAN|                    989005|                    205592|                 PHONE|       Unspecified|    MANHATTAN|        null|                null|                 null|               null|                    null|     null|                  null|  40.7309779455853|-73.98284334851826|(40.7309779455853...|\n",
      "|  25620868|05/28/2013 07:03:...|05/31/2013 01:55:...| DOHMH|Department of Hea...|      Food Poisoning|              1 or 2|Restaurant/Bar/De...|       10003|        227 1 AVENUE|            1 AVENUE|    EAST 13 STREET|  EAST 14 STREET|                 null|                 null|     ADDRESS|           NEW YORK|    null|          N/A|Closed|06/11/2013 06:49:...|  The Department of...|          05/31/2013 01:54:...|    03 MANHATTAN|1004550038|    MANHATTAN|                    989005|                    205592|                 PHONE|       Unspecified|    MANHATTAN|        null|                null|                 null|               null|                    null|     null|                  null|  40.7309779455853|-73.98284334851826|(40.7309779455853...|\n",
      "|  25620872|05/28/2013 04:18:...|06/04/2013 10:09:...| DOHMH|Department of Hea...|  Indoor Air Quality|Chemical Vapors/G...|Other (Explain Be...|       10013|     44 WHITE STREET|        WHITE STREET|     CHURCH STREET|  FRANKLIN PLACE|                 null|                 null|     ADDRESS|           NEW YORK|    null|          N/A|Closed|06/27/2013 04:18:...|  The Department of...|          06/04/2013 10:09:...|    01 MANHATTAN|1001930012|    MANHATTAN|                    983062|                    201084|                ONLINE|       Unspecified|    MANHATTAN|        null|                null|                 null|               null|                    null|     null|                  null| 40.71860577784937|-74.00428566104473|(40.7186057778493...|\n",
      "|  25620875|05/28/2013 12:03:...|05/28/2013 01:20:...|   DEP|Department of Env...| Hazardous Materials| Chemical Odor (HD1)|                null|       11236|642 EAST   94 STREET|    EAST   94 STREET|          AVENUE A|        AVENUE B|                 null|                 null|     ADDRESS|           BROOKLYN|    null|          N/A|Closed|                null|  The Department of...|          05/28/2013 01:20:...|     17 BROOKLYN|3047530057|     BROOKLYN|                   1008011|                    176923|                 PHONE|       Unspecified|     BROOKLYN|        null|                null|                 null|               null|                    null|     null|                  null|40.652257562715135|-73.91436840287662|(40.6522575627151...|\n",
      "|  25620876|05/28/2013 09:32:...|07/24/2013 10:37:...|   DPR|Department of Par...|        Damaged Tree|Branch Cracked an...|              Street|       11355|    45-74 157 STREET|          157 STREET|         45 AVENUE|       46 AVENUE|                 null|                 null|     ADDRESS|           FLUSHING|    null|          N/A|Closed|07/25/2013 10:40:...|  The Department of...|          07/24/2013 10:36:...|       07 QUEENS|4054350082|       QUEENS|                   1037045|                    214394|                 PHONE|       Unspecified|       QUEENS|        null|                null|                 null|               null|                    null|     null|                  null| 40.75498089829135|-73.80944006042999|(40.7549808982913...|\n",
      "|  25620877|05/28/2013 11:07:...|05/29/2013 01:22:...|   DEP|Department of Env...|    Industrial Waste|Chemical Spill (IAC)|                null|       11235|                null|                null|BRIGHTON BEACH AVE|  BRIGHTON 11 ST| BRIGHTON BEACH AV...|   BRIGHTON 11 STREET|INTERSECTION|           BROOKLYN|    null|          N/A|Closed|                null|  The Department of...|          05/29/2013 01:22:...|     13 BROOKLYN|      null|     BROOKLYN|                    995635|                    149905|                 PHONE|       Unspecified|     BROOKLYN|        null|                null|                 null|               null|                    null|     null|                  null| 40.57812331265048|-73.95901546652755|(40.5781233126504...|\n",
      "|  25620879|05/28/2013 05:16:...|                null| DOHMH|Department of Hea...|      Standing Water| Swimming Pool Cover| 1-2 Family Dwelling|       10304| 1028 TODT HILL ROAD|      TODT HILL ROAD|       VALLEY ROAD|     FLAGG PLACE|                 null|                 null|     ADDRESS|      STATEN ISLAND|    null|          N/A|  Open|06/27/2013 05:16:...|  The Department of...|                          null|02 STATEN ISLAND|      null|STATEN ISLAND|                    953356|                    152387|                 PHONE|       Unspecified|STATEN ISLAND|        null|                null|                 null|               null|                    null|     null|                  null| 40.58488938649835|-74.11122571379768|(40.5848893864983...|\n",
      "|  25620880|05/28/2013 12:04:...|                null| DOHMH|Department of Hea...|      Standing Water|Other - Explain B...|               Other|       10013|   139 CENTER STREET|       CENTER STREET|      WHITE STREET|   WALKER STREET|                 null|                 null|     ADDRESS|           NEW YORK|    null|          N/A|  Open|06/27/2013 12:04:...|  The Department of...|                          null|    01 MANHATTAN|1001977502|    MANHATTAN|                    984083|                    200578|                 PHONE|       Unspecified|    MANHATTAN|        null|                null|                 null|               null|                    null|     null|                  null|40.717217007536156|-74.00060243306505|(40.7172170075361...|\n",
      "|  25620881|05/28/2013 05:08:...|05/28/2013 06:30:...|   DEP|Department of Env...|               Sewer|Highway Flooding ...|                null|       11234|                null|                null|         BELT PKWY|    FLATBUSH AVE|         BELT PARKWAY|      FLATBUSH AVENUE|INTERSECTION|           BROOKLYN|    null|          N/A|Closed|                null|  The Department of...|          05/28/2013 06:30:...|     18 BROOKLYN|      null|     BROOKLYN|                   1009834|                    156615|               UNKNOWN|       Unspecified|     BROOKLYN|        null|                null|                 null|               null|                    null|     null|                  null| 40.59651130968669|-73.90787551923017|(40.5965113096866...|\n",
      "|  25620883|05/28/2013 11:26:...|06/07/2013 09:15:...|   DEP|Department of Env...|        Water System|Excessive Water I...|                null|       10455|      879 MACY PLACE|          MACY PLACE|      PROSPECT AVE|       HEWITT PL|                 null|                 null|     ADDRESS|              BRONX|    null|          N/A|Closed|                null|  The Department of...|          06/07/2013 09:15:...|        02 BRONX|2026880073|        BRONX|                   1011594|                    237314|                 PHONE|       Unspecified|        BRONX|        null|                null|                 null|               null|                    null|     null|                  null| 40.81800546648237|-73.90121029072117|(40.8180054664823...|\n",
      "|  25620884|05/28/2013 08:24:...|05/29/2013 07:28:...|   DPR|Department of Par...|        Damaged Tree|    Tree Trunk Split|              Street|       11205|  116 CLINTON AVENUE|      CLINTON AVENUE|       PARK AVENUE|   MYRTLE AVENUE|                 null|                 null|     ADDRESS|           BROOKLYN|    null|          N/A|Closed|06/02/2013 08:24:...|  The condition was...|          05/29/2013 07:28:...|     02 BROOKLYN|3018870078|     BROOKLYN|                    992828|                    192249|                 PHONE|       Unspecified|     BROOKLYN|        null|                null|                 null|               null|                    null|     null|                  null| 40.69435171040216|-73.96906647478316|(40.6943517104021...|\n",
      "|  25620887|05/28/2013 02:24:...|05/30/2013 12:00:...|   DOB|Department of Bui...|General Construct...|Structural Stabil...|                null|       11216|  816 PROSPECT PLACE|      PROSPECT PLACE|   NOSTRAND AVENUE| NEW YORK AVENUE|                 null|                 null|     ADDRESS|           BROOKLYN|    null|          N/A|Closed|                null|  The Department of...|          05/30/2013 12:00:...|     08 BROOKLYN|3012340010|     BROOKLYN|                    998304|                    184933|               UNKNOWN|       Unspecified|     BROOKLYN|        null|                null|                 null|               null|                    null|     null|                  null| 40.67426396183534|-73.94933447921152|(40.6742639618353...|\n",
      "|  25620893|05/28/2013 12:00:...|06/14/2013 12:00:...| DOHMH|Department of Hea...|Unsanitary Animal...|        Animal Waste| 1-2 Family Dwelling|       11411|   115-01 217 STREET|          217 STREET|        115 AVENUE|        115 ROAD|                 null|                 null|     ADDRESS|    Cambria Heights|    null|          N/A|Closed|06/27/2013 12:16:...|  The Department of...|          06/14/2013 12:00:...|       13 QUEENS|4112810030|       QUEENS|                   1056293|                    194722|                 PHONE|       Unspecified|       QUEENS|        null|                null|                 null|               null|                    null|     null|                  null|40.700850415092525|-73.74017668245126|(40.7008504150925...|\n",
      "+----------+--------------------+--------------------+------+--------------------+--------------------+--------------------+--------------------+------------+--------------------+--------------------+------------------+----------------+---------------------+---------------------+------------+-------------------+--------+-------------+------+--------------------+----------------------+------------------------------+----------------+----------+-------------+--------------------------+--------------------------+----------------------+------------------+-------------+------------+--------------------+---------------------+-------------------+------------------------+---------+----------------------+------------------+------------------+--------------------+\n",
      "only showing top 20 rows\n",
      "\n"
     ]
    }
   ],
   "source": [
    "df_pyspark.show()"
   ]
  },
  {
   "cell_type": "code",
   "execution_count": 10,
   "id": "4f0d57f8",
   "metadata": {},
   "outputs": [
    {
     "data": {
      "text/plain": [
       "Row(Unique Key=25620844, Created Date='05/28/2013 10:12:39 AM', Closed Date='05/28/2013 02:24:37 PM', Agency='NYPD', Agency Name='New York City Police Department', Complaint Type='Urinating in Public', Descriptor='N/A', Location Type='Street/Sidewalk', Incident Zip='10459', Incident Address='1228 SOUTHERN BOULEVARD', Street Name='SOUTHERN BOULEVARD', Cross Street 1='HOME STREET', Cross Street 2='FREEMAN STREET', Intersection Street 1=None, Intersection Street 2=None, Address Type='ADDRESS', City='BRONX', Landmark=None, Facility Type='Precinct', Status='Closed', Due Date='05/28/2013 06:12:39 PM', Resolution Description='The Police Department responded to the complaint and took action to fix the condition.', Resolution Action Updated Date='05/28/2013 02:24:08 PM', Community Board='03 BRONX', BBL='2029790012', Borough='BRONX', X Coordinate (State Plane)=1014173, Y Coordinate (State Plane)='241412', Open Data Channel Type='PHONE', Park Facility Name='Unspecified', Park Borough='BRONX', Vehicle Type=None, Taxi Company Borough=None, Taxi Pick Up Location=None, Bridge Highway Name=None, Bridge Highway Direction=None, Road Ramp=None, Bridge Highway Segment=None, Latitude=40.82924494625826, Longitude=-73.89187449031489, Location='(40.82924494625826, -73.89187449031489)')"
      ]
     },
     "execution_count": 10,
     "metadata": {},
     "output_type": "execute_result"
    }
   ],
   "source": [
    "df_pyspark.head()"
   ]
  },
  {
   "cell_type": "code",
   "execution_count": 11,
   "id": "fbce8a4c",
   "metadata": {},
   "outputs": [
    {
     "data": {
      "text/plain": [
       "Row(Unique Key=25620844, Created Date='05/28/2013 10:12:39 AM', Closed Date='05/28/2013 02:24:37 PM', Agency='NYPD', Agency Name='New York City Police Department', Complaint Type='Urinating in Public', Descriptor='N/A', Location Type='Street/Sidewalk', Incident Zip='10459', Incident Address='1228 SOUTHERN BOULEVARD', Street Name='SOUTHERN BOULEVARD', Cross Street 1='HOME STREET', Cross Street 2='FREEMAN STREET', Intersection Street 1=None, Intersection Street 2=None, Address Type='ADDRESS', City='BRONX', Landmark=None, Facility Type='Precinct', Status='Closed', Due Date='05/28/2013 06:12:39 PM', Resolution Description='The Police Department responded to the complaint and took action to fix the condition.', Resolution Action Updated Date='05/28/2013 02:24:08 PM', Community Board='03 BRONX', BBL='2029790012', Borough='BRONX', X Coordinate (State Plane)=1014173, Y Coordinate (State Plane)='241412', Open Data Channel Type='PHONE', Park Facility Name='Unspecified', Park Borough='BRONX', Vehicle Type=None, Taxi Company Borough=None, Taxi Pick Up Location=None, Bridge Highway Name=None, Bridge Highway Direction=None, Road Ramp=None, Bridge Highway Segment=None, Latitude=40.82924494625826, Longitude=-73.89187449031489, Location='(40.82924494625826, -73.89187449031489)')"
      ]
     },
     "execution_count": 11,
     "metadata": {},
     "output_type": "execute_result"
    }
   ],
   "source": [
    "df_pyspark.first()"
   ]
  },
  {
   "cell_type": "code",
   "execution_count": 12,
   "id": "c5afe1a4",
   "metadata": {},
   "outputs": [],
   "source": [
    "total_records=df_pyspark.count()"
   ]
  },
  {
   "cell_type": "code",
   "execution_count": 13,
   "id": "45c0847b",
   "metadata": {},
   "outputs": [
    {
     "data": {
      "text/plain": [
       "26665919"
      ]
     },
     "execution_count": 13,
     "metadata": {},
     "output_type": "execute_result"
    }
   ],
   "source": [
    "total_records"
   ]
  },
  {
   "cell_type": "code",
   "execution_count": 14,
   "id": "37eb6d5d",
   "metadata": {},
   "outputs": [
    {
     "name": "stdout",
     "output_type": "stream",
     "text": [
      "root\n",
      " |-- Unique Key: integer (nullable = true)\n",
      " |-- Created Date: string (nullable = true)\n",
      " |-- Closed Date: string (nullable = true)\n",
      " |-- Agency: string (nullable = true)\n",
      " |-- Agency Name: string (nullable = true)\n",
      " |-- Complaint Type: string (nullable = true)\n",
      " |-- Descriptor: string (nullable = true)\n",
      " |-- Location Type: string (nullable = true)\n",
      " |-- Incident Zip: string (nullable = true)\n",
      " |-- Incident Address: string (nullable = true)\n",
      " |-- Street Name: string (nullable = true)\n",
      " |-- Cross Street 1: string (nullable = true)\n",
      " |-- Cross Street 2: string (nullable = true)\n",
      " |-- Intersection Street 1: string (nullable = true)\n",
      " |-- Intersection Street 2: string (nullable = true)\n",
      " |-- Address Type: string (nullable = true)\n",
      " |-- City: string (nullable = true)\n",
      " |-- Landmark: string (nullable = true)\n",
      " |-- Facility Type: string (nullable = true)\n",
      " |-- Status: string (nullable = true)\n",
      " |-- Due Date: string (nullable = true)\n",
      " |-- Resolution Description: string (nullable = true)\n",
      " |-- Resolution Action Updated Date: string (nullable = true)\n",
      " |-- Community Board: string (nullable = true)\n",
      " |-- BBL: string (nullable = true)\n",
      " |-- Borough: string (nullable = true)\n",
      " |-- X Coordinate (State Plane): long (nullable = true)\n",
      " |-- Y Coordinate (State Plane): string (nullable = true)\n",
      " |-- Open Data Channel Type: string (nullable = true)\n",
      " |-- Park Facility Name: string (nullable = true)\n",
      " |-- Park Borough: string (nullable = true)\n",
      " |-- Vehicle Type: string (nullable = true)\n",
      " |-- Taxi Company Borough: string (nullable = true)\n",
      " |-- Taxi Pick Up Location: string (nullable = true)\n",
      " |-- Bridge Highway Name: string (nullable = true)\n",
      " |-- Bridge Highway Direction: string (nullable = true)\n",
      " |-- Road Ramp: string (nullable = true)\n",
      " |-- Bridge Highway Segment: string (nullable = true)\n",
      " |-- Latitude: double (nullable = true)\n",
      " |-- Longitude: double (nullable = true)\n",
      " |-- Location: string (nullable = true)\n",
      "\n"
     ]
    }
   ],
   "source": [
    "df_pyspark.printSchema()"
   ]
  },
  {
   "cell_type": "code",
   "execution_count": 15,
   "id": "cf2728b5",
   "metadata": {},
   "outputs": [
    {
     "data": {
      "text/html": [
       "\n",
       "            <div>\n",
       "                <p><b>SparkSession - in-memory</b></p>\n",
       "                \n",
       "        <div>\n",
       "            <p><b>SparkContext</b></p>\n",
       "\n",
       "            <p><a href=\"http://host.docker.internal:4040\">Spark UI</a></p>\n",
       "\n",
       "            <dl>\n",
       "              <dt>Version</dt>\n",
       "                <dd><code>v3.1.2</code></dd>\n",
       "              <dt>Master</dt>\n",
       "                <dd><code>local[*]</code></dd>\n",
       "              <dt>AppName</dt>\n",
       "                <dd><code>Services_</code></dd>\n",
       "            </dl>\n",
       "        </div>\n",
       "        \n",
       "            </div>\n",
       "        "
      ],
      "text/plain": [
       "<pyspark.sql.session.SparkSession at 0x225b9178e50>"
      ]
     },
     "execution_count": 15,
     "metadata": {},
     "output_type": "execute_result"
    }
   ],
   "source": [
    "spark"
   ]
  },
  {
   "cell_type": "code",
   "execution_count": 16,
   "id": "c1460f07",
   "metadata": {},
   "outputs": [],
   "source": [
    "dataframe_column=df_pyspark.columns"
   ]
  },
  {
   "cell_type": "code",
   "execution_count": 17,
   "id": "82155792",
   "metadata": {},
   "outputs": [
    {
     "data": {
      "text/plain": [
       "['Unique Key',\n",
       " 'Created Date',\n",
       " 'Closed Date',\n",
       " 'Agency',\n",
       " 'Agency Name',\n",
       " 'Complaint Type',\n",
       " 'Descriptor',\n",
       " 'Location Type',\n",
       " 'Incident Zip',\n",
       " 'Incident Address',\n",
       " 'Street Name',\n",
       " 'Cross Street 1',\n",
       " 'Cross Street 2',\n",
       " 'Intersection Street 1',\n",
       " 'Intersection Street 2',\n",
       " 'Address Type',\n",
       " 'City',\n",
       " 'Landmark',\n",
       " 'Facility Type',\n",
       " 'Status',\n",
       " 'Due Date',\n",
       " 'Resolution Description',\n",
       " 'Resolution Action Updated Date',\n",
       " 'Community Board',\n",
       " 'BBL',\n",
       " 'Borough',\n",
       " 'X Coordinate (State Plane)',\n",
       " 'Y Coordinate (State Plane)',\n",
       " 'Open Data Channel Type',\n",
       " 'Park Facility Name',\n",
       " 'Park Borough',\n",
       " 'Vehicle Type',\n",
       " 'Taxi Company Borough',\n",
       " 'Taxi Pick Up Location',\n",
       " 'Bridge Highway Name',\n",
       " 'Bridge Highway Direction',\n",
       " 'Road Ramp',\n",
       " 'Bridge Highway Segment',\n",
       " 'Latitude',\n",
       " 'Longitude',\n",
       " 'Location']"
      ]
     },
     "execution_count": 17,
     "metadata": {},
     "output_type": "execute_result"
    }
   ],
   "source": [
    "dataframe_column"
   ]
  },
  {
   "cell_type": "code",
   "execution_count": 18,
   "id": "5021cec6",
   "metadata": {},
   "outputs": [
    {
     "name": "stdout",
     "output_type": "stream",
     "text": [
      "+----------+--------------------+\n",
      "|Unique Key|        Created Date|\n",
      "+----------+--------------------+\n",
      "|  25620844|05/28/2013 10:12:...|\n",
      "|  25620853|05/28/2013 04:06:...|\n",
      "|  25620854|05/28/2013 03:29:...|\n",
      "|  25620855|05/28/2013 07:55:...|\n",
      "|  25620856|05/28/2013 02:50:...|\n",
      "|  25620860|05/28/2013 04:43:...|\n",
      "|  25620866|05/28/2013 10:32:...|\n",
      "|  25620867|05/28/2013 06:49:...|\n",
      "|  25620868|05/28/2013 07:03:...|\n",
      "|  25620872|05/28/2013 04:18:...|\n",
      "|  25620875|05/28/2013 12:03:...|\n",
      "|  25620876|05/28/2013 09:32:...|\n",
      "|  25620877|05/28/2013 11:07:...|\n",
      "|  25620879|05/28/2013 05:16:...|\n",
      "|  25620880|05/28/2013 12:04:...|\n",
      "|  25620881|05/28/2013 05:08:...|\n",
      "|  25620883|05/28/2013 11:26:...|\n",
      "|  25620884|05/28/2013 08:24:...|\n",
      "|  25620887|05/28/2013 02:24:...|\n",
      "|  25620893|05/28/2013 12:00:...|\n",
      "+----------+--------------------+\n",
      "only showing top 20 rows\n",
      "\n"
     ]
    }
   ],
   "source": [
    "df_pyspark.select(['Unique Key','Created Date']).show()"
   ]
  },
  {
   "cell_type": "code",
   "execution_count": 19,
   "id": "8a12e1e7",
   "metadata": {},
   "outputs": [
    {
     "data": {
      "text/plain": [
       "DataFrame[Unique Key: int, Created Date: string, Closed Date: string, Agency: string, Agency Name: string, Complaint Type: string, Descriptor: string, Location Type: string, Incident Zip: string, Incident Address: string, Street Name: string, Cross Street 1: string, Cross Street 2: string, Intersection Street 1: string, Intersection Street 2: string, Address Type: string, City: string, Landmark: string, Facility Type: string, Status: string, Due Date: string, Resolution Description: string, Resolution Action Updated Date: string, Community Board: string, BBL: string, Borough: string, X Coordinate (State Plane): bigint, Y Coordinate (State Plane): string, Open Data Channel Type: string, Park Facility Name: string, Park Borough: string, Vehicle Type: string, Taxi Company Borough: string, Taxi Pick Up Location: string, Bridge Highway Name: string, Bridge Highway Direction: string, Road Ramp: string, Bridge Highway Segment: string, Latitude: double, Longitude: double, Location: string]"
      ]
     },
     "execution_count": 19,
     "metadata": {},
     "output_type": "execute_result"
    }
   ],
   "source": [
    "df_pyspark.na.fill('',subset=[\n",
    " 'Agency',\n",
    " 'Agency Name',\n",
    " 'Complaint Type',\n",
    " 'Descriptor',\n",
    " 'Location Type',\n",
    " 'Incident Zip',\n",
    " 'Incident Address',\n",
    " 'Street Name',\n",
    " 'Cross Street 1',\n",
    " 'Cross Street 2',\n",
    " 'Intersection Street 1',\n",
    " 'Intersection Street 2',\n",
    " 'Address Type',\n",
    " 'City',\n",
    " 'Landmark',\n",
    " 'Facility Type',\n",
    " 'Status',\n",
    " 'Resolution Description',\n",
    " 'Community Board',\n",
    " 'BBL',\n",
    " 'Borough',\n",
    " 'Open Data Channel Type',\n",
    " 'Park Facility Name',\n",
    " 'Park Borough',\n",
    " 'Vehicle Type',\n",
    " 'Taxi Company Borough',\n",
    " 'Taxi Pick Up Location',\n",
    " 'Bridge Highway Name',\n",
    " 'Bridge Highway Direction',\n",
    " 'Road Ramp',\n",
    " 'Bridge Highway Segment',\n",
    " 'Location'])"
   ]
  },
  {
   "cell_type": "code",
   "execution_count": 20,
   "id": "2c00eab8",
   "metadata": {},
   "outputs": [
    {
     "data": {
      "text/plain": [
       "DataFrame[Unique Key: int, Created Date: string, Closed Date: string, Agency: string, Agency Name: string, Complaint Type: string, Descriptor: string, Location Type: string, Incident Zip: string, Incident Address: string, Street Name: string, Cross Street 1: string, Cross Street 2: string, Intersection Street 1: string, Intersection Street 2: string, Address Type: string, City: string, Landmark: string, Facility Type: string, Status: string, Due Date: string, Resolution Description: string, Resolution Action Updated Date: string, Community Board: string, BBL: string, Borough: string, X Coordinate (State Plane): bigint, Y Coordinate (State Plane): string, Open Data Channel Type: string, Park Facility Name: string, Park Borough: string, Vehicle Type: string, Taxi Company Borough: string, Taxi Pick Up Location: string, Bridge Highway Name: string, Bridge Highway Direction: string, Road Ramp: string, Bridge Highway Segment: string, Latitude: double, Longitude: double, Location: string]"
      ]
     },
     "execution_count": 20,
     "metadata": {},
     "output_type": "execute_result"
    }
   ],
   "source": [
    "df_pyspark"
   ]
  },
  {
   "cell_type": "code",
   "execution_count": 21,
   "id": "9bade6e4",
   "metadata": {},
   "outputs": [
    {
     "data": {
      "text/plain": [
       "0"
      ]
     },
     "execution_count": 21,
     "metadata": {},
     "output_type": "execute_result"
    }
   ],
   "source": [
    "df_pyspark.filter(\"Agency==''\").select([\"Agency\"]).count()"
   ]
  },
  {
   "cell_type": "code",
   "execution_count": 22,
   "id": "3a271f7f",
   "metadata": {},
   "outputs": [],
   "source": [
    "df_pyspark=df_pyspark.withColumnRenamed(\"Closed Date\", \"Closed_Date\")\n",
    "df_pyspark=df_pyspark.withColumnRenamed(\"Due Date\", \"Due_Date\")\n",
    "df_pyspark=df_pyspark.withColumnRenamed(\"Unique Key\", \"Unique_Key\")\n",
    "df_pyspark=df_pyspark.withColumnRenamed(\"Created Date\", \"Created_Date\")\n",
    "df_pyspark=df_pyspark.withColumnRenamed(\"Resolution Action Updated Date\", \"Resolution_Action_Updated_Date\")"
   ]
  },
  {
   "cell_type": "code",
   "execution_count": 23,
   "id": "80c0e798",
   "metadata": {},
   "outputs": [
    {
     "name": "stdout",
     "output_type": "stream",
     "text": [
      "root\n",
      " |-- Unique_Key: integer (nullable = true)\n",
      " |-- Created_Date: string (nullable = true)\n",
      " |-- Closed_Date: string (nullable = true)\n",
      " |-- Agency: string (nullable = true)\n",
      " |-- Agency Name: string (nullable = true)\n",
      " |-- Complaint Type: string (nullable = true)\n",
      " |-- Descriptor: string (nullable = true)\n",
      " |-- Location Type: string (nullable = true)\n",
      " |-- Incident Zip: string (nullable = true)\n",
      " |-- Incident Address: string (nullable = true)\n",
      " |-- Street Name: string (nullable = true)\n",
      " |-- Cross Street 1: string (nullable = true)\n",
      " |-- Cross Street 2: string (nullable = true)\n",
      " |-- Intersection Street 1: string (nullable = true)\n",
      " |-- Intersection Street 2: string (nullable = true)\n",
      " |-- Address Type: string (nullable = true)\n",
      " |-- City: string (nullable = true)\n",
      " |-- Landmark: string (nullable = true)\n",
      " |-- Facility Type: string (nullable = true)\n",
      " |-- Status: string (nullable = true)\n",
      " |-- Due_Date: string (nullable = true)\n",
      " |-- Resolution Description: string (nullable = true)\n",
      " |-- Resolution_Action_Updated_Date: string (nullable = true)\n",
      " |-- Community Board: string (nullable = true)\n",
      " |-- BBL: string (nullable = true)\n",
      " |-- Borough: string (nullable = true)\n",
      " |-- X Coordinate (State Plane): long (nullable = true)\n",
      " |-- Y Coordinate (State Plane): string (nullable = true)\n",
      " |-- Open Data Channel Type: string (nullable = true)\n",
      " |-- Park Facility Name: string (nullable = true)\n",
      " |-- Park Borough: string (nullable = true)\n",
      " |-- Vehicle Type: string (nullable = true)\n",
      " |-- Taxi Company Borough: string (nullable = true)\n",
      " |-- Taxi Pick Up Location: string (nullable = true)\n",
      " |-- Bridge Highway Name: string (nullable = true)\n",
      " |-- Bridge Highway Direction: string (nullable = true)\n",
      " |-- Road Ramp: string (nullable = true)\n",
      " |-- Bridge Highway Segment: string (nullable = true)\n",
      " |-- Latitude: double (nullable = true)\n",
      " |-- Longitude: double (nullable = true)\n",
      " |-- Location: string (nullable = true)\n",
      "\n"
     ]
    }
   ],
   "source": [
    "df_pyspark.printSchema()"
   ]
  },
  {
   "cell_type": "code",
   "execution_count": 24,
   "id": "d7255020",
   "metadata": {},
   "outputs": [
    {
     "name": "stdout",
     "output_type": "stream",
     "text": [
      "+--------------------+--------------------+\n",
      "|        Created_Date|         Closed_Date|\n",
      "+--------------------+--------------------+\n",
      "|05/28/2013 10:12:...|05/28/2013 02:24:...|\n",
      "|05/28/2013 04:06:...|05/31/2013 12:34:...|\n",
      "|05/28/2013 03:29:...|06/05/2013 09:24:...|\n",
      "|05/28/2013 07:55:...|05/29/2013 07:21:...|\n",
      "|05/28/2013 02:50:...|                null|\n",
      "|05/28/2013 04:43:...|06/13/2013 01:06:...|\n",
      "|05/28/2013 10:32:...|05/30/2013 08:09:...|\n",
      "|05/28/2013 06:49:...|05/31/2013 01:55:...|\n",
      "|05/28/2013 07:03:...|05/31/2013 01:55:...|\n",
      "|05/28/2013 04:18:...|06/04/2013 10:09:...|\n",
      "|05/28/2013 12:03:...|05/28/2013 01:20:...|\n",
      "|05/28/2013 09:32:...|07/24/2013 10:37:...|\n",
      "|05/28/2013 11:07:...|05/29/2013 01:22:...|\n",
      "|05/28/2013 05:16:...|                null|\n",
      "|05/28/2013 12:04:...|                null|\n",
      "|05/28/2013 05:08:...|05/28/2013 06:30:...|\n",
      "|05/28/2013 11:26:...|06/07/2013 09:15:...|\n",
      "|05/28/2013 08:24:...|05/29/2013 07:28:...|\n",
      "|05/28/2013 02:24:...|05/30/2013 12:00:...|\n",
      "|05/28/2013 12:00:...|06/14/2013 12:00:...|\n",
      "+--------------------+--------------------+\n",
      "only showing top 20 rows\n",
      "\n"
     ]
    }
   ],
   "source": [
    "df_pyspark.select([\"Created_Date\",\"Closed_Date\"]).show()"
   ]
  },
  {
   "cell_type": "code",
   "execution_count": 25,
   "id": "37a4e415",
   "metadata": {},
   "outputs": [],
   "source": [
    "from pyspark.sql.functions import when \n",
    "from pyspark.sql.functions import coalesce "
   ]
  },
  {
   "cell_type": "code",
   "execution_count": 26,
   "id": "359f4b60",
   "metadata": {},
   "outputs": [],
   "source": [
    "tmp = df_pyspark.withColumn('Merged_Closed_due_Date',coalesce(df_pyspark[\"Closed_Date\"], df_pyspark[\"Due_Date\"]))"
   ]
  },
  {
   "cell_type": "code",
   "execution_count": 27,
   "id": "4758e957",
   "metadata": {},
   "outputs": [
    {
     "name": "stdout",
     "output_type": "stream",
     "text": [
      "+----------+--------------------+--------------------+------+--------------------+--------------------+--------------------+--------------------+------------+--------------------+--------------------+------------------+----------------+---------------------+---------------------+------------+-------------------+--------+-------------+------+--------------------+----------------------+------------------------------+----------------+----------+-------------+--------------------------+--------------------------+----------------------+------------------+-------------+------------+--------------------+---------------------+-------------------+------------------------+---------+----------------------+------------------+------------------+--------------------+----------------------+\n",
      "|Unique_Key|        Created_Date|         Closed_Date|Agency|         Agency Name|      Complaint Type|          Descriptor|       Location Type|Incident Zip|    Incident Address|         Street Name|    Cross Street 1|  Cross Street 2|Intersection Street 1|Intersection Street 2|Address Type|               City|Landmark|Facility Type|Status|            Due_Date|Resolution Description|Resolution_Action_Updated_Date| Community Board|       BBL|      Borough|X Coordinate (State Plane)|Y Coordinate (State Plane)|Open Data Channel Type|Park Facility Name| Park Borough|Vehicle Type|Taxi Company Borough|Taxi Pick Up Location|Bridge Highway Name|Bridge Highway Direction|Road Ramp|Bridge Highway Segment|          Latitude|         Longitude|            Location|Merged_Closed_due_Date|\n",
      "+----------+--------------------+--------------------+------+--------------------+--------------------+--------------------+--------------------+------------+--------------------+--------------------+------------------+----------------+---------------------+---------------------+------------+-------------------+--------+-------------+------+--------------------+----------------------+------------------------------+----------------+----------+-------------+--------------------------+--------------------------+----------------------+------------------+-------------+------------+--------------------+---------------------+-------------------+------------------------+---------+----------------------+------------------+------------------+--------------------+----------------------+\n",
      "|  25620844|05/28/2013 10:12:...|05/28/2013 02:24:...|  NYPD|New York City Pol...| Urinating in Public|                 N/A|     Street/Sidewalk|       10459|1228 SOUTHERN BOU...|  SOUTHERN BOULEVARD|       HOME STREET|  FREEMAN STREET|                 null|                 null|     ADDRESS|              BRONX|    null|     Precinct|Closed|05/28/2013 06:12:...|  The Police Depart...|          05/28/2013 02:24:...|        03 BRONX|2029790012|        BRONX|                   1014173|                    241412|                 PHONE|       Unspecified|        BRONX|        null|                null|                 null|               null|                    null|     null|                  null| 40.82924494625826|-73.89187449031489|(40.8292449462582...|  05/28/2013 02:24:...|\n",
      "|  25620853|05/28/2013 04:06:...|05/31/2013 12:34:...|   DPR|Department of Par...|           Dead Tree|     Dead/Dying Tree|              Street|       11236|10802 FLATLANDS N...|FLATLANDS NINTH S...|   EAST 108 STREET|        DEAD END|                 null|                 null|     ADDRESS|           BROOKLYN|    null|          N/A|Closed|06/05/2013 07:43:...|  The Department of...|          05/31/2013 12:34:...|     18 BROOKLYN|3082737501|     BROOKLYN|                   1016796|                    172561|                 PHONE|       Unspecified|     BROOKLYN|        null|                null|                 null|               null|                    null|     null|                  null| 40.64025689607397|-73.88272946731684|(40.6402568960739...|  05/31/2013 12:34:...|\n",
      "|  25620854|05/28/2013 03:29:...|06/05/2013 09:24:...|   DPR|Department of Par...|           Dead Tree|     Dead/Dying Tree|              Street|       11370|     30-36 83 STREET|           83 STREET|         30 AVENUE|       31 AVENUE|                 null|                 null|     ADDRESS|      EAST ELMHURST|    null|          N/A|Closed|06/05/2013 06:52:...|  The Department of...|          06/05/2013 09:24:...|       03 QUEENS|4013800023|       QUEENS|                   1016017|                    216370|                 PHONE|       Unspecified|       QUEENS|        null|                null|                 null|               null|                    null|     null|                  null|40.760505061647166|  -73.885329735479|(40.7605050616471...|  06/05/2013 09:24:...|\n",
      "|  25620855|05/28/2013 07:55:...|05/29/2013 07:21:...|   DPR|Department of Par...|           Dead Tree|     Dead/Dying Tree|              Street|       11413|   227-18 141 AVENUE|          141 AVENUE|        227 STREET|      228 STREET|                 null|                 null|     ADDRESS|SPRINGFIELD GARDENS|    null|          N/A|Closed|06/02/2013 07:55:...|  The Department of...|          05/29/2013 07:20:...|       13 QUEENS|4131910297|       QUEENS|                   1054155|                    182971|                 PHONE|       Unspecified|       QUEENS|        null|                null|                 null|               null|                    null|     null|                  null| 40.66861388568256|-73.74800925747168|(40.6686138856825...|  05/29/2013 07:21:...|\n",
      "|  25620856|05/28/2013 02:50:...|                null|   DPR|Department of Par...|           Dead Tree|     Dead/Dying Tree|              Street|       10312|  666 RATHBUN AVENUE|      RATHBUN AVENUE|   HUGUENOT AVENUE|ELLSWORTH AVENUE|                 null|                 null|     ADDRESS|      STATEN ISLAND|    null|          N/A|  Open|06/02/2013 02:50:...|  The Department of...|                          null|03 STATEN ISLAND|5068430044|STATEN ISLAND|                    929316|                    135821|                 PHONE|       Unspecified|STATEN ISLAND|        null|                null|                 null|               null|                    null|     null|                  null| 40.53930264937191|-74.19764060985678|(40.5393026493719...|  06/02/2013 02:50:...|\n",
      "|  25620860|05/28/2013 04:43:...|06/13/2013 01:06:...|   DCA|Department of Con...|  Consumer Complaint|     Clothing Damage|                null|       10075|  265 EAST 78 STREET|      EAST 78 STREET|          3 AVENUE|        2 AVENUE|                 null|                 null|     ADDRESS|           NEW YORK|    null|          N/A|Closed|06/13/2013 04:43:...|  The Department of...|          06/13/2013 01:06:...|    08 MANHATTAN|1014330022|    MANHATTAN|                    996319|                    220917|                 PHONE|       Unspecified|    MANHATTAN|        null|                null|                 null|               null|                    null|     null|                  null| 40.77303422968557|-73.95642599348551|(40.7730342296855...|  06/13/2013 01:06:...|\n",
      "|  25620866|05/28/2013 10:32:...|05/30/2013 08:09:...|  NYPD|New York City Pol...|Noise - Street/Si...|        Loud Talking|     Street/Sidewalk|       10034|    176 NAGLE AVENUE|        NAGLE AVENUE|    DYCKMAN STREET|    NYCTA SUBWAY|                 null|                 null|     ADDRESS|           NEW YORK|    null|     Precinct|Closed|05/29/2013 06:32:...|  The Police Depart...|          05/30/2013 08:09:...|    12 MANHATTAN|1022170047|    MANHATTAN|                   1005179|                    253245|                ONLINE|       Unspecified|    MANHATTAN|        null|                null|                 null|               null|                    null|     null|                  null| 40.86174893459112|-73.92433698102494|(40.8617489345911...|  05/30/2013 08:09:...|\n",
      "|  25620867|05/28/2013 06:49:...|05/31/2013 01:55:...| DOHMH|Department of Hea...|      Food Poisoning|              1 or 2|Restaurant/Bar/De...|       10003|        227 1 AVENUE|            1 AVENUE|    EAST 13 STREET|  EAST 14 STREET|                 null|                 null|     ADDRESS|           NEW YORK|    null|          N/A|Closed|06/11/2013 06:49:...|  The Department of...|          05/31/2013 01:54:...|    03 MANHATTAN|1004550038|    MANHATTAN|                    989005|                    205592|                 PHONE|       Unspecified|    MANHATTAN|        null|                null|                 null|               null|                    null|     null|                  null|  40.7309779455853|-73.98284334851826|(40.7309779455853...|  05/31/2013 01:55:...|\n",
      "|  25620868|05/28/2013 07:03:...|05/31/2013 01:55:...| DOHMH|Department of Hea...|      Food Poisoning|              1 or 2|Restaurant/Bar/De...|       10003|        227 1 AVENUE|            1 AVENUE|    EAST 13 STREET|  EAST 14 STREET|                 null|                 null|     ADDRESS|           NEW YORK|    null|          N/A|Closed|06/11/2013 06:49:...|  The Department of...|          05/31/2013 01:54:...|    03 MANHATTAN|1004550038|    MANHATTAN|                    989005|                    205592|                 PHONE|       Unspecified|    MANHATTAN|        null|                null|                 null|               null|                    null|     null|                  null|  40.7309779455853|-73.98284334851826|(40.7309779455853...|  05/31/2013 01:55:...|\n",
      "|  25620872|05/28/2013 04:18:...|06/04/2013 10:09:...| DOHMH|Department of Hea...|  Indoor Air Quality|Chemical Vapors/G...|Other (Explain Be...|       10013|     44 WHITE STREET|        WHITE STREET|     CHURCH STREET|  FRANKLIN PLACE|                 null|                 null|     ADDRESS|           NEW YORK|    null|          N/A|Closed|06/27/2013 04:18:...|  The Department of...|          06/04/2013 10:09:...|    01 MANHATTAN|1001930012|    MANHATTAN|                    983062|                    201084|                ONLINE|       Unspecified|    MANHATTAN|        null|                null|                 null|               null|                    null|     null|                  null| 40.71860577784937|-74.00428566104473|(40.7186057778493...|  06/04/2013 10:09:...|\n",
      "|  25620875|05/28/2013 12:03:...|05/28/2013 01:20:...|   DEP|Department of Env...| Hazardous Materials| Chemical Odor (HD1)|                null|       11236|642 EAST   94 STREET|    EAST   94 STREET|          AVENUE A|        AVENUE B|                 null|                 null|     ADDRESS|           BROOKLYN|    null|          N/A|Closed|                null|  The Department of...|          05/28/2013 01:20:...|     17 BROOKLYN|3047530057|     BROOKLYN|                   1008011|                    176923|                 PHONE|       Unspecified|     BROOKLYN|        null|                null|                 null|               null|                    null|     null|                  null|40.652257562715135|-73.91436840287662|(40.6522575627151...|  05/28/2013 01:20:...|\n",
      "|  25620876|05/28/2013 09:32:...|07/24/2013 10:37:...|   DPR|Department of Par...|        Damaged Tree|Branch Cracked an...|              Street|       11355|    45-74 157 STREET|          157 STREET|         45 AVENUE|       46 AVENUE|                 null|                 null|     ADDRESS|           FLUSHING|    null|          N/A|Closed|07/25/2013 10:40:...|  The Department of...|          07/24/2013 10:36:...|       07 QUEENS|4054350082|       QUEENS|                   1037045|                    214394|                 PHONE|       Unspecified|       QUEENS|        null|                null|                 null|               null|                    null|     null|                  null| 40.75498089829135|-73.80944006042999|(40.7549808982913...|  07/24/2013 10:37:...|\n",
      "|  25620877|05/28/2013 11:07:...|05/29/2013 01:22:...|   DEP|Department of Env...|    Industrial Waste|Chemical Spill (IAC)|                null|       11235|                null|                null|BRIGHTON BEACH AVE|  BRIGHTON 11 ST| BRIGHTON BEACH AV...|   BRIGHTON 11 STREET|INTERSECTION|           BROOKLYN|    null|          N/A|Closed|                null|  The Department of...|          05/29/2013 01:22:...|     13 BROOKLYN|      null|     BROOKLYN|                    995635|                    149905|                 PHONE|       Unspecified|     BROOKLYN|        null|                null|                 null|               null|                    null|     null|                  null| 40.57812331265048|-73.95901546652755|(40.5781233126504...|  05/29/2013 01:22:...|\n",
      "|  25620879|05/28/2013 05:16:...|                null| DOHMH|Department of Hea...|      Standing Water| Swimming Pool Cover| 1-2 Family Dwelling|       10304| 1028 TODT HILL ROAD|      TODT HILL ROAD|       VALLEY ROAD|     FLAGG PLACE|                 null|                 null|     ADDRESS|      STATEN ISLAND|    null|          N/A|  Open|06/27/2013 05:16:...|  The Department of...|                          null|02 STATEN ISLAND|      null|STATEN ISLAND|                    953356|                    152387|                 PHONE|       Unspecified|STATEN ISLAND|        null|                null|                 null|               null|                    null|     null|                  null| 40.58488938649835|-74.11122571379768|(40.5848893864983...|  06/27/2013 05:16:...|\n",
      "|  25620880|05/28/2013 12:04:...|                null| DOHMH|Department of Hea...|      Standing Water|Other - Explain B...|               Other|       10013|   139 CENTER STREET|       CENTER STREET|      WHITE STREET|   WALKER STREET|                 null|                 null|     ADDRESS|           NEW YORK|    null|          N/A|  Open|06/27/2013 12:04:...|  The Department of...|                          null|    01 MANHATTAN|1001977502|    MANHATTAN|                    984083|                    200578|                 PHONE|       Unspecified|    MANHATTAN|        null|                null|                 null|               null|                    null|     null|                  null|40.717217007536156|-74.00060243306505|(40.7172170075361...|  06/27/2013 12:04:...|\n",
      "|  25620881|05/28/2013 05:08:...|05/28/2013 06:30:...|   DEP|Department of Env...|               Sewer|Highway Flooding ...|                null|       11234|                null|                null|         BELT PKWY|    FLATBUSH AVE|         BELT PARKWAY|      FLATBUSH AVENUE|INTERSECTION|           BROOKLYN|    null|          N/A|Closed|                null|  The Department of...|          05/28/2013 06:30:...|     18 BROOKLYN|      null|     BROOKLYN|                   1009834|                    156615|               UNKNOWN|       Unspecified|     BROOKLYN|        null|                null|                 null|               null|                    null|     null|                  null| 40.59651130968669|-73.90787551923017|(40.5965113096866...|  05/28/2013 06:30:...|\n",
      "|  25620883|05/28/2013 11:26:...|06/07/2013 09:15:...|   DEP|Department of Env...|        Water System|Excessive Water I...|                null|       10455|      879 MACY PLACE|          MACY PLACE|      PROSPECT AVE|       HEWITT PL|                 null|                 null|     ADDRESS|              BRONX|    null|          N/A|Closed|                null|  The Department of...|          06/07/2013 09:15:...|        02 BRONX|2026880073|        BRONX|                   1011594|                    237314|                 PHONE|       Unspecified|        BRONX|        null|                null|                 null|               null|                    null|     null|                  null| 40.81800546648237|-73.90121029072117|(40.8180054664823...|  06/07/2013 09:15:...|\n",
      "|  25620884|05/28/2013 08:24:...|05/29/2013 07:28:...|   DPR|Department of Par...|        Damaged Tree|    Tree Trunk Split|              Street|       11205|  116 CLINTON AVENUE|      CLINTON AVENUE|       PARK AVENUE|   MYRTLE AVENUE|                 null|                 null|     ADDRESS|           BROOKLYN|    null|          N/A|Closed|06/02/2013 08:24:...|  The condition was...|          05/29/2013 07:28:...|     02 BROOKLYN|3018870078|     BROOKLYN|                    992828|                    192249|                 PHONE|       Unspecified|     BROOKLYN|        null|                null|                 null|               null|                    null|     null|                  null| 40.69435171040216|-73.96906647478316|(40.6943517104021...|  05/29/2013 07:28:...|\n",
      "|  25620887|05/28/2013 02:24:...|05/30/2013 12:00:...|   DOB|Department of Bui...|General Construct...|Structural Stabil...|                null|       11216|  816 PROSPECT PLACE|      PROSPECT PLACE|   NOSTRAND AVENUE| NEW YORK AVENUE|                 null|                 null|     ADDRESS|           BROOKLYN|    null|          N/A|Closed|                null|  The Department of...|          05/30/2013 12:00:...|     08 BROOKLYN|3012340010|     BROOKLYN|                    998304|                    184933|               UNKNOWN|       Unspecified|     BROOKLYN|        null|                null|                 null|               null|                    null|     null|                  null| 40.67426396183534|-73.94933447921152|(40.6742639618353...|  05/30/2013 12:00:...|\n",
      "|  25620893|05/28/2013 12:00:...|06/14/2013 12:00:...| DOHMH|Department of Hea...|Unsanitary Animal...|        Animal Waste| 1-2 Family Dwelling|       11411|   115-01 217 STREET|          217 STREET|        115 AVENUE|        115 ROAD|                 null|                 null|     ADDRESS|    Cambria Heights|    null|          N/A|Closed|06/27/2013 12:16:...|  The Department of...|          06/14/2013 12:00:...|       13 QUEENS|4112810030|       QUEENS|                   1056293|                    194722|                 PHONE|       Unspecified|       QUEENS|        null|                null|                 null|               null|                    null|     null|                  null|40.700850415092525|-73.74017668245126|(40.7008504150925...|  06/14/2013 12:00:...|\n",
      "+----------+--------------------+--------------------+------+--------------------+--------------------+--------------------+--------------------+------------+--------------------+--------------------+------------------+----------------+---------------------+---------------------+------------+-------------------+--------+-------------+------+--------------------+----------------------+------------------------------+----------------+----------+-------------+--------------------------+--------------------------+----------------------+------------------+-------------+------------+--------------------+---------------------+-------------------+------------------------+---------+----------------------+------------------+------------------+--------------------+----------------------+\n",
      "only showing top 20 rows\n",
      "\n"
     ]
    }
   ],
   "source": [
    "tmp.show()"
   ]
  },
  {
   "cell_type": "code",
   "execution_count": 28,
   "id": "e5db3211",
   "metadata": {},
   "outputs": [
    {
     "data": {
      "text/plain": [
       "['Unique_Key',\n",
       " 'Created_Date',\n",
       " 'Closed_Date',\n",
       " 'Agency',\n",
       " 'Agency Name',\n",
       " 'Complaint Type',\n",
       " 'Descriptor',\n",
       " 'Location Type',\n",
       " 'Incident Zip',\n",
       " 'Incident Address',\n",
       " 'Street Name',\n",
       " 'Cross Street 1',\n",
       " 'Cross Street 2',\n",
       " 'Intersection Street 1',\n",
       " 'Intersection Street 2',\n",
       " 'Address Type',\n",
       " 'City',\n",
       " 'Landmark',\n",
       " 'Facility Type',\n",
       " 'Status',\n",
       " 'Due_Date',\n",
       " 'Resolution Description',\n",
       " 'Resolution_Action_Updated_Date',\n",
       " 'Community Board',\n",
       " 'BBL',\n",
       " 'Borough',\n",
       " 'X Coordinate (State Plane)',\n",
       " 'Y Coordinate (State Plane)',\n",
       " 'Open Data Channel Type',\n",
       " 'Park Facility Name',\n",
       " 'Park Borough',\n",
       " 'Vehicle Type',\n",
       " 'Taxi Company Borough',\n",
       " 'Taxi Pick Up Location',\n",
       " 'Bridge Highway Name',\n",
       " 'Bridge Highway Direction',\n",
       " 'Road Ramp',\n",
       " 'Bridge Highway Segment',\n",
       " 'Latitude',\n",
       " 'Longitude',\n",
       " 'Location',\n",
       " 'Merged_Closed_due_Date']"
      ]
     },
     "execution_count": 28,
     "metadata": {},
     "output_type": "execute_result"
    }
   ],
   "source": [
    "tmp.columns"
   ]
  },
  {
   "cell_type": "code",
   "execution_count": 29,
   "id": "4fa6a45d",
   "metadata": {},
   "outputs": [],
   "source": [
    "df_pyspark_updated=tmp.withColumn('Merged_Created_Resolution_Date',coalesce(df_pyspark[ 'Created_Date'], df_pyspark[\"Resolution_Action_Updated_Date\"]))"
   ]
  },
  {
   "cell_type": "code",
   "execution_count": 30,
   "id": "0c4bd8ca",
   "metadata": {},
   "outputs": [
    {
     "data": {
      "text/plain": [
       "Row(Unique_Key=25620844, Created_Date='05/28/2013 10:12:39 AM', Closed_Date='05/28/2013 02:24:37 PM', Agency='NYPD', Agency Name='New York City Police Department', Complaint Type='Urinating in Public', Descriptor='N/A', Location Type='Street/Sidewalk', Incident Zip='10459', Incident Address='1228 SOUTHERN BOULEVARD', Street Name='SOUTHERN BOULEVARD', Cross Street 1='HOME STREET', Cross Street 2='FREEMAN STREET', Intersection Street 1=None, Intersection Street 2=None, Address Type='ADDRESS', City='BRONX', Landmark=None, Facility Type='Precinct', Status='Closed', Due_Date='05/28/2013 06:12:39 PM', Resolution Description='The Police Department responded to the complaint and took action to fix the condition.', Resolution_Action_Updated_Date='05/28/2013 02:24:08 PM', Community Board='03 BRONX', BBL='2029790012', Borough='BRONX', X Coordinate (State Plane)=1014173, Y Coordinate (State Plane)='241412', Open Data Channel Type='PHONE', Park Facility Name='Unspecified', Park Borough='BRONX', Vehicle Type=None, Taxi Company Borough=None, Taxi Pick Up Location=None, Bridge Highway Name=None, Bridge Highway Direction=None, Road Ramp=None, Bridge Highway Segment=None, Latitude=40.82924494625826, Longitude=-73.89187449031489, Location='(40.82924494625826, -73.89187449031489)', Merged_Closed_due_Date='05/28/2013 02:24:37 PM', Merged_Created_Resolution_Date='05/28/2013 10:12:39 AM')"
      ]
     },
     "execution_count": 30,
     "metadata": {},
     "output_type": "execute_result"
    }
   ],
   "source": [
    "df_pyspark_updated.head()"
   ]
  },
  {
   "cell_type": "code",
   "execution_count": 31,
   "id": "4dfd38f3",
   "metadata": {
    "scrolled": true
   },
   "outputs": [
    {
     "name": "stdout",
     "output_type": "stream",
     "text": [
      "+----------+--------------------+\n",
      "|Unique_Key|         Closed_Date|\n",
      "+----------+--------------------+\n",
      "|  25620844|05/28/2013 02:24:...|\n",
      "|  25620853|05/31/2013 12:34:...|\n",
      "|  25620854|06/05/2013 09:24:...|\n",
      "|  25620855|05/29/2013 07:21:...|\n",
      "|  25620856|06/02/2013 02:50:...|\n",
      "|  25620860|06/13/2013 01:06:...|\n",
      "|  25620866|05/30/2013 08:09:...|\n",
      "|  25620867|05/31/2013 01:55:...|\n",
      "|  25620868|05/31/2013 01:55:...|\n",
      "|  25620872|06/04/2013 10:09:...|\n",
      "|  25620875|05/28/2013 01:20:...|\n",
      "|  25620876|07/24/2013 10:37:...|\n",
      "|  25620877|05/29/2013 01:22:...|\n",
      "|  25620879|06/27/2013 05:16:...|\n",
      "|  25620880|06/27/2013 12:04:...|\n",
      "|  25620881|05/28/2013 06:30:...|\n",
      "|  25620883|06/07/2013 09:15:...|\n",
      "|  25620884|05/29/2013 07:28:...|\n",
      "|  25620887|05/30/2013 12:00:...|\n",
      "|  25620893|06/14/2013 12:00:...|\n",
      "+----------+--------------------+\n",
      "only showing top 20 rows\n",
      "\n"
     ]
    }
   ],
   "source": [
    "updated_due_date=df_pyspark.select(\"Unique_Key\",\n",
    "           when(df_pyspark.Closed_Date.isNull(), df_pyspark.Due_Date).otherwise(df_pyspark.Closed_Date).alias('Closed_Date')\n",
    "          )\\\n",
    "   .show()"
   ]
  },
  {
   "cell_type": "code",
   "execution_count": 32,
   "id": "951f982e",
   "metadata": {},
   "outputs": [],
   "source": [
    "#when(df_pyspark.Closed_Date.isNull(), df_pyspark.Due_Date).otherwise(df_pyspark.Closed_Date).alias('Closed_Date').show()\n",
    "\n",
    "# df.select(listCols.map(m=>col(m)):_*).show()\n",
    "# #result = dataframe.select(columnNames.select(c => col(c)): _*)\n",
    "# #new_column_2 = when(col(\"B\").isNull(), (CONSTANT + col(\"C\"))).otherwise(col(\"B\"))\n",
    "updated_pyspark=df_pyspark.select('Unique_Key','Created_Date','Agency','Agency Name','Complaint Type','Descriptor','Location Type','Incident Zip','Incident Address','Street Name','Cross Street 1','Cross Street 2','Intersection Street 1','Intersection Street 2','Address Type','City','Landmark','Facility Type','Status','Due_Date','Resolution Description','Resolution_Action_Updated_Date','Community Board','BBL','Borough','X Coordinate (State Plane)','Y Coordinate (State Plane)','Open Data Channel Type','Park Facility Name','Park Borough','Vehicle Type','Taxi Company Borough','Taxi Pick Up Location','Bridge Highway Name','Bridge Highway Direction','Road Ramp','Bridge Highway Segment','Latitude','Longitude','Location',when(df_pyspark.Closed_Date.isNull(), df_pyspark.Due_Date).otherwise(df_pyspark.Closed_Date).alias('Closed_Date'))\n",
    "#updated_pyspark=updated_pyspark.select('Unique_Key','Created Date','Agency','Agency Name','Complaint Type','Descriptor','Location Type','Incident Zip','Incident Address','Street Name','Cross Street 1','Cross Street 2','Intersection Street 1','Intersection Street 2','Address Type','City','Landmark','Facility Type','Status','Resolution Description','Resolution Action Updated Date','Community Board','BBL','Borough','X Coordinate (State Plane)','Y Coordinate (State Plane)','Open Data Channel Type','Park Facility Name','Park Borough','Vehicle Type','Taxi Company Borough','Taxi Pick Up Location','Bridge Highway Name','Bridge Highway Direction','Road Ramp','Bridge Highway Segment','Latitude','Longitude','Location',when(df_pyspark.Due_Date.isNull(), df_pyspark.Closed_Date).otherwise(df_pyspark.Due_Date).alias('Due_Date'))"
   ]
  },
  {
   "cell_type": "code",
   "execution_count": 33,
   "id": "9007cdae",
   "metadata": {},
   "outputs": [
    {
     "data": {
      "text/plain": [
       "['Unique_Key',\n",
       " 'Created_Date',\n",
       " 'Agency',\n",
       " 'Agency Name',\n",
       " 'Complaint Type',\n",
       " 'Descriptor',\n",
       " 'Location Type',\n",
       " 'Incident Zip',\n",
       " 'Incident Address',\n",
       " 'Street Name',\n",
       " 'Cross Street 1',\n",
       " 'Cross Street 2',\n",
       " 'Intersection Street 1',\n",
       " 'Intersection Street 2',\n",
       " 'Address Type',\n",
       " 'City',\n",
       " 'Landmark',\n",
       " 'Facility Type',\n",
       " 'Status',\n",
       " 'Due_Date',\n",
       " 'Resolution Description',\n",
       " 'Resolution_Action_Updated_Date',\n",
       " 'Community Board',\n",
       " 'BBL',\n",
       " 'Borough',\n",
       " 'X Coordinate (State Plane)',\n",
       " 'Y Coordinate (State Plane)',\n",
       " 'Open Data Channel Type',\n",
       " 'Park Facility Name',\n",
       " 'Park Borough',\n",
       " 'Vehicle Type',\n",
       " 'Taxi Company Borough',\n",
       " 'Taxi Pick Up Location',\n",
       " 'Bridge Highway Name',\n",
       " 'Bridge Highway Direction',\n",
       " 'Road Ramp',\n",
       " 'Bridge Highway Segment',\n",
       " 'Latitude',\n",
       " 'Longitude',\n",
       " 'Location',\n",
       " 'Closed_Date']"
      ]
     },
     "execution_count": 33,
     "metadata": {},
     "output_type": "execute_result"
    }
   ],
   "source": [
    "updated_pyspark.columns"
   ]
  },
  {
   "cell_type": "code",
   "execution_count": 34,
   "id": "ce3608f8",
   "metadata": {},
   "outputs": [],
   "source": [
    "updated_pyspark=updated_pyspark.select('Unique_Key','Created_Date','Closed_Date','Agency','Agency Name','Complaint Type','Descriptor','Location Type','Incident Zip','Incident Address','Street Name','Cross Street 1','Cross Street 2','Intersection Street 1','Intersection Street 2','Address Type','City','Landmark','Facility Type','Status','Resolution Description','Resolution_Action_Updated_Date','Community Board','BBL','Borough','X Coordinate (State Plane)','Y Coordinate (State Plane)','Open Data Channel Type','Park Facility Name','Park Borough','Vehicle Type','Taxi Company Borough','Taxi Pick Up Location','Bridge Highway Name','Bridge Highway Direction','Road Ramp','Bridge Highway Segment','Latitude','Longitude','Location',when(updated_pyspark.Due_Date.isNull(), updated_pyspark.Closed_Date).otherwise(updated_pyspark.Due_Date).alias('Due_Date'))"
   ]
  },
  {
   "cell_type": "code",
   "execution_count": 35,
   "id": "b6a9fb7d",
   "metadata": {},
   "outputs": [],
   "source": [
    "updated_pyspark=updated_pyspark.select('Unique_Key','Closed_Date','Agency','Agency Name','Complaint Type','Descriptor','Location Type','Incident Zip','Incident Address','Street Name','Cross Street 1','Cross Street 2','Intersection Street 1','Intersection Street 2','Address Type','City','Landmark','Facility Type','Status','Due_Date','Resolution Description','Resolution_Action_Updated_Date','Community Board','BBL','Borough','X Coordinate (State Plane)','Y Coordinate (State Plane)','Open Data Channel Type','Park Facility Name','Park Borough','Vehicle Type','Taxi Company Borough','Taxi Pick Up Location','Bridge Highway Name','Bridge Highway Direction','Road Ramp','Bridge Highway Segment','Latitude','Longitude','Location',when(updated_pyspark.Created_Date.isNull(), updated_pyspark.Resolution_Action_Updated_Date).otherwise(updated_pyspark.Created_Date).alias('Created_Date'))"
   ]
  },
  {
   "cell_type": "code",
   "execution_count": 36,
   "id": "f9a8df4f",
   "metadata": {},
   "outputs": [
    {
     "data": {
      "text/plain": [
       "['Unique_Key',\n",
       " 'Closed_Date',\n",
       " 'Agency',\n",
       " 'Agency Name',\n",
       " 'Complaint Type',\n",
       " 'Descriptor',\n",
       " 'Location Type',\n",
       " 'Incident Zip',\n",
       " 'Incident Address',\n",
       " 'Street Name',\n",
       " 'Cross Street 1',\n",
       " 'Cross Street 2',\n",
       " 'Intersection Street 1',\n",
       " 'Intersection Street 2',\n",
       " 'Address Type',\n",
       " 'City',\n",
       " 'Landmark',\n",
       " 'Facility Type',\n",
       " 'Status',\n",
       " 'Due_Date',\n",
       " 'Resolution Description',\n",
       " 'Resolution_Action_Updated_Date',\n",
       " 'Community Board',\n",
       " 'BBL',\n",
       " 'Borough',\n",
       " 'X Coordinate (State Plane)',\n",
       " 'Y Coordinate (State Plane)',\n",
       " 'Open Data Channel Type',\n",
       " 'Park Facility Name',\n",
       " 'Park Borough',\n",
       " 'Vehicle Type',\n",
       " 'Taxi Company Borough',\n",
       " 'Taxi Pick Up Location',\n",
       " 'Bridge Highway Name',\n",
       " 'Bridge Highway Direction',\n",
       " 'Road Ramp',\n",
       " 'Bridge Highway Segment',\n",
       " 'Latitude',\n",
       " 'Longitude',\n",
       " 'Location',\n",
       " 'Created_Date']"
      ]
     },
     "execution_count": 36,
     "metadata": {},
     "output_type": "execute_result"
    }
   ],
   "source": [
    "updated_pyspark.columns"
   ]
  },
  {
   "cell_type": "code",
   "execution_count": 37,
   "id": "3656ef42",
   "metadata": {},
   "outputs": [],
   "source": [
    "updated_pyspark=updated_pyspark.select('Unique_Key','Created_Date','Closed_Date','Agency','Agency Name','Complaint Type','Descriptor','Location Type','Incident Zip','Incident Address','Street Name','Cross Street 1','Cross Street 2','Intersection Street 1','Intersection Street 2','Address Type','City','Landmark','Facility Type','Status','Due_Date','Resolution Description','Community Board','BBL','Borough','X Coordinate (State Plane)','Y Coordinate (State Plane)','Open Data Channel Type','Park Facility Name','Park Borough','Vehicle Type','Taxi Company Borough','Taxi Pick Up Location','Bridge Highway Name','Bridge Highway Direction','Road Ramp','Bridge Highway Segment','Latitude','Longitude','Location',when(updated_pyspark.Resolution_Action_Updated_Date.isNull(), updated_pyspark.Closed_Date).otherwise(updated_pyspark.Resolution_Action_Updated_Date).alias('Resolution_Action_Updated_Date'))"
   ]
  },
  {
   "cell_type": "markdown",
   "id": "384e2fc3",
   "metadata": {},
   "source": [
    "updated_pyspark.head()"
   ]
  },
  {
   "cell_type": "code",
   "execution_count": 38,
   "id": "b4dbe48c",
   "metadata": {},
   "outputs": [
    {
     "data": {
      "text/plain": [
       "['Unique_Key',\n",
       " 'Created_Date',\n",
       " 'Closed_Date',\n",
       " 'Agency',\n",
       " 'Agency Name',\n",
       " 'Complaint Type',\n",
       " 'Descriptor',\n",
       " 'Location Type',\n",
       " 'Incident Zip',\n",
       " 'Incident Address',\n",
       " 'Street Name',\n",
       " 'Cross Street 1',\n",
       " 'Cross Street 2',\n",
       " 'Intersection Street 1',\n",
       " 'Intersection Street 2',\n",
       " 'Address Type',\n",
       " 'City',\n",
       " 'Landmark',\n",
       " 'Facility Type',\n",
       " 'Status',\n",
       " 'Due_Date',\n",
       " 'Resolution Description',\n",
       " 'Community Board',\n",
       " 'BBL',\n",
       " 'Borough',\n",
       " 'X Coordinate (State Plane)',\n",
       " 'Y Coordinate (State Plane)',\n",
       " 'Open Data Channel Type',\n",
       " 'Park Facility Name',\n",
       " 'Park Borough',\n",
       " 'Vehicle Type',\n",
       " 'Taxi Company Borough',\n",
       " 'Taxi Pick Up Location',\n",
       " 'Bridge Highway Name',\n",
       " 'Bridge Highway Direction',\n",
       " 'Road Ramp',\n",
       " 'Bridge Highway Segment',\n",
       " 'Latitude',\n",
       " 'Longitude',\n",
       " 'Location',\n",
       " 'Resolution_Action_Updated_Date']"
      ]
     },
     "execution_count": 38,
     "metadata": {},
     "output_type": "execute_result"
    }
   ],
   "source": [
    "updated_pyspark.columns"
   ]
  },
  {
   "cell_type": "code",
   "execution_count": 39,
   "id": "931ffa2c",
   "metadata": {},
   "outputs": [
    {
     "data": {
      "text/plain": [
       "pyspark.sql.dataframe.DataFrame"
      ]
     },
     "execution_count": 39,
     "metadata": {},
     "output_type": "execute_result"
    }
   ],
   "source": [
    "type(updated_pyspark)"
   ]
  },
  {
   "cell_type": "code",
   "execution_count": 40,
   "id": "bcda64b3",
   "metadata": {},
   "outputs": [],
   "source": [
    "updated_pyspark_dupl=updated_pyspark"
   ]
  },
  {
   "cell_type": "code",
   "execution_count": 41,
   "id": "96154a86",
   "metadata": {},
   "outputs": [],
   "source": [
    "from pyspark.sql.functions import isnan, when, count, col"
   ]
  },
  {
   "cell_type": "code",
   "execution_count": 42,
   "id": "f8cbcfa8",
   "metadata": {},
   "outputs": [],
   "source": [
    "spark_null_count=updated_pyspark.select([count(when(isnan(c) | col(c).isNull(), c)).alias(c) for c in updated_pyspark.columns])"
   ]
  },
  {
   "cell_type": "code",
   "execution_count": 43,
   "id": "c70238c3",
   "metadata": {},
   "outputs": [],
   "source": [
    "pd_count=spark_null_count.toPandas()"
   ]
  },
  {
   "cell_type": "code",
   "execution_count": 44,
   "id": "afc6fb4b",
   "metadata": {},
   "outputs": [
    {
     "data": {
      "text/html": [
       "<div>\n",
       "<style scoped>\n",
       "    .dataframe tbody tr th:only-of-type {\n",
       "        vertical-align: middle;\n",
       "    }\n",
       "\n",
       "    .dataframe tbody tr th {\n",
       "        vertical-align: top;\n",
       "    }\n",
       "\n",
       "    .dataframe thead th {\n",
       "        text-align: right;\n",
       "    }\n",
       "</style>\n",
       "<table border=\"1\" class=\"dataframe\">\n",
       "  <thead>\n",
       "    <tr style=\"text-align: right;\">\n",
       "      <th></th>\n",
       "      <th>Unique_Key</th>\n",
       "      <th>Created_Date</th>\n",
       "      <th>Closed_Date</th>\n",
       "      <th>Agency</th>\n",
       "      <th>Agency Name</th>\n",
       "      <th>Complaint Type</th>\n",
       "      <th>Descriptor</th>\n",
       "      <th>Location Type</th>\n",
       "      <th>Incident Zip</th>\n",
       "      <th>Incident Address</th>\n",
       "      <th>...</th>\n",
       "      <th>Taxi Company Borough</th>\n",
       "      <th>Taxi Pick Up Location</th>\n",
       "      <th>Bridge Highway Name</th>\n",
       "      <th>Bridge Highway Direction</th>\n",
       "      <th>Road Ramp</th>\n",
       "      <th>Bridge Highway Segment</th>\n",
       "      <th>Latitude</th>\n",
       "      <th>Longitude</th>\n",
       "      <th>Location</th>\n",
       "      <th>Resolution_Action_Updated_Date</th>\n",
       "    </tr>\n",
       "  </thead>\n",
       "  <tbody>\n",
       "    <tr>\n",
       "      <th>0</th>\n",
       "      <td>0</td>\n",
       "      <td>0</td>\n",
       "      <td>402622</td>\n",
       "      <td>0</td>\n",
       "      <td>0</td>\n",
       "      <td>0</td>\n",
       "      <td>57708</td>\n",
       "      <td>6213133</td>\n",
       "      <td>1409154</td>\n",
       "      <td>4411831</td>\n",
       "      <td>...</td>\n",
       "      <td>26643728</td>\n",
       "      <td>26461915</td>\n",
       "      <td>26598145</td>\n",
       "      <td>26602509</td>\n",
       "      <td>26604597</td>\n",
       "      <td>26594439</td>\n",
       "      <td>2152824</td>\n",
       "      <td>2152824</td>\n",
       "      <td>2152279</td>\n",
       "      <td>120803</td>\n",
       "    </tr>\n",
       "  </tbody>\n",
       "</table>\n",
       "<p>1 rows × 41 columns</p>\n",
       "</div>"
      ],
      "text/plain": [
       "   Unique_Key  Created_Date  Closed_Date  Agency  Agency Name  Complaint Type  \\\n",
       "0           0             0       402622       0            0               0   \n",
       "\n",
       "   Descriptor  Location Type  Incident Zip  Incident Address  ...  \\\n",
       "0       57708        6213133       1409154           4411831  ...   \n",
       "\n",
       "   Taxi Company Borough  Taxi Pick Up Location  Bridge Highway Name  \\\n",
       "0              26643728               26461915             26598145   \n",
       "\n",
       "   Bridge Highway Direction  Road Ramp  Bridge Highway Segment  Latitude  \\\n",
       "0                  26602509   26604597                26594439   2152824   \n",
       "\n",
       "   Longitude  Location  Resolution_Action_Updated_Date  \n",
       "0    2152824   2152279                          120803  \n",
       "\n",
       "[1 rows x 41 columns]"
      ]
     },
     "execution_count": 44,
     "metadata": {},
     "output_type": "execute_result"
    }
   ],
   "source": [
    "pd_count"
   ]
  },
  {
   "cell_type": "code",
   "execution_count": 45,
   "id": "0156b624",
   "metadata": {},
   "outputs": [],
   "source": [
    "updated_pyspark=updated_pyspark_dupl"
   ]
  },
  {
   "cell_type": "code",
   "execution_count": 46,
   "id": "551272b9",
   "metadata": {},
   "outputs": [],
   "source": [
    "threshold=total_records*0.50"
   ]
  },
  {
   "cell_type": "code",
   "execution_count": 47,
   "id": "34ce23b9",
   "metadata": {},
   "outputs": [
    {
     "data": {
      "text/plain": [
       "13332959.5"
      ]
     },
     "execution_count": 47,
     "metadata": {},
     "output_type": "execute_result"
    }
   ],
   "source": [
    "threshold"
   ]
  },
  {
   "cell_type": "markdown",
   "id": "6f1f4169",
   "metadata": {},
   "source": [
    "Removing columns which have null values greater than the threshold"
   ]
  },
  {
   "cell_type": "code",
   "execution_count": 48,
   "id": "7df5e8bf",
   "metadata": {},
   "outputs": [],
   "source": [
    "over_threshold=[]\n",
    "for count in pd_count.iloc[0]:\n",
    "    if (count>threshold):\n",
    "        over_threshold.append(True)\n",
    "    else:\n",
    "         over_threshold.append(False)\n",
    "        \n",
    "    "
   ]
  },
  {
   "cell_type": "code",
   "execution_count": 49,
   "id": "b9fde018",
   "metadata": {},
   "outputs": [
    {
     "name": "stdout",
     "output_type": "stream",
     "text": [
      "[False, False, False, False, False, False, False, False, False, False, False, False, False, True, True, False, False, True, False, False, False, False, False, False, False, False, False, False, False, False, True, True, True, True, True, True, True, False, False, False, False]\n"
     ]
    }
   ],
   "source": [
    "print(over_threshold)"
   ]
  },
  {
   "cell_type": "code",
   "execution_count": 50,
   "id": "4bb240f9",
   "metadata": {},
   "outputs": [
    {
     "name": "stdout",
     "output_type": "stream",
     "text": [
      "Intersection Street 1\n",
      "Intersection Street 2\n",
      "Landmark\n",
      "Vehicle Type\n",
      "Taxi Company Borough\n",
      "Taxi Pick Up Location\n",
      "Bridge Highway Name\n",
      "Bridge Highway Direction\n",
      "Road Ramp\n",
      "Bridge Highway Segment\n"
     ]
    }
   ],
   "source": [
    "i=0\n",
    "for item in updated_pyspark.columns:\n",
    "    if over_threshold[i]==True:\n",
    "        print(item)\n",
    "        updated_pyspark=updated_pyspark.drop(item)\n",
    "    i+=1    "
   ]
  },
  {
   "cell_type": "code",
   "execution_count": 51,
   "id": "2c497a3c",
   "metadata": {},
   "outputs": [
    {
     "data": {
      "text/plain": [
       "26665919"
      ]
     },
     "execution_count": 51,
     "metadata": {},
     "output_type": "execute_result"
    }
   ],
   "source": [
    "updated_pyspark.count()"
   ]
  },
  {
   "cell_type": "code",
   "execution_count": 52,
   "id": "e5c1d817",
   "metadata": {},
   "outputs": [
    {
     "data": {
      "text/plain": [
       "['Unique_Key',\n",
       " 'Created_Date',\n",
       " 'Closed_Date',\n",
       " 'Agency',\n",
       " 'Agency Name',\n",
       " 'Complaint Type',\n",
       " 'Descriptor',\n",
       " 'Location Type',\n",
       " 'Incident Zip',\n",
       " 'Incident Address',\n",
       " 'Street Name',\n",
       " 'Cross Street 1',\n",
       " 'Cross Street 2',\n",
       " 'Address Type',\n",
       " 'City',\n",
       " 'Facility Type',\n",
       " 'Status',\n",
       " 'Due_Date',\n",
       " 'Resolution Description',\n",
       " 'Community Board',\n",
       " 'BBL',\n",
       " 'Borough',\n",
       " 'X Coordinate (State Plane)',\n",
       " 'Y Coordinate (State Plane)',\n",
       " 'Open Data Channel Type',\n",
       " 'Park Facility Name',\n",
       " 'Park Borough',\n",
       " 'Latitude',\n",
       " 'Longitude',\n",
       " 'Location',\n",
       " 'Resolution_Action_Updated_Date']"
      ]
     },
     "execution_count": 52,
     "metadata": {},
     "output_type": "execute_result"
    }
   ],
   "source": [
    " updated_pyspark.columns"
   ]
  },
  {
   "cell_type": "code",
   "execution_count": 53,
   "id": "8c4c1093",
   "metadata": {},
   "outputs": [],
   "source": [
    "updated_pyspark_duplicate= updated_pyspark"
   ]
  },
  {
   "cell_type": "code",
   "execution_count": 54,
   "id": "96151690",
   "metadata": {},
   "outputs": [
    {
     "name": "stdout",
     "output_type": "stream",
     "text": [
      "+----------+--------------------+--------------------+------+--------------------+--------------------+--------------------+--------------------+------------+--------------------+--------------------+------------------+----------------+------------+-------------------+-------------+------+--------------------+----------------------+----------------+----------+-------------+--------------------------+--------------------------+----------------------+------------------+-------------+------------------+------------------+--------------------+------------------------------+\n",
      "|Unique_Key|        Created_Date|         Closed_Date|Agency|         Agency Name|      Complaint Type|          Descriptor|       Location Type|Incident Zip|    Incident Address|         Street Name|    Cross Street 1|  Cross Street 2|Address Type|               City|Facility Type|Status|            Due_Date|Resolution Description| Community Board|       BBL|      Borough|X Coordinate (State Plane)|Y Coordinate (State Plane)|Open Data Channel Type|Park Facility Name| Park Borough|          Latitude|         Longitude|            Location|Resolution_Action_Updated_Date|\n",
      "+----------+--------------------+--------------------+------+--------------------+--------------------+--------------------+--------------------+------------+--------------------+--------------------+------------------+----------------+------------+-------------------+-------------+------+--------------------+----------------------+----------------+----------+-------------+--------------------------+--------------------------+----------------------+------------------+-------------+------------------+------------------+--------------------+------------------------------+\n",
      "|  25620844|05/28/2013 10:12:...|05/28/2013 02:24:...|  NYPD|New York City Pol...| Urinating in Public|                 N/A|     Street/Sidewalk|       10459|1228 SOUTHERN BOU...|  SOUTHERN BOULEVARD|       HOME STREET|  FREEMAN STREET|     ADDRESS|              BRONX|     Precinct|Closed|05/28/2013 06:12:...|  The Police Depart...|        03 BRONX|2029790012|        BRONX|                   1014173|                    241412|                 PHONE|       Unspecified|        BRONX| 40.82924494625826|-73.89187449031489|(40.8292449462582...|          05/28/2013 02:24:...|\n",
      "|  25620853|05/28/2013 04:06:...|05/31/2013 12:34:...|   DPR|Department of Par...|           Dead Tree|     Dead/Dying Tree|              Street|       11236|10802 FLATLANDS N...|FLATLANDS NINTH S...|   EAST 108 STREET|        DEAD END|     ADDRESS|           BROOKLYN|          N/A|Closed|06/05/2013 07:43:...|  The Department of...|     18 BROOKLYN|3082737501|     BROOKLYN|                   1016796|                    172561|                 PHONE|       Unspecified|     BROOKLYN| 40.64025689607397|-73.88272946731684|(40.6402568960739...|          05/31/2013 12:34:...|\n",
      "|  25620854|05/28/2013 03:29:...|06/05/2013 09:24:...|   DPR|Department of Par...|           Dead Tree|     Dead/Dying Tree|              Street|       11370|     30-36 83 STREET|           83 STREET|         30 AVENUE|       31 AVENUE|     ADDRESS|      EAST ELMHURST|          N/A|Closed|06/05/2013 06:52:...|  The Department of...|       03 QUEENS|4013800023|       QUEENS|                   1016017|                    216370|                 PHONE|       Unspecified|       QUEENS|40.760505061647166|  -73.885329735479|(40.7605050616471...|          06/05/2013 09:24:...|\n",
      "|  25620855|05/28/2013 07:55:...|05/29/2013 07:21:...|   DPR|Department of Par...|           Dead Tree|     Dead/Dying Tree|              Street|       11413|   227-18 141 AVENUE|          141 AVENUE|        227 STREET|      228 STREET|     ADDRESS|SPRINGFIELD GARDENS|          N/A|Closed|06/02/2013 07:55:...|  The Department of...|       13 QUEENS|4131910297|       QUEENS|                   1054155|                    182971|                 PHONE|       Unspecified|       QUEENS| 40.66861388568256|-73.74800925747168|(40.6686138856825...|          05/29/2013 07:20:...|\n",
      "|  25620856|05/28/2013 02:50:...|06/02/2013 02:50:...|   DPR|Department of Par...|           Dead Tree|     Dead/Dying Tree|              Street|       10312|  666 RATHBUN AVENUE|      RATHBUN AVENUE|   HUGUENOT AVENUE|ELLSWORTH AVENUE|     ADDRESS|      STATEN ISLAND|          N/A|  Open|06/02/2013 02:50:...|  The Department of...|03 STATEN ISLAND|5068430044|STATEN ISLAND|                    929316|                    135821|                 PHONE|       Unspecified|STATEN ISLAND| 40.53930264937191|-74.19764060985678|(40.5393026493719...|          06/02/2013 02:50:...|\n",
      "|  25620860|05/28/2013 04:43:...|06/13/2013 01:06:...|   DCA|Department of Con...|  Consumer Complaint|     Clothing Damage|                null|       10075|  265 EAST 78 STREET|      EAST 78 STREET|          3 AVENUE|        2 AVENUE|     ADDRESS|           NEW YORK|          N/A|Closed|06/13/2013 04:43:...|  The Department of...|    08 MANHATTAN|1014330022|    MANHATTAN|                    996319|                    220917|                 PHONE|       Unspecified|    MANHATTAN| 40.77303422968557|-73.95642599348551|(40.7730342296855...|          06/13/2013 01:06:...|\n",
      "|  25620866|05/28/2013 10:32:...|05/30/2013 08:09:...|  NYPD|New York City Pol...|Noise - Street/Si...|        Loud Talking|     Street/Sidewalk|       10034|    176 NAGLE AVENUE|        NAGLE AVENUE|    DYCKMAN STREET|    NYCTA SUBWAY|     ADDRESS|           NEW YORK|     Precinct|Closed|05/29/2013 06:32:...|  The Police Depart...|    12 MANHATTAN|1022170047|    MANHATTAN|                   1005179|                    253245|                ONLINE|       Unspecified|    MANHATTAN| 40.86174893459112|-73.92433698102494|(40.8617489345911...|          05/30/2013 08:09:...|\n",
      "|  25620867|05/28/2013 06:49:...|05/31/2013 01:55:...| DOHMH|Department of Hea...|      Food Poisoning|              1 or 2|Restaurant/Bar/De...|       10003|        227 1 AVENUE|            1 AVENUE|    EAST 13 STREET|  EAST 14 STREET|     ADDRESS|           NEW YORK|          N/A|Closed|06/11/2013 06:49:...|  The Department of...|    03 MANHATTAN|1004550038|    MANHATTAN|                    989005|                    205592|                 PHONE|       Unspecified|    MANHATTAN|  40.7309779455853|-73.98284334851826|(40.7309779455853...|          05/31/2013 01:54:...|\n",
      "|  25620868|05/28/2013 07:03:...|05/31/2013 01:55:...| DOHMH|Department of Hea...|      Food Poisoning|              1 or 2|Restaurant/Bar/De...|       10003|        227 1 AVENUE|            1 AVENUE|    EAST 13 STREET|  EAST 14 STREET|     ADDRESS|           NEW YORK|          N/A|Closed|06/11/2013 06:49:...|  The Department of...|    03 MANHATTAN|1004550038|    MANHATTAN|                    989005|                    205592|                 PHONE|       Unspecified|    MANHATTAN|  40.7309779455853|-73.98284334851826|(40.7309779455853...|          05/31/2013 01:54:...|\n",
      "|  25620872|05/28/2013 04:18:...|06/04/2013 10:09:...| DOHMH|Department of Hea...|  Indoor Air Quality|Chemical Vapors/G...|Other (Explain Be...|       10013|     44 WHITE STREET|        WHITE STREET|     CHURCH STREET|  FRANKLIN PLACE|     ADDRESS|           NEW YORK|          N/A|Closed|06/27/2013 04:18:...|  The Department of...|    01 MANHATTAN|1001930012|    MANHATTAN|                    983062|                    201084|                ONLINE|       Unspecified|    MANHATTAN| 40.71860577784937|-74.00428566104473|(40.7186057778493...|          06/04/2013 10:09:...|\n",
      "|  25620875|05/28/2013 12:03:...|05/28/2013 01:20:...|   DEP|Department of Env...| Hazardous Materials| Chemical Odor (HD1)|                null|       11236|642 EAST   94 STREET|    EAST   94 STREET|          AVENUE A|        AVENUE B|     ADDRESS|           BROOKLYN|          N/A|Closed|05/28/2013 01:20:...|  The Department of...|     17 BROOKLYN|3047530057|     BROOKLYN|                   1008011|                    176923|                 PHONE|       Unspecified|     BROOKLYN|40.652257562715135|-73.91436840287662|(40.6522575627151...|          05/28/2013 01:20:...|\n",
      "|  25620876|05/28/2013 09:32:...|07/24/2013 10:37:...|   DPR|Department of Par...|        Damaged Tree|Branch Cracked an...|              Street|       11355|    45-74 157 STREET|          157 STREET|         45 AVENUE|       46 AVENUE|     ADDRESS|           FLUSHING|          N/A|Closed|07/25/2013 10:40:...|  The Department of...|       07 QUEENS|4054350082|       QUEENS|                   1037045|                    214394|                 PHONE|       Unspecified|       QUEENS| 40.75498089829135|-73.80944006042999|(40.7549808982913...|          07/24/2013 10:36:...|\n",
      "|  25620877|05/28/2013 11:07:...|05/29/2013 01:22:...|   DEP|Department of Env...|    Industrial Waste|Chemical Spill (IAC)|                null|       11235|                null|                null|BRIGHTON BEACH AVE|  BRIGHTON 11 ST|INTERSECTION|           BROOKLYN|          N/A|Closed|05/29/2013 01:22:...|  The Department of...|     13 BROOKLYN|      null|     BROOKLYN|                    995635|                    149905|                 PHONE|       Unspecified|     BROOKLYN| 40.57812331265048|-73.95901546652755|(40.5781233126504...|          05/29/2013 01:22:...|\n",
      "|  25620879|05/28/2013 05:16:...|06/27/2013 05:16:...| DOHMH|Department of Hea...|      Standing Water| Swimming Pool Cover| 1-2 Family Dwelling|       10304| 1028 TODT HILL ROAD|      TODT HILL ROAD|       VALLEY ROAD|     FLAGG PLACE|     ADDRESS|      STATEN ISLAND|          N/A|  Open|06/27/2013 05:16:...|  The Department of...|02 STATEN ISLAND|      null|STATEN ISLAND|                    953356|                    152387|                 PHONE|       Unspecified|STATEN ISLAND| 40.58488938649835|-74.11122571379768|(40.5848893864983...|          06/27/2013 05:16:...|\n",
      "|  25620880|05/28/2013 12:04:...|06/27/2013 12:04:...| DOHMH|Department of Hea...|      Standing Water|Other - Explain B...|               Other|       10013|   139 CENTER STREET|       CENTER STREET|      WHITE STREET|   WALKER STREET|     ADDRESS|           NEW YORK|          N/A|  Open|06/27/2013 12:04:...|  The Department of...|    01 MANHATTAN|1001977502|    MANHATTAN|                    984083|                    200578|                 PHONE|       Unspecified|    MANHATTAN|40.717217007536156|-74.00060243306505|(40.7172170075361...|          06/27/2013 12:04:...|\n",
      "|  25620881|05/28/2013 05:08:...|05/28/2013 06:30:...|   DEP|Department of Env...|               Sewer|Highway Flooding ...|                null|       11234|                null|                null|         BELT PKWY|    FLATBUSH AVE|INTERSECTION|           BROOKLYN|          N/A|Closed|05/28/2013 06:30:...|  The Department of...|     18 BROOKLYN|      null|     BROOKLYN|                   1009834|                    156615|               UNKNOWN|       Unspecified|     BROOKLYN| 40.59651130968669|-73.90787551923017|(40.5965113096866...|          05/28/2013 06:30:...|\n",
      "|  25620883|05/28/2013 11:26:...|06/07/2013 09:15:...|   DEP|Department of Env...|        Water System|Excessive Water I...|                null|       10455|      879 MACY PLACE|          MACY PLACE|      PROSPECT AVE|       HEWITT PL|     ADDRESS|              BRONX|          N/A|Closed|06/07/2013 09:15:...|  The Department of...|        02 BRONX|2026880073|        BRONX|                   1011594|                    237314|                 PHONE|       Unspecified|        BRONX| 40.81800546648237|-73.90121029072117|(40.8180054664823...|          06/07/2013 09:15:...|\n",
      "|  25620884|05/28/2013 08:24:...|05/29/2013 07:28:...|   DPR|Department of Par...|        Damaged Tree|    Tree Trunk Split|              Street|       11205|  116 CLINTON AVENUE|      CLINTON AVENUE|       PARK AVENUE|   MYRTLE AVENUE|     ADDRESS|           BROOKLYN|          N/A|Closed|06/02/2013 08:24:...|  The condition was...|     02 BROOKLYN|3018870078|     BROOKLYN|                    992828|                    192249|                 PHONE|       Unspecified|     BROOKLYN| 40.69435171040216|-73.96906647478316|(40.6943517104021...|          05/29/2013 07:28:...|\n",
      "|  25620887|05/28/2013 02:24:...|05/30/2013 12:00:...|   DOB|Department of Bui...|General Construct...|Structural Stabil...|                null|       11216|  816 PROSPECT PLACE|      PROSPECT PLACE|   NOSTRAND AVENUE| NEW YORK AVENUE|     ADDRESS|           BROOKLYN|          N/A|Closed|05/30/2013 12:00:...|  The Department of...|     08 BROOKLYN|3012340010|     BROOKLYN|                    998304|                    184933|               UNKNOWN|       Unspecified|     BROOKLYN| 40.67426396183534|-73.94933447921152|(40.6742639618353...|          05/30/2013 12:00:...|\n",
      "|  25620893|05/28/2013 12:00:...|06/14/2013 12:00:...| DOHMH|Department of Hea...|Unsanitary Animal...|        Animal Waste| 1-2 Family Dwelling|       11411|   115-01 217 STREET|          217 STREET|        115 AVENUE|        115 ROAD|     ADDRESS|    Cambria Heights|          N/A|Closed|06/27/2013 12:16:...|  The Department of...|       13 QUEENS|4112810030|       QUEENS|                   1056293|                    194722|                 PHONE|       Unspecified|       QUEENS|40.700850415092525|-73.74017668245126|(40.7008504150925...|          06/14/2013 12:00:...|\n",
      "+----------+--------------------+--------------------+------+--------------------+--------------------+--------------------+--------------------+------------+--------------------+--------------------+------------------+----------------+------------+-------------------+-------------+------+--------------------+----------------------+----------------+----------+-------------+--------------------------+--------------------------+----------------------+------------------+-------------+------------------+------------------+--------------------+------------------------------+\n",
      "only showing top 20 rows\n",
      "\n"
     ]
    }
   ],
   "source": [
    "updated_pyspark.na.fill(value=\"No action taken\",subset=[\"Resolution_Action_Updated_Date\"]).show()\n"
   ]
  },
  {
   "cell_type": "code",
   "execution_count": 55,
   "id": "e47cc46c",
   "metadata": {},
   "outputs": [
    {
     "name": "stdout",
     "output_type": "stream",
     "text": [
      "+----------+--------------------+--------------------+------+--------------------+--------------------+--------------------+--------------------+------------+--------------------+--------------------+------------------+----------------+------------+-------------------+-------------+------+--------------------+----------------------+----------------+----------+-------------+--------------------------+--------------------------+----------------------+------------------+-------------+------------------+------------------+--------------------+------------------------------+\n",
      "|Unique_Key|        Created_Date|         Closed_Date|Agency|         Agency Name|      Complaint Type|          Descriptor|       Location Type|Incident Zip|    Incident Address|         Street Name|    Cross Street 1|  Cross Street 2|Address Type|               City|Facility Type|Status|            Due_Date|Resolution Description| Community Board|       BBL|      Borough|X Coordinate (State Plane)|Y Coordinate (State Plane)|Open Data Channel Type|Park Facility Name| Park Borough|          Latitude|         Longitude|            Location|Resolution_Action_Updated_Date|\n",
      "+----------+--------------------+--------------------+------+--------------------+--------------------+--------------------+--------------------+------------+--------------------+--------------------+------------------+----------------+------------+-------------------+-------------+------+--------------------+----------------------+----------------+----------+-------------+--------------------------+--------------------------+----------------------+------------------+-------------+------------------+------------------+--------------------+------------------------------+\n",
      "|  25620844|05/28/2013 10:12:...|05/28/2013 02:24:...|  NYPD|New York City Pol...| Urinating in Public|                 N/A|     Street/Sidewalk|       10459|1228 SOUTHERN BOU...|  SOUTHERN BOULEVARD|       HOME STREET|  FREEMAN STREET|     ADDRESS|              BRONX|     Precinct|Closed|05/28/2013 06:12:...|  The Police Depart...|        03 BRONX|2029790012|        BRONX|                   1014173|                    241412|                 PHONE|       Unspecified|        BRONX| 40.82924494625826|-73.89187449031489|(40.8292449462582...|          05/28/2013 02:24:...|\n",
      "|  25620853|05/28/2013 04:06:...|05/31/2013 12:34:...|   DPR|Department of Par...|           Dead Tree|     Dead/Dying Tree|              Street|       11236|10802 FLATLANDS N...|FLATLANDS NINTH S...|   EAST 108 STREET|        DEAD END|     ADDRESS|           BROOKLYN|          N/A|Closed|06/05/2013 07:43:...|  The Department of...|     18 BROOKLYN|3082737501|     BROOKLYN|                   1016796|                    172561|                 PHONE|       Unspecified|     BROOKLYN| 40.64025689607397|-73.88272946731684|(40.6402568960739...|          05/31/2013 12:34:...|\n",
      "|  25620854|05/28/2013 03:29:...|06/05/2013 09:24:...|   DPR|Department of Par...|           Dead Tree|     Dead/Dying Tree|              Street|       11370|     30-36 83 STREET|           83 STREET|         30 AVENUE|       31 AVENUE|     ADDRESS|      EAST ELMHURST|          N/A|Closed|06/05/2013 06:52:...|  The Department of...|       03 QUEENS|4013800023|       QUEENS|                   1016017|                    216370|                 PHONE|       Unspecified|       QUEENS|40.760505061647166|  -73.885329735479|(40.7605050616471...|          06/05/2013 09:24:...|\n",
      "|  25620855|05/28/2013 07:55:...|05/29/2013 07:21:...|   DPR|Department of Par...|           Dead Tree|     Dead/Dying Tree|              Street|       11413|   227-18 141 AVENUE|          141 AVENUE|        227 STREET|      228 STREET|     ADDRESS|SPRINGFIELD GARDENS|          N/A|Closed|06/02/2013 07:55:...|  The Department of...|       13 QUEENS|4131910297|       QUEENS|                   1054155|                    182971|                 PHONE|       Unspecified|       QUEENS| 40.66861388568256|-73.74800925747168|(40.6686138856825...|          05/29/2013 07:20:...|\n",
      "|  25620856|05/28/2013 02:50:...|06/02/2013 02:50:...|   DPR|Department of Par...|           Dead Tree|     Dead/Dying Tree|              Street|       10312|  666 RATHBUN AVENUE|      RATHBUN AVENUE|   HUGUENOT AVENUE|ELLSWORTH AVENUE|     ADDRESS|      STATEN ISLAND|          N/A|  Open|06/02/2013 02:50:...|  The Department of...|03 STATEN ISLAND|5068430044|STATEN ISLAND|                    929316|                    135821|                 PHONE|       Unspecified|STATEN ISLAND| 40.53930264937191|-74.19764060985678|(40.5393026493719...|          06/02/2013 02:50:...|\n",
      "|  25620860|05/28/2013 04:43:...|06/13/2013 01:06:...|   DCA|Department of Con...|  Consumer Complaint|     Clothing Damage|                null|       10075|  265 EAST 78 STREET|      EAST 78 STREET|          3 AVENUE|        2 AVENUE|     ADDRESS|           NEW YORK|          N/A|Closed|06/13/2013 04:43:...|  The Department of...|    08 MANHATTAN|1014330022|    MANHATTAN|                    996319|                    220917|                 PHONE|       Unspecified|    MANHATTAN| 40.77303422968557|-73.95642599348551|(40.7730342296855...|          06/13/2013 01:06:...|\n",
      "|  25620866|05/28/2013 10:32:...|05/30/2013 08:09:...|  NYPD|New York City Pol...|Noise - Street/Si...|        Loud Talking|     Street/Sidewalk|       10034|    176 NAGLE AVENUE|        NAGLE AVENUE|    DYCKMAN STREET|    NYCTA SUBWAY|     ADDRESS|           NEW YORK|     Precinct|Closed|05/29/2013 06:32:...|  The Police Depart...|    12 MANHATTAN|1022170047|    MANHATTAN|                   1005179|                    253245|                ONLINE|       Unspecified|    MANHATTAN| 40.86174893459112|-73.92433698102494|(40.8617489345911...|          05/30/2013 08:09:...|\n",
      "|  25620867|05/28/2013 06:49:...|05/31/2013 01:55:...| DOHMH|Department of Hea...|      Food Poisoning|              1 or 2|Restaurant/Bar/De...|       10003|        227 1 AVENUE|            1 AVENUE|    EAST 13 STREET|  EAST 14 STREET|     ADDRESS|           NEW YORK|          N/A|Closed|06/11/2013 06:49:...|  The Department of...|    03 MANHATTAN|1004550038|    MANHATTAN|                    989005|                    205592|                 PHONE|       Unspecified|    MANHATTAN|  40.7309779455853|-73.98284334851826|(40.7309779455853...|          05/31/2013 01:54:...|\n",
      "|  25620868|05/28/2013 07:03:...|05/31/2013 01:55:...| DOHMH|Department of Hea...|      Food Poisoning|              1 or 2|Restaurant/Bar/De...|       10003|        227 1 AVENUE|            1 AVENUE|    EAST 13 STREET|  EAST 14 STREET|     ADDRESS|           NEW YORK|          N/A|Closed|06/11/2013 06:49:...|  The Department of...|    03 MANHATTAN|1004550038|    MANHATTAN|                    989005|                    205592|                 PHONE|       Unspecified|    MANHATTAN|  40.7309779455853|-73.98284334851826|(40.7309779455853...|          05/31/2013 01:54:...|\n",
      "|  25620872|05/28/2013 04:18:...|06/04/2013 10:09:...| DOHMH|Department of Hea...|  Indoor Air Quality|Chemical Vapors/G...|Other (Explain Be...|       10013|     44 WHITE STREET|        WHITE STREET|     CHURCH STREET|  FRANKLIN PLACE|     ADDRESS|           NEW YORK|          N/A|Closed|06/27/2013 04:18:...|  The Department of...|    01 MANHATTAN|1001930012|    MANHATTAN|                    983062|                    201084|                ONLINE|       Unspecified|    MANHATTAN| 40.71860577784937|-74.00428566104473|(40.7186057778493...|          06/04/2013 10:09:...|\n",
      "|  25620875|05/28/2013 12:03:...|05/28/2013 01:20:...|   DEP|Department of Env...| Hazardous Materials| Chemical Odor (HD1)|                null|       11236|642 EAST   94 STREET|    EAST   94 STREET|          AVENUE A|        AVENUE B|     ADDRESS|           BROOKLYN|          N/A|Closed|05/28/2013 01:20:...|  The Department of...|     17 BROOKLYN|3047530057|     BROOKLYN|                   1008011|                    176923|                 PHONE|       Unspecified|     BROOKLYN|40.652257562715135|-73.91436840287662|(40.6522575627151...|          05/28/2013 01:20:...|\n",
      "|  25620876|05/28/2013 09:32:...|07/24/2013 10:37:...|   DPR|Department of Par...|        Damaged Tree|Branch Cracked an...|              Street|       11355|    45-74 157 STREET|          157 STREET|         45 AVENUE|       46 AVENUE|     ADDRESS|           FLUSHING|          N/A|Closed|07/25/2013 10:40:...|  The Department of...|       07 QUEENS|4054350082|       QUEENS|                   1037045|                    214394|                 PHONE|       Unspecified|       QUEENS| 40.75498089829135|-73.80944006042999|(40.7549808982913...|          07/24/2013 10:36:...|\n",
      "|  25620877|05/28/2013 11:07:...|05/29/2013 01:22:...|   DEP|Department of Env...|    Industrial Waste|Chemical Spill (IAC)|                null|       11235|                null|                null|BRIGHTON BEACH AVE|  BRIGHTON 11 ST|INTERSECTION|           BROOKLYN|          N/A|Closed|05/29/2013 01:22:...|  The Department of...|     13 BROOKLYN|      null|     BROOKLYN|                    995635|                    149905|                 PHONE|       Unspecified|     BROOKLYN| 40.57812331265048|-73.95901546652755|(40.5781233126504...|          05/29/2013 01:22:...|\n",
      "|  25620879|05/28/2013 05:16:...|06/27/2013 05:16:...| DOHMH|Department of Hea...|      Standing Water| Swimming Pool Cover| 1-2 Family Dwelling|       10304| 1028 TODT HILL ROAD|      TODT HILL ROAD|       VALLEY ROAD|     FLAGG PLACE|     ADDRESS|      STATEN ISLAND|          N/A|  Open|06/27/2013 05:16:...|  The Department of...|02 STATEN ISLAND|      null|STATEN ISLAND|                    953356|                    152387|                 PHONE|       Unspecified|STATEN ISLAND| 40.58488938649835|-74.11122571379768|(40.5848893864983...|          06/27/2013 05:16:...|\n",
      "|  25620880|05/28/2013 12:04:...|06/27/2013 12:04:...| DOHMH|Department of Hea...|      Standing Water|Other - Explain B...|               Other|       10013|   139 CENTER STREET|       CENTER STREET|      WHITE STREET|   WALKER STREET|     ADDRESS|           NEW YORK|          N/A|  Open|06/27/2013 12:04:...|  The Department of...|    01 MANHATTAN|1001977502|    MANHATTAN|                    984083|                    200578|                 PHONE|       Unspecified|    MANHATTAN|40.717217007536156|-74.00060243306505|(40.7172170075361...|          06/27/2013 12:04:...|\n",
      "|  25620881|05/28/2013 05:08:...|05/28/2013 06:30:...|   DEP|Department of Env...|               Sewer|Highway Flooding ...|                null|       11234|                null|                null|         BELT PKWY|    FLATBUSH AVE|INTERSECTION|           BROOKLYN|          N/A|Closed|05/28/2013 06:30:...|  The Department of...|     18 BROOKLYN|      null|     BROOKLYN|                   1009834|                    156615|               UNKNOWN|       Unspecified|     BROOKLYN| 40.59651130968669|-73.90787551923017|(40.5965113096866...|          05/28/2013 06:30:...|\n",
      "|  25620883|05/28/2013 11:26:...|06/07/2013 09:15:...|   DEP|Department of Env...|        Water System|Excessive Water I...|                null|       10455|      879 MACY PLACE|          MACY PLACE|      PROSPECT AVE|       HEWITT PL|     ADDRESS|              BRONX|          N/A|Closed|06/07/2013 09:15:...|  The Department of...|        02 BRONX|2026880073|        BRONX|                   1011594|                    237314|                 PHONE|       Unspecified|        BRONX| 40.81800546648237|-73.90121029072117|(40.8180054664823...|          06/07/2013 09:15:...|\n",
      "|  25620884|05/28/2013 08:24:...|05/29/2013 07:28:...|   DPR|Department of Par...|        Damaged Tree|    Tree Trunk Split|              Street|       11205|  116 CLINTON AVENUE|      CLINTON AVENUE|       PARK AVENUE|   MYRTLE AVENUE|     ADDRESS|           BROOKLYN|          N/A|Closed|06/02/2013 08:24:...|  The condition was...|     02 BROOKLYN|3018870078|     BROOKLYN|                    992828|                    192249|                 PHONE|       Unspecified|     BROOKLYN| 40.69435171040216|-73.96906647478316|(40.6943517104021...|          05/29/2013 07:28:...|\n",
      "|  25620887|05/28/2013 02:24:...|05/30/2013 12:00:...|   DOB|Department of Bui...|General Construct...|Structural Stabil...|                null|       11216|  816 PROSPECT PLACE|      PROSPECT PLACE|   NOSTRAND AVENUE| NEW YORK AVENUE|     ADDRESS|           BROOKLYN|          N/A|Closed|05/30/2013 12:00:...|  The Department of...|     08 BROOKLYN|3012340010|     BROOKLYN|                    998304|                    184933|               UNKNOWN|       Unspecified|     BROOKLYN| 40.67426396183534|-73.94933447921152|(40.6742639618353...|          05/30/2013 12:00:...|\n",
      "|  25620893|05/28/2013 12:00:...|06/14/2013 12:00:...| DOHMH|Department of Hea...|Unsanitary Animal...|        Animal Waste| 1-2 Family Dwelling|       11411|   115-01 217 STREET|          217 STREET|        115 AVENUE|        115 ROAD|     ADDRESS|    Cambria Heights|          N/A|Closed|06/27/2013 12:16:...|  The Department of...|       13 QUEENS|4112810030|       QUEENS|                   1056293|                    194722|                 PHONE|       Unspecified|       QUEENS|40.700850415092525|-73.74017668245126|(40.7008504150925...|          06/14/2013 12:00:...|\n",
      "+----------+--------------------+--------------------+------+--------------------+--------------------+--------------------+--------------------+------------+--------------------+--------------------+------------------+----------------+------------+-------------------+-------------+------+--------------------+----------------------+----------------+----------+-------------+--------------------------+--------------------------+----------------------+------------------+-------------+------------------+------------------+--------------------+------------------------------+\n",
      "only showing top 20 rows\n",
      "\n"
     ]
    }
   ],
   "source": [
    "updated_pyspark.na.fill(value=\"Pending\",subset=[\"Closed_Date\"]).show()"
   ]
  },
  {
   "cell_type": "code",
   "execution_count": 56,
   "id": "d25ea498",
   "metadata": {},
   "outputs": [],
   "source": [
    "updated_pyspark_dummy=updated_pyspark"
   ]
  },
  {
   "cell_type": "code",
   "execution_count": 57,
   "id": "157867bb",
   "metadata": {},
   "outputs": [
    {
     "data": {
      "text/plain": [
       "26665919"
      ]
     },
     "execution_count": 57,
     "metadata": {},
     "output_type": "execute_result"
    }
   ],
   "source": [
    "updated_pyspark.count()"
   ]
  },
  {
   "cell_type": "code",
   "execution_count": 58,
   "id": "bbb53a6b",
   "metadata": {},
   "outputs": [],
   "source": [
    "updated_pyspark_dummy=updated_pyspark_dummy.na.drop()"
   ]
  },
  {
   "cell_type": "code",
   "execution_count": 59,
   "id": "c8086309",
   "metadata": {},
   "outputs": [
    {
     "data": {
      "text/plain": [
       "9787090"
      ]
     },
     "execution_count": 59,
     "metadata": {},
     "output_type": "execute_result"
    }
   ],
   "source": [
    "updated_pyspark_dummy.count()"
   ]
  },
  {
   "cell_type": "code",
   "execution_count": 60,
   "id": "62d91225",
   "metadata": {},
   "outputs": [
    {
     "data": {
      "text/plain": [
       "['Unique_Key',\n",
       " 'Created_Date',\n",
       " 'Closed_Date',\n",
       " 'Agency',\n",
       " 'Agency Name',\n",
       " 'Complaint Type',\n",
       " 'Descriptor',\n",
       " 'Location Type',\n",
       " 'Incident Zip',\n",
       " 'Incident Address',\n",
       " 'Street Name',\n",
       " 'Cross Street 1',\n",
       " 'Cross Street 2',\n",
       " 'Address Type',\n",
       " 'City',\n",
       " 'Facility Type',\n",
       " 'Status',\n",
       " 'Due_Date',\n",
       " 'Resolution Description',\n",
       " 'Community Board',\n",
       " 'BBL',\n",
       " 'Borough',\n",
       " 'X Coordinate (State Plane)',\n",
       " 'Y Coordinate (State Plane)',\n",
       " 'Open Data Channel Type',\n",
       " 'Park Facility Name',\n",
       " 'Park Borough',\n",
       " 'Latitude',\n",
       " 'Longitude',\n",
       " 'Location',\n",
       " 'Resolution_Action_Updated_Date']"
      ]
     },
     "execution_count": 60,
     "metadata": {},
     "output_type": "execute_result"
    }
   ],
   "source": [
    "updated_pyspark_dummy.columns"
   ]
  },
  {
   "cell_type": "code",
   "execution_count": 61,
   "id": "79fd87c9",
   "metadata": {},
   "outputs": [],
   "source": [
    "from pyspark.sql.functions import col"
   ]
  },
  {
   "cell_type": "code",
   "execution_count": 62,
   "id": "b7a0214d",
   "metadata": {},
   "outputs": [
    {
     "name": "stdout",
     "output_type": "stream",
     "text": [
      "+--------------------+\n",
      "|         Closed_Date|\n",
      "+--------------------+\n",
      "|05/28/2013 02:24:...|\n",
      "|05/31/2013 12:34:...|\n",
      "|06/05/2013 09:24:...|\n",
      "|05/29/2013 07:21:...|\n",
      "|06/02/2013 02:50:...|\n",
      "|05/30/2013 08:09:...|\n",
      "|05/31/2013 01:55:...|\n",
      "|05/31/2013 01:55:...|\n",
      "|06/04/2013 10:09:...|\n",
      "|07/24/2013 10:37:...|\n",
      "|06/27/2013 12:04:...|\n",
      "|05/29/2013 07:28:...|\n",
      "|06/14/2013 12:00:...|\n",
      "|05/29/2013 10:21:...|\n",
      "|06/12/2013 12:00:...|\n",
      "|06/03/2013 10:41:...|\n",
      "|08/02/2013 12:33:...|\n",
      "|12/15/2014 04:54:...|\n",
      "|05/29/2013 07:06:...|\n",
      "|07/05/2013 07:13:...|\n",
      "+--------------------+\n",
      "only showing top 20 rows\n",
      "\n"
     ]
    }
   ],
   "source": [
    "updated_pyspark_dummy.select(\"Closed_Date\").show()"
   ]
  },
  {
   "cell_type": "code",
   "execution_count": 63,
   "id": "7bea64c6",
   "metadata": {},
   "outputs": [],
   "source": [
    "from pyspark.sql.types import TimestampType"
   ]
  },
  {
   "cell_type": "code",
   "execution_count": 64,
   "id": "eda3bf4a",
   "metadata": {},
   "outputs": [
    {
     "name": "stdout",
     "output_type": "stream",
     "text": [
      "root\n",
      " |-- Unique_Key: integer (nullable = true)\n",
      " |-- Created_Date: string (nullable = true)\n",
      " |-- Closed_Date: string (nullable = true)\n",
      " |-- Agency: string (nullable = true)\n",
      " |-- Agency Name: string (nullable = true)\n",
      " |-- Complaint Type: string (nullable = true)\n",
      " |-- Descriptor: string (nullable = true)\n",
      " |-- Location Type: string (nullable = true)\n",
      " |-- Incident Zip: string (nullable = true)\n",
      " |-- Incident Address: string (nullable = true)\n",
      " |-- Street Name: string (nullable = true)\n",
      " |-- Cross Street 1: string (nullable = true)\n",
      " |-- Cross Street 2: string (nullable = true)\n",
      " |-- Address Type: string (nullable = true)\n",
      " |-- City: string (nullable = true)\n",
      " |-- Facility Type: string (nullable = true)\n",
      " |-- Status: string (nullable = true)\n",
      " |-- Due_Date: string (nullable = true)\n",
      " |-- Resolution Description: string (nullable = true)\n",
      " |-- Community Board: string (nullable = true)\n",
      " |-- BBL: string (nullable = true)\n",
      " |-- Borough: string (nullable = true)\n",
      " |-- X Coordinate (State Plane): long (nullable = true)\n",
      " |-- Y Coordinate (State Plane): string (nullable = true)\n",
      " |-- Open Data Channel Type: string (nullable = true)\n",
      " |-- Park Facility Name: string (nullable = true)\n",
      " |-- Park Borough: string (nullable = true)\n",
      " |-- Latitude: double (nullable = true)\n",
      " |-- Longitude: double (nullable = true)\n",
      " |-- Location: string (nullable = true)\n",
      " |-- Resolution_Action_Updated_Date: string (nullable = true)\n",
      "\n"
     ]
    }
   ],
   "source": [
    "updated_pyspark_dummy.printSchema()"
   ]
  },
  {
   "cell_type": "code",
   "execution_count": 65,
   "id": "9b361316",
   "metadata": {},
   "outputs": [
    {
     "name": "stdout",
     "output_type": "stream",
     "text": [
      "+----------+--------------------+--------------------+------+--------------------+--------------------+--------------------+--------------------+------------+--------------------+--------------------+-----------------+----------------+------------+-------------------+-------------+--------+--------------------+----------------------+----------------+----------+-------------+--------------------------+--------------------------+----------------------+------------------+-------------+------------------+------------------+--------------------+------------------------------+------+\n",
      "|Unique_Key|        Created_Date|         Closed_Date|Agency|         Agency Name|      Complaint Type|          Descriptor|       Location Type|Incident Zip|    Incident Address|         Street Name|   Cross Street 1|  Cross Street 2|Address Type|               City|Facility Type|  Status|            Due_Date|Resolution Description| Community Board|       BBL|      Borough|X Coordinate (State Plane)|Y Coordinate (State Plane)|Open Data Channel Type|Park Facility Name| Park Borough|          Latitude|         Longitude|            Location|Resolution_Action_Updated_Date|date_S|\n",
      "+----------+--------------------+--------------------+------+--------------------+--------------------+--------------------+--------------------+------------+--------------------+--------------------+-----------------+----------------+------------+-------------------+-------------+--------+--------------------+----------------------+----------------+----------+-------------+--------------------------+--------------------------+----------------------+------------------+-------------+------------------+------------------+--------------------+------------------------------+------+\n",
      "|  25620844|05/28/2013 10:12:...|05/28/2013 02:24:...|  NYPD|New York City Pol...| Urinating in Public|                 N/A|     Street/Sidewalk|       10459|1228 SOUTHERN BOU...|  SOUTHERN BOULEVARD|      HOME STREET|  FREEMAN STREET|     ADDRESS|              BRONX|     Precinct|  Closed|05/28/2013 06:12:...|  The Police Depart...|        03 BRONX|2029790012|        BRONX|                   1014173|                    241412|                 PHONE|       Unspecified|        BRONX| 40.82924494625826|-73.89187449031489|(40.8292449462582...|          05/28/2013 02:24:...|  null|\n",
      "|  25620853|05/28/2013 04:06:...|05/31/2013 12:34:...|   DPR|Department of Par...|           Dead Tree|     Dead/Dying Tree|              Street|       11236|10802 FLATLANDS N...|FLATLANDS NINTH S...|  EAST 108 STREET|        DEAD END|     ADDRESS|           BROOKLYN|          N/A|  Closed|06/05/2013 07:43:...|  The Department of...|     18 BROOKLYN|3082737501|     BROOKLYN|                   1016796|                    172561|                 PHONE|       Unspecified|     BROOKLYN| 40.64025689607397|-73.88272946731684|(40.6402568960739...|          05/31/2013 12:34:...|  null|\n",
      "|  25620854|05/28/2013 03:29:...|06/05/2013 09:24:...|   DPR|Department of Par...|           Dead Tree|     Dead/Dying Tree|              Street|       11370|     30-36 83 STREET|           83 STREET|        30 AVENUE|       31 AVENUE|     ADDRESS|      EAST ELMHURST|          N/A|  Closed|06/05/2013 06:52:...|  The Department of...|       03 QUEENS|4013800023|       QUEENS|                   1016017|                    216370|                 PHONE|       Unspecified|       QUEENS|40.760505061647166|  -73.885329735479|(40.7605050616471...|          06/05/2013 09:24:...|  null|\n",
      "|  25620855|05/28/2013 07:55:...|05/29/2013 07:21:...|   DPR|Department of Par...|           Dead Tree|     Dead/Dying Tree|              Street|       11413|   227-18 141 AVENUE|          141 AVENUE|       227 STREET|      228 STREET|     ADDRESS|SPRINGFIELD GARDENS|          N/A|  Closed|06/02/2013 07:55:...|  The Department of...|       13 QUEENS|4131910297|       QUEENS|                   1054155|                    182971|                 PHONE|       Unspecified|       QUEENS| 40.66861388568256|-73.74800925747168|(40.6686138856825...|          05/29/2013 07:20:...|  null|\n",
      "|  25620856|05/28/2013 02:50:...|06/02/2013 02:50:...|   DPR|Department of Par...|           Dead Tree|     Dead/Dying Tree|              Street|       10312|  666 RATHBUN AVENUE|      RATHBUN AVENUE|  HUGUENOT AVENUE|ELLSWORTH AVENUE|     ADDRESS|      STATEN ISLAND|          N/A|    Open|06/02/2013 02:50:...|  The Department of...|03 STATEN ISLAND|5068430044|STATEN ISLAND|                    929316|                    135821|                 PHONE|       Unspecified|STATEN ISLAND| 40.53930264937191|-74.19764060985678|(40.5393026493719...|          06/02/2013 02:50:...|  null|\n",
      "|  25620866|05/28/2013 10:32:...|05/30/2013 08:09:...|  NYPD|New York City Pol...|Noise - Street/Si...|        Loud Talking|     Street/Sidewalk|       10034|    176 NAGLE AVENUE|        NAGLE AVENUE|   DYCKMAN STREET|    NYCTA SUBWAY|     ADDRESS|           NEW YORK|     Precinct|  Closed|05/29/2013 06:32:...|  The Police Depart...|    12 MANHATTAN|1022170047|    MANHATTAN|                   1005179|                    253245|                ONLINE|       Unspecified|    MANHATTAN| 40.86174893459112|-73.92433698102494|(40.8617489345911...|          05/30/2013 08:09:...|  null|\n",
      "|  25620867|05/28/2013 06:49:...|05/31/2013 01:55:...| DOHMH|Department of Hea...|      Food Poisoning|              1 or 2|Restaurant/Bar/De...|       10003|        227 1 AVENUE|            1 AVENUE|   EAST 13 STREET|  EAST 14 STREET|     ADDRESS|           NEW YORK|          N/A|  Closed|06/11/2013 06:49:...|  The Department of...|    03 MANHATTAN|1004550038|    MANHATTAN|                    989005|                    205592|                 PHONE|       Unspecified|    MANHATTAN|  40.7309779455853|-73.98284334851826|(40.7309779455853...|          05/31/2013 01:54:...|  null|\n",
      "|  25620868|05/28/2013 07:03:...|05/31/2013 01:55:...| DOHMH|Department of Hea...|      Food Poisoning|              1 or 2|Restaurant/Bar/De...|       10003|        227 1 AVENUE|            1 AVENUE|   EAST 13 STREET|  EAST 14 STREET|     ADDRESS|           NEW YORK|          N/A|  Closed|06/11/2013 06:49:...|  The Department of...|    03 MANHATTAN|1004550038|    MANHATTAN|                    989005|                    205592|                 PHONE|       Unspecified|    MANHATTAN|  40.7309779455853|-73.98284334851826|(40.7309779455853...|          05/31/2013 01:54:...|  null|\n",
      "|  25620872|05/28/2013 04:18:...|06/04/2013 10:09:...| DOHMH|Department of Hea...|  Indoor Air Quality|Chemical Vapors/G...|Other (Explain Be...|       10013|     44 WHITE STREET|        WHITE STREET|    CHURCH STREET|  FRANKLIN PLACE|     ADDRESS|           NEW YORK|          N/A|  Closed|06/27/2013 04:18:...|  The Department of...|    01 MANHATTAN|1001930012|    MANHATTAN|                    983062|                    201084|                ONLINE|       Unspecified|    MANHATTAN| 40.71860577784937|-74.00428566104473|(40.7186057778493...|          06/04/2013 10:09:...|  null|\n",
      "|  25620876|05/28/2013 09:32:...|07/24/2013 10:37:...|   DPR|Department of Par...|        Damaged Tree|Branch Cracked an...|              Street|       11355|    45-74 157 STREET|          157 STREET|        45 AVENUE|       46 AVENUE|     ADDRESS|           FLUSHING|          N/A|  Closed|07/25/2013 10:40:...|  The Department of...|       07 QUEENS|4054350082|       QUEENS|                   1037045|                    214394|                 PHONE|       Unspecified|       QUEENS| 40.75498089829135|-73.80944006042999|(40.7549808982913...|          07/24/2013 10:36:...|  null|\n",
      "|  25620880|05/28/2013 12:04:...|06/27/2013 12:04:...| DOHMH|Department of Hea...|      Standing Water|Other - Explain B...|               Other|       10013|   139 CENTER STREET|       CENTER STREET|     WHITE STREET|   WALKER STREET|     ADDRESS|           NEW YORK|          N/A|    Open|06/27/2013 12:04:...|  The Department of...|    01 MANHATTAN|1001977502|    MANHATTAN|                    984083|                    200578|                 PHONE|       Unspecified|    MANHATTAN|40.717217007536156|-74.00060243306505|(40.7172170075361...|          06/27/2013 12:04:...|  null|\n",
      "|  25620884|05/28/2013 08:24:...|05/29/2013 07:28:...|   DPR|Department of Par...|        Damaged Tree|    Tree Trunk Split|              Street|       11205|  116 CLINTON AVENUE|      CLINTON AVENUE|      PARK AVENUE|   MYRTLE AVENUE|     ADDRESS|           BROOKLYN|          N/A|  Closed|06/02/2013 08:24:...|  The condition was...|     02 BROOKLYN|3018870078|     BROOKLYN|                    992828|                    192249|                 PHONE|       Unspecified|     BROOKLYN| 40.69435171040216|-73.96906647478316|(40.6943517104021...|          05/29/2013 07:28:...|  null|\n",
      "|  25620893|05/28/2013 12:00:...|06/14/2013 12:00:...| DOHMH|Department of Hea...|Unsanitary Animal...|        Animal Waste| 1-2 Family Dwelling|       11411|   115-01 217 STREET|          217 STREET|       115 AVENUE|        115 ROAD|     ADDRESS|    Cambria Heights|          N/A|  Closed|06/27/2013 12:16:...|  The Department of...|       13 QUEENS|4112810030|       QUEENS|                   1056293|                    194722|                 PHONE|       Unspecified|       QUEENS|40.700850415092525|-73.74017668245126|(40.7008504150925...|          06/14/2013 12:00:...|  null|\n",
      "|  25620906|05/28/2013 10:43:...|05/29/2013 10:21:...|   DOT|Department of Tra...|Street Sign - Dam...|Street Cleaning -...|              Street|       11204|1773 BAY RIDGE PA...|   BAY RIDGE PARKWAY|        17 AVENUE|       18 AVENUE|     ADDRESS|           BROOKLYN|          N/A|  Closed|06/11/2013 10:43:...|  \"The Department o...|     11 BROOKLYN|3062150053|     BROOKLYN|                    985145|                    162929|                ONLINE|       Unspecified|     BROOKLYN|  40.6138788322438|-73.99677638967815|(40.6138788322438...|          05/29/2013 10:20:...|  null|\n",
      "|  25620925|05/28/2013 12:00:...|06/12/2013 12:00:...|   HPD|Department of Hou...|     PAINT - PLASTER|             CEILING|RESIDENTIAL BUILDING|       10033|   21 BENNETT AVENUE|      BENNETT AVENUE|  WEST 181 STREET| WEST 184 STREET|     ADDRESS|           NEW YORK|          N/A|  Closed|06/12/2013 12:00:...|  The Department of...|    12 MANHATTAN|1021800096|    MANHATTAN|                   1001878|                    249394|                 PHONE|       Unspecified|    MANHATTAN| 40.85118630249899|-73.93628095735038|(40.8511863024989...|          06/12/2013 12:00:...|  null|\n",
      "|  25620946|05/28/2013 11:37:...|06/03/2013 10:41:...|   DPR|Department of Par...|    New Tree Request|     For One Address|              Street|       11358|160-17 LABURNUM A...|     LABURNUM AVENUE|       160 STREET|      161 STREET|     ADDRESS|           FLUSHING|          N/A|  Closed|11/24/2013 11:37:...|  The Department of...|       07 QUEENS|4054590057|       QUEENS|                   1037781|                    213227|                 PHONE|       Unspecified|       QUEENS| 40.75177336185098|-73.80679281791294|(40.7517733618509...|          06/03/2013 10:40:...|  null|\n",
      "|  25620947|05/28/2013 12:06:...|08/02/2013 12:33:...|   DPR|Department of Par...|    New Tree Request|     For One Address|              Street|       11230| 1137 EAST 14 STREET|      EAST 14 STREET|         AVENUE K|        AVENUE L|     ADDRESS|           BROOKLYN|          N/A|  Closed|11/30/2013 10:42:...|  The agency has de...|     14 BROOKLYN|3067250074|     BROOKLYN|                    994890|                    165787|                 OTHER|       Unspecified|     BROOKLYN|40.621717105140625|-73.96167235443735|(40.6217171051406...|          08/02/2013 12:33:...|  null|\n",
      "|  25620948|05/28/2013 12:06:...|12/15/2014 04:54:...|   DPR|Department of Par...|    New Tree Request|     For One Address|              Street|       11207|  109 WARWICK STREET|      WARWICK STREET| RIDGEWOOD AVENUE|ARLINGTON AVENUE|     ADDRESS|           BROOKLYN|          N/A|Assigned|12/15/2014 04:54:...|  The location has ...|     05 BROOKLYN|3039230012|     BROOKLYN|                   1015347|                    187548|                 PHONE|       Unspecified|     BROOKLYN|40.681398077547406| -73.8878814149668|(40.6813980775474...|          06/18/2014 04:54:...|  null|\n",
      "|  25620952|05/28/2013 02:56:...|05/29/2013 07:06:...|   DOT|Department of Tra...|   Broken Muni Meter|          Bent/Loose|              Street|       10010|  122 EAST 23 STREET|      EAST 23 STREET|PARK AVENUE SOUTH|LEXINGTON AVENUE|     ADDRESS|           NEW YORK|          N/A|  Closed|06/27/2013 02:56:...|  \"The Department o...|    05 MANHATTAN|1008780015|    MANHATTAN|                    988318|                    208785|                 PHONE|       Unspecified|    MANHATTAN| 40.73974228555911|-73.98532020213307|(40.7397422855591...|          05/29/2013 07:06:...|  null|\n",
      "|  25620957|05/28/2013 03:38:...|07/05/2013 07:13:...|   DPR|Department of Par...|Root/Sewer/Sidewa...|Trees and Sidewal...|              Street|       11358|33-62 UTOPIA PARKWAY|      UTOPIA PARKWAY|        33 AVENUE|       35 AVENUE|     ADDRESS|           FLUSHING|          N/A|  Closed|06/28/2013 06:24:...|  This request has ...|       07 QUEENS|4052570036|       QUEENS|                   1041656|                    218664|                 PHONE|       Unspecified|       QUEENS| 40.76667218536972|-73.79276056845092|(40.7666721853697...|          07/05/2013 07:13:...|  null|\n",
      "+----------+--------------------+--------------------+------+--------------------+--------------------+--------------------+--------------------+------------+--------------------+--------------------+-----------------+----------------+------------+-------------------+-------------+--------+--------------------+----------------------+----------------+----------+-------------+--------------------------+--------------------------+----------------------+------------------+-------------+------------------+------------------+--------------------+------------------------------+------+\n",
      "only showing top 20 rows\n",
      "\n"
     ]
    }
   ],
   "source": [
    "#to_date(col(\"Closed_Date\")).show()\n",
    "\n",
    "updated_pyspark_dummy.withColumn(\"date_S\",to_date(col(\"Closed_Date\"),'MM/dd/yyyy HH:mm:...')).show()\n"
   ]
  },
  {
   "cell_type": "code",
   "execution_count": 66,
   "id": "8fe8f6b3",
   "metadata": {},
   "outputs": [
    {
     "name": "stdout",
     "output_type": "stream",
     "text": [
      "+----------+--------------------+--------------------+------+--------------------+--------------------+--------------------+--------------------+------------+--------------------+--------------------+-----------------+----------------+------------+-------------------+-------------+--------+--------------------+----------------------+----------------+----------+-------------+--------------------------+--------------------------+----------------------+------------------+-------------+------------------+------------------+--------------------+------------------------------+\n",
      "|Unique_Key|        Created_Date|         Closed_Date|Agency|         Agency Name|      Complaint Type|          Descriptor|       Location Type|Incident Zip|    Incident Address|         Street Name|   Cross Street 1|  Cross Street 2|Address Type|               City|Facility Type|  Status|            Due_Date|Resolution Description| Community Board|       BBL|      Borough|X Coordinate (State Plane)|Y Coordinate (State Plane)|Open Data Channel Type|Park Facility Name| Park Borough|          Latitude|         Longitude|            Location|Resolution_Action_Updated_Date|\n",
      "+----------+--------------------+--------------------+------+--------------------+--------------------+--------------------+--------------------+------------+--------------------+--------------------+-----------------+----------------+------------+-------------------+-------------+--------+--------------------+----------------------+----------------+----------+-------------+--------------------------+--------------------------+----------------------+------------------+-------------+------------------+------------------+--------------------+------------------------------+\n",
      "|  25620844|05/28/2013 10:12:...|05/28/2013 02:24:...|  NYPD|New York City Pol...| Urinating in Public|                 N/A|     Street/Sidewalk|       10459|1228 SOUTHERN BOU...|  SOUTHERN BOULEVARD|      HOME STREET|  FREEMAN STREET|     ADDRESS|              BRONX|     Precinct|  Closed|05/28/2013 06:12:...|  The Police Depart...|        03 BRONX|2029790012|        BRONX|                   1014173|                    241412|                 PHONE|       Unspecified|        BRONX| 40.82924494625826|-73.89187449031489|(40.8292449462582...|          05/28/2013 02:24:...|\n",
      "|  25620853|05/28/2013 04:06:...|05/31/2013 12:34:...|   DPR|Department of Par...|           Dead Tree|     Dead/Dying Tree|              Street|       11236|10802 FLATLANDS N...|FLATLANDS NINTH S...|  EAST 108 STREET|        DEAD END|     ADDRESS|           BROOKLYN|          N/A|  Closed|06/05/2013 07:43:...|  The Department of...|     18 BROOKLYN|3082737501|     BROOKLYN|                   1016796|                    172561|                 PHONE|       Unspecified|     BROOKLYN| 40.64025689607397|-73.88272946731684|(40.6402568960739...|          05/31/2013 12:34:...|\n",
      "|  25620854|05/28/2013 03:29:...|06/05/2013 09:24:...|   DPR|Department of Par...|           Dead Tree|     Dead/Dying Tree|              Street|       11370|     30-36 83 STREET|           83 STREET|        30 AVENUE|       31 AVENUE|     ADDRESS|      EAST ELMHURST|          N/A|  Closed|06/05/2013 06:52:...|  The Department of...|       03 QUEENS|4013800023|       QUEENS|                   1016017|                    216370|                 PHONE|       Unspecified|       QUEENS|40.760505061647166|  -73.885329735479|(40.7605050616471...|          06/05/2013 09:24:...|\n",
      "|  25620855|05/28/2013 07:55:...|05/29/2013 07:21:...|   DPR|Department of Par...|           Dead Tree|     Dead/Dying Tree|              Street|       11413|   227-18 141 AVENUE|          141 AVENUE|       227 STREET|      228 STREET|     ADDRESS|SPRINGFIELD GARDENS|          N/A|  Closed|06/02/2013 07:55:...|  The Department of...|       13 QUEENS|4131910297|       QUEENS|                   1054155|                    182971|                 PHONE|       Unspecified|       QUEENS| 40.66861388568256|-73.74800925747168|(40.6686138856825...|          05/29/2013 07:20:...|\n",
      "|  25620856|05/28/2013 02:50:...|06/02/2013 02:50:...|   DPR|Department of Par...|           Dead Tree|     Dead/Dying Tree|              Street|       10312|  666 RATHBUN AVENUE|      RATHBUN AVENUE|  HUGUENOT AVENUE|ELLSWORTH AVENUE|     ADDRESS|      STATEN ISLAND|          N/A|    Open|06/02/2013 02:50:...|  The Department of...|03 STATEN ISLAND|5068430044|STATEN ISLAND|                    929316|                    135821|                 PHONE|       Unspecified|STATEN ISLAND| 40.53930264937191|-74.19764060985678|(40.5393026493719...|          06/02/2013 02:50:...|\n",
      "|  25620866|05/28/2013 10:32:...|05/30/2013 08:09:...|  NYPD|New York City Pol...|Noise - Street/Si...|        Loud Talking|     Street/Sidewalk|       10034|    176 NAGLE AVENUE|        NAGLE AVENUE|   DYCKMAN STREET|    NYCTA SUBWAY|     ADDRESS|           NEW YORK|     Precinct|  Closed|05/29/2013 06:32:...|  The Police Depart...|    12 MANHATTAN|1022170047|    MANHATTAN|                   1005179|                    253245|                ONLINE|       Unspecified|    MANHATTAN| 40.86174893459112|-73.92433698102494|(40.8617489345911...|          05/30/2013 08:09:...|\n",
      "|  25620867|05/28/2013 06:49:...|05/31/2013 01:55:...| DOHMH|Department of Hea...|      Food Poisoning|              1 or 2|Restaurant/Bar/De...|       10003|        227 1 AVENUE|            1 AVENUE|   EAST 13 STREET|  EAST 14 STREET|     ADDRESS|           NEW YORK|          N/A|  Closed|06/11/2013 06:49:...|  The Department of...|    03 MANHATTAN|1004550038|    MANHATTAN|                    989005|                    205592|                 PHONE|       Unspecified|    MANHATTAN|  40.7309779455853|-73.98284334851826|(40.7309779455853...|          05/31/2013 01:54:...|\n",
      "|  25620868|05/28/2013 07:03:...|05/31/2013 01:55:...| DOHMH|Department of Hea...|      Food Poisoning|              1 or 2|Restaurant/Bar/De...|       10003|        227 1 AVENUE|            1 AVENUE|   EAST 13 STREET|  EAST 14 STREET|     ADDRESS|           NEW YORK|          N/A|  Closed|06/11/2013 06:49:...|  The Department of...|    03 MANHATTAN|1004550038|    MANHATTAN|                    989005|                    205592|                 PHONE|       Unspecified|    MANHATTAN|  40.7309779455853|-73.98284334851826|(40.7309779455853...|          05/31/2013 01:54:...|\n",
      "|  25620872|05/28/2013 04:18:...|06/04/2013 10:09:...| DOHMH|Department of Hea...|  Indoor Air Quality|Chemical Vapors/G...|Other (Explain Be...|       10013|     44 WHITE STREET|        WHITE STREET|    CHURCH STREET|  FRANKLIN PLACE|     ADDRESS|           NEW YORK|          N/A|  Closed|06/27/2013 04:18:...|  The Department of...|    01 MANHATTAN|1001930012|    MANHATTAN|                    983062|                    201084|                ONLINE|       Unspecified|    MANHATTAN| 40.71860577784937|-74.00428566104473|(40.7186057778493...|          06/04/2013 10:09:...|\n",
      "|  25620876|05/28/2013 09:32:...|07/24/2013 10:37:...|   DPR|Department of Par...|        Damaged Tree|Branch Cracked an...|              Street|       11355|    45-74 157 STREET|          157 STREET|        45 AVENUE|       46 AVENUE|     ADDRESS|           FLUSHING|          N/A|  Closed|07/25/2013 10:40:...|  The Department of...|       07 QUEENS|4054350082|       QUEENS|                   1037045|                    214394|                 PHONE|       Unspecified|       QUEENS| 40.75498089829135|-73.80944006042999|(40.7549808982913...|          07/24/2013 10:36:...|\n",
      "|  25620880|05/28/2013 12:04:...|06/27/2013 12:04:...| DOHMH|Department of Hea...|      Standing Water|Other - Explain B...|               Other|       10013|   139 CENTER STREET|       CENTER STREET|     WHITE STREET|   WALKER STREET|     ADDRESS|           NEW YORK|          N/A|    Open|06/27/2013 12:04:...|  The Department of...|    01 MANHATTAN|1001977502|    MANHATTAN|                    984083|                    200578|                 PHONE|       Unspecified|    MANHATTAN|40.717217007536156|-74.00060243306505|(40.7172170075361...|          06/27/2013 12:04:...|\n",
      "|  25620884|05/28/2013 08:24:...|05/29/2013 07:28:...|   DPR|Department of Par...|        Damaged Tree|    Tree Trunk Split|              Street|       11205|  116 CLINTON AVENUE|      CLINTON AVENUE|      PARK AVENUE|   MYRTLE AVENUE|     ADDRESS|           BROOKLYN|          N/A|  Closed|06/02/2013 08:24:...|  The condition was...|     02 BROOKLYN|3018870078|     BROOKLYN|                    992828|                    192249|                 PHONE|       Unspecified|     BROOKLYN| 40.69435171040216|-73.96906647478316|(40.6943517104021...|          05/29/2013 07:28:...|\n",
      "|  25620893|05/28/2013 12:00:...|06/14/2013 12:00:...| DOHMH|Department of Hea...|Unsanitary Animal...|        Animal Waste| 1-2 Family Dwelling|       11411|   115-01 217 STREET|          217 STREET|       115 AVENUE|        115 ROAD|     ADDRESS|    Cambria Heights|          N/A|  Closed|06/27/2013 12:16:...|  The Department of...|       13 QUEENS|4112810030|       QUEENS|                   1056293|                    194722|                 PHONE|       Unspecified|       QUEENS|40.700850415092525|-73.74017668245126|(40.7008504150925...|          06/14/2013 12:00:...|\n",
      "|  25620906|05/28/2013 10:43:...|05/29/2013 10:21:...|   DOT|Department of Tra...|Street Sign - Dam...|Street Cleaning -...|              Street|       11204|1773 BAY RIDGE PA...|   BAY RIDGE PARKWAY|        17 AVENUE|       18 AVENUE|     ADDRESS|           BROOKLYN|          N/A|  Closed|06/11/2013 10:43:...|  \"The Department o...|     11 BROOKLYN|3062150053|     BROOKLYN|                    985145|                    162929|                ONLINE|       Unspecified|     BROOKLYN|  40.6138788322438|-73.99677638967815|(40.6138788322438...|          05/29/2013 10:20:...|\n",
      "|  25620925|05/28/2013 12:00:...|06/12/2013 12:00:...|   HPD|Department of Hou...|     PAINT - PLASTER|             CEILING|RESIDENTIAL BUILDING|       10033|   21 BENNETT AVENUE|      BENNETT AVENUE|  WEST 181 STREET| WEST 184 STREET|     ADDRESS|           NEW YORK|          N/A|  Closed|06/12/2013 12:00:...|  The Department of...|    12 MANHATTAN|1021800096|    MANHATTAN|                   1001878|                    249394|                 PHONE|       Unspecified|    MANHATTAN| 40.85118630249899|-73.93628095735038|(40.8511863024989...|          06/12/2013 12:00:...|\n",
      "|  25620946|05/28/2013 11:37:...|06/03/2013 10:41:...|   DPR|Department of Par...|    New Tree Request|     For One Address|              Street|       11358|160-17 LABURNUM A...|     LABURNUM AVENUE|       160 STREET|      161 STREET|     ADDRESS|           FLUSHING|          N/A|  Closed|11/24/2013 11:37:...|  The Department of...|       07 QUEENS|4054590057|       QUEENS|                   1037781|                    213227|                 PHONE|       Unspecified|       QUEENS| 40.75177336185098|-73.80679281791294|(40.7517733618509...|          06/03/2013 10:40:...|\n",
      "|  25620947|05/28/2013 12:06:...|08/02/2013 12:33:...|   DPR|Department of Par...|    New Tree Request|     For One Address|              Street|       11230| 1137 EAST 14 STREET|      EAST 14 STREET|         AVENUE K|        AVENUE L|     ADDRESS|           BROOKLYN|          N/A|  Closed|11/30/2013 10:42:...|  The agency has de...|     14 BROOKLYN|3067250074|     BROOKLYN|                    994890|                    165787|                 OTHER|       Unspecified|     BROOKLYN|40.621717105140625|-73.96167235443735|(40.6217171051406...|          08/02/2013 12:33:...|\n",
      "|  25620948|05/28/2013 12:06:...|12/15/2014 04:54:...|   DPR|Department of Par...|    New Tree Request|     For One Address|              Street|       11207|  109 WARWICK STREET|      WARWICK STREET| RIDGEWOOD AVENUE|ARLINGTON AVENUE|     ADDRESS|           BROOKLYN|          N/A|Assigned|12/15/2014 04:54:...|  The location has ...|     05 BROOKLYN|3039230012|     BROOKLYN|                   1015347|                    187548|                 PHONE|       Unspecified|     BROOKLYN|40.681398077547406| -73.8878814149668|(40.6813980775474...|          06/18/2014 04:54:...|\n",
      "|  25620952|05/28/2013 02:56:...|05/29/2013 07:06:...|   DOT|Department of Tra...|   Broken Muni Meter|          Bent/Loose|              Street|       10010|  122 EAST 23 STREET|      EAST 23 STREET|PARK AVENUE SOUTH|LEXINGTON AVENUE|     ADDRESS|           NEW YORK|          N/A|  Closed|06/27/2013 02:56:...|  \"The Department o...|    05 MANHATTAN|1008780015|    MANHATTAN|                    988318|                    208785|                 PHONE|       Unspecified|    MANHATTAN| 40.73974228555911|-73.98532020213307|(40.7397422855591...|          05/29/2013 07:06:...|\n",
      "|  25620957|05/28/2013 03:38:...|07/05/2013 07:13:...|   DPR|Department of Par...|Root/Sewer/Sidewa...|Trees and Sidewal...|              Street|       11358|33-62 UTOPIA PARKWAY|      UTOPIA PARKWAY|        33 AVENUE|       35 AVENUE|     ADDRESS|           FLUSHING|          N/A|  Closed|06/28/2013 06:24:...|  This request has ...|       07 QUEENS|4052570036|       QUEENS|                   1041656|                    218664|                 PHONE|       Unspecified|       QUEENS| 40.76667218536972|-73.79276056845092|(40.7666721853697...|          07/05/2013 07:13:...|\n",
      "+----------+--------------------+--------------------+------+--------------------+--------------------+--------------------+--------------------+------------+--------------------+--------------------+-----------------+----------------+------------+-------------------+-------------+--------+--------------------+----------------------+----------------+----------+-------------+--------------------------+--------------------------+----------------------+------------------+-------------+------------------+------------------+--------------------+------------------------------+\n",
      "only showing top 20 rows\n",
      "\n"
     ]
    }
   ],
   "source": [
    "updated_pyspark_dummy.show()"
   ]
  },
  {
   "cell_type": "code",
   "execution_count": 67,
   "id": "5241340a",
   "metadata": {},
   "outputs": [],
   "source": [
    "#updated_pyspark_dummy.withColumn (\"dati\",unix_timestamp(\"Closed_Date\", \"MM/dd/yyyy HH:mm:ss a\")).show()\n",
    "import pyspark.sql.functions as f\n",
    "\n",
    "updated_pyspark_dummy = updated_pyspark_dummy.withColumn(\"web_datetime\", f.from_unixtime(f.unix_timestamp(\"Closed_Date\",'MM/dd/yyyy hh:mm:ss aa'),'MM/dd/yyyy HH:mm:ss'))"
   ]
  },
  {
   "cell_type": "code",
   "execution_count": 68,
   "id": "a8268b70",
   "metadata": {},
   "outputs": [
    {
     "ename": "Py4JJavaError",
     "evalue": "An error occurred while calling o693.collectToPython.\n: org.apache.spark.SparkUpgradeException: You may get a different result due to the upgrading of Spark 3.0: Fail to recognize 'MM/dd/yyyy hh:mm:ss aa' pattern in the DateTimeFormatter. 1) You can set spark.sql.legacy.timeParserPolicy to LEGACY to restore the behavior before Spark 3.0. 2) You can form a valid datetime pattern with the guide from https://spark.apache.org/docs/latest/sql-ref-datetime-pattern.html\r\n\tat org.apache.spark.sql.catalyst.util.DateTimeFormatterHelper$$anonfun$checkLegacyFormatter$1.applyOrElse(DateTimeFormatterHelper.scala:196)\r\n\tat org.apache.spark.sql.catalyst.util.DateTimeFormatterHelper$$anonfun$checkLegacyFormatter$1.applyOrElse(DateTimeFormatterHelper.scala:185)\r\n\tat scala.runtime.AbstractPartialFunction.apply(AbstractPartialFunction.scala:38)\r\n\tat org.apache.spark.sql.catalyst.util.Iso8601TimestampFormatter.validatePatternString(TimestampFormatter.scala:109)\r\n\tat org.apache.spark.sql.catalyst.util.TimestampFormatter$.getFormatter(TimestampFormatter.scala:300)\r\n\tat org.apache.spark.sql.catalyst.util.TimestampFormatter$.apply(TimestampFormatter.scala:333)\r\n\tat org.apache.spark.sql.catalyst.expressions.TimestampFormatterHelper.getFormatter(datetimeExpressions.scala:72)\r\n\tat org.apache.spark.sql.catalyst.expressions.TimestampFormatterHelper.getFormatter$(datetimeExpressions.scala:67)\r\n\tat org.apache.spark.sql.catalyst.expressions.ToTimestamp.getFormatter(datetimeExpressions.scala:919)\r\n\tat org.apache.spark.sql.catalyst.expressions.TimestampFormatterHelper.$anonfun$formatterOption$1(datetimeExpressions.scala:64)\r\n\tat scala.Option.map(Option.scala:230)\r\n\tat org.apache.spark.sql.catalyst.expressions.TimestampFormatterHelper.formatterOption(datetimeExpressions.scala:64)\r\n\tat org.apache.spark.sql.catalyst.expressions.TimestampFormatterHelper.formatterOption$(datetimeExpressions.scala:62)\r\n\tat org.apache.spark.sql.catalyst.expressions.ToTimestamp.formatterOption$lzycompute(datetimeExpressions.scala:919)\r\n\tat org.apache.spark.sql.catalyst.expressions.ToTimestamp.formatterOption(datetimeExpressions.scala:919)\r\n\tat org.apache.spark.sql.catalyst.expressions.ToTimestamp.doGenCode(datetimeExpressions.scala:979)\r\n\tat org.apache.spark.sql.catalyst.expressions.Expression.$anonfun$genCode$3(Expression.scala:146)\r\n\tat scala.Option.getOrElse(Option.scala:189)\r\n\tat org.apache.spark.sql.catalyst.expressions.Expression.genCode(Expression.scala:141)\r\n\tat org.apache.spark.sql.catalyst.expressions.BinaryExpression.nullSafeCodeGen(Expression.scala:608)\r\n\tat org.apache.spark.sql.catalyst.expressions.BinaryExpression.defineCodeGen(Expression.scala:591)\r\n\tat org.apache.spark.sql.catalyst.expressions.FromUnixTime.$anonfun$doGenCode$22(datetimeExpressions.scala:1102)\r\n\tat scala.Option.map(Option.scala:230)\r\n\tat org.apache.spark.sql.catalyst.expressions.FromUnixTime.doGenCode(datetimeExpressions.scala:1100)\r\n\tat org.apache.spark.sql.catalyst.expressions.Expression.$anonfun$genCode$3(Expression.scala:146)\r\n\tat scala.Option.getOrElse(Option.scala:189)\r\n\tat org.apache.spark.sql.catalyst.expressions.Expression.genCode(Expression.scala:141)\r\n\tat org.apache.spark.sql.catalyst.expressions.Alias.genCode(namedExpressions.scala:163)\r\n\tat org.apache.spark.sql.execution.ProjectExec.$anonfun$doConsume$2(basicPhysicalOperators.scala:73)\r\n\tat scala.collection.TraversableLike.$anonfun$map$1(TraversableLike.scala:238)\r\n\tat scala.collection.mutable.ResizableArray.foreach(ResizableArray.scala:62)\r\n\tat scala.collection.mutable.ResizableArray.foreach$(ResizableArray.scala:55)\r\n\tat scala.collection.mutable.ArrayBuffer.foreach(ArrayBuffer.scala:49)\r\n\tat scala.collection.TraversableLike.map(TraversableLike.scala:238)\r\n\tat scala.collection.TraversableLike.map$(TraversableLike.scala:231)\r\n\tat scala.collection.AbstractTraversable.map(Traversable.scala:108)\r\n\tat org.apache.spark.sql.execution.ProjectExec.$anonfun$doConsume$1(basicPhysicalOperators.scala:73)\r\n\tat org.apache.spark.sql.catalyst.expressions.codegen.CodegenContext.withSubExprEliminationExprs(CodeGenerator.scala:1026)\r\n\tat org.apache.spark.sql.execution.ProjectExec.doConsume(basicPhysicalOperators.scala:73)\r\n\tat org.apache.spark.sql.execution.CodegenSupport.consume(WholeStageCodegenExec.scala:194)\r\n\tat org.apache.spark.sql.execution.CodegenSupport.consume$(WholeStageCodegenExec.scala:149)\r\n\tat org.apache.spark.sql.execution.FilterExec.consume(basicPhysicalOperators.scala:113)\r\n\tat org.apache.spark.sql.execution.FilterExec.doConsume(basicPhysicalOperators.scala:238)\r\n\tat org.apache.spark.sql.execution.CodegenSupport.consume(WholeStageCodegenExec.scala:194)\r\n\tat org.apache.spark.sql.execution.CodegenSupport.consume$(WholeStageCodegenExec.scala:149)\r\n\tat org.apache.spark.sql.execution.InputAdapter.consume(WholeStageCodegenExec.scala:496)\r\n\tat org.apache.spark.sql.execution.InputRDDCodegen.doProduce(WholeStageCodegenExec.scala:483)\r\n\tat org.apache.spark.sql.execution.InputRDDCodegen.doProduce$(WholeStageCodegenExec.scala:456)\r\n\tat org.apache.spark.sql.execution.InputAdapter.doProduce(WholeStageCodegenExec.scala:496)\r\n\tat org.apache.spark.sql.execution.CodegenSupport.$anonfun$produce$1(WholeStageCodegenExec.scala:95)\r\n\tat org.apache.spark.sql.execution.SparkPlan.$anonfun$executeQuery$1(SparkPlan.scala:218)\r\n\tat org.apache.spark.rdd.RDDOperationScope$.withScope(RDDOperationScope.scala:151)\r\n\tat org.apache.spark.sql.execution.SparkPlan.executeQuery(SparkPlan.scala:215)\r\n\tat org.apache.spark.sql.execution.CodegenSupport.produce(WholeStageCodegenExec.scala:90)\r\n\tat org.apache.spark.sql.execution.CodegenSupport.produce$(WholeStageCodegenExec.scala:90)\r\n\tat org.apache.spark.sql.execution.InputAdapter.produce(WholeStageCodegenExec.scala:496)\r\n\tat org.apache.spark.sql.execution.FilterExec.doProduce(basicPhysicalOperators.scala:153)\r\n\tat org.apache.spark.sql.execution.CodegenSupport.$anonfun$produce$1(WholeStageCodegenExec.scala:95)\r\n\tat org.apache.spark.sql.execution.SparkPlan.$anonfun$executeQuery$1(SparkPlan.scala:218)\r\n\tat org.apache.spark.rdd.RDDOperationScope$.withScope(RDDOperationScope.scala:151)\r\n\tat org.apache.spark.sql.execution.SparkPlan.executeQuery(SparkPlan.scala:215)\r\n\tat org.apache.spark.sql.execution.CodegenSupport.produce(WholeStageCodegenExec.scala:90)\r\n\tat org.apache.spark.sql.execution.CodegenSupport.produce$(WholeStageCodegenExec.scala:90)\r\n\tat org.apache.spark.sql.execution.FilterExec.produce(basicPhysicalOperators.scala:113)\r\n\tat org.apache.spark.sql.execution.ProjectExec.doProduce(basicPhysicalOperators.scala:54)\r\n\tat org.apache.spark.sql.execution.CodegenSupport.$anonfun$produce$1(WholeStageCodegenExec.scala:95)\r\n\tat org.apache.spark.sql.execution.SparkPlan.$anonfun$executeQuery$1(SparkPlan.scala:218)\r\n\tat org.apache.spark.rdd.RDDOperationScope$.withScope(RDDOperationScope.scala:151)\r\n\tat org.apache.spark.sql.execution.SparkPlan.executeQuery(SparkPlan.scala:215)\r\n\tat org.apache.spark.sql.execution.CodegenSupport.produce(WholeStageCodegenExec.scala:90)\r\n\tat org.apache.spark.sql.execution.CodegenSupport.produce$(WholeStageCodegenExec.scala:90)\r\n\tat org.apache.spark.sql.execution.ProjectExec.produce(basicPhysicalOperators.scala:41)\r\n\tat org.apache.spark.sql.execution.WholeStageCodegenExec.doCodeGen(WholeStageCodegenExec.scala:655)\r\n\tat org.apache.spark.sql.execution.WholeStageCodegenExec.doExecute(WholeStageCodegenExec.scala:718)\r\n\tat org.apache.spark.sql.execution.SparkPlan.$anonfun$execute$1(SparkPlan.scala:180)\r\n\tat org.apache.spark.sql.execution.SparkPlan.$anonfun$executeQuery$1(SparkPlan.scala:218)\r\n\tat org.apache.spark.rdd.RDDOperationScope$.withScope(RDDOperationScope.scala:151)\r\n\tat org.apache.spark.sql.execution.SparkPlan.executeQuery(SparkPlan.scala:215)\r\n\tat org.apache.spark.sql.execution.SparkPlan.execute(SparkPlan.scala:176)\r\n\tat org.apache.spark.sql.execution.SparkPlan.getByteArrayRdd(SparkPlan.scala:321)\r\n\tat org.apache.spark.sql.execution.SparkPlan.executeTake(SparkPlan.scala:439)\r\n\tat org.apache.spark.sql.execution.SparkPlan.executeTake(SparkPlan.scala:425)\r\n\tat org.apache.spark.sql.execution.CollectLimitExec.executeCollect(limit.scala:47)\r\n\tat org.apache.spark.sql.Dataset.$anonfun$collectToPython$1(Dataset.scala:3519)\r\n\tat org.apache.spark.sql.Dataset.$anonfun$withAction$1(Dataset.scala:3687)\r\n\tat org.apache.spark.sql.execution.SQLExecution$.$anonfun$withNewExecutionId$5(SQLExecution.scala:103)\r\n\tat org.apache.spark.sql.execution.SQLExecution$.withSQLConfPropagated(SQLExecution.scala:163)\r\n\tat org.apache.spark.sql.execution.SQLExecution$.$anonfun$withNewExecutionId$1(SQLExecution.scala:90)\r\n\tat org.apache.spark.sql.SparkSession.withActive(SparkSession.scala:775)\r\n\tat org.apache.spark.sql.execution.SQLExecution$.withNewExecutionId(SQLExecution.scala:64)\r\n\tat org.apache.spark.sql.Dataset.withAction(Dataset.scala:3685)\r\n\tat org.apache.spark.sql.Dataset.collectToPython(Dataset.scala:3516)\r\n\tat sun.reflect.NativeMethodAccessorImpl.invoke0(Native Method)\r\n\tat sun.reflect.NativeMethodAccessorImpl.invoke(NativeMethodAccessorImpl.java:62)\r\n\tat sun.reflect.DelegatingMethodAccessorImpl.invoke(DelegatingMethodAccessorImpl.java:43)\r\n\tat java.lang.reflect.Method.invoke(Method.java:498)\r\n\tat py4j.reflection.MethodInvoker.invoke(MethodInvoker.java:244)\r\n\tat py4j.reflection.ReflectionEngine.invoke(ReflectionEngine.java:357)\r\n\tat py4j.Gateway.invoke(Gateway.java:282)\r\n\tat py4j.commands.AbstractCommand.invokeMethod(AbstractCommand.java:132)\r\n\tat py4j.commands.CallCommand.execute(CallCommand.java:79)\r\n\tat py4j.GatewayConnection.run(GatewayConnection.java:238)\r\n\tat java.lang.Thread.run(Thread.java:748)\r\nCaused by: java.lang.IllegalArgumentException: Too many pattern letters: a\r\n\tat java.time.format.DateTimeFormatterBuilder.parseField(DateTimeFormatterBuilder.java:1763)\r\n\tat java.time.format.DateTimeFormatterBuilder.parsePattern(DateTimeFormatterBuilder.java:1602)\r\n\tat java.time.format.DateTimeFormatterBuilder.appendPattern(DateTimeFormatterBuilder.java:1570)\r\n\tat org.apache.spark.sql.catalyst.util.DateTimeFormatterHelper$.buildFormatter(DateTimeFormatterHelper.scala:254)\r\n\tat org.apache.spark.sql.catalyst.util.DateTimeFormatterHelper.getOrCreateFormatter(DateTimeFormatterHelper.scala:126)\r\n\tat org.apache.spark.sql.catalyst.util.DateTimeFormatterHelper.getOrCreateFormatter$(DateTimeFormatterHelper.scala:117)\r\n\tat org.apache.spark.sql.catalyst.util.Iso8601TimestampFormatter.getOrCreateFormatter(TimestampFormatter.scala:59)\r\n\tat org.apache.spark.sql.catalyst.util.Iso8601TimestampFormatter.formatter$lzycompute(TimestampFormatter.scala:68)\r\n\tat org.apache.spark.sql.catalyst.util.Iso8601TimestampFormatter.formatter(TimestampFormatter.scala:67)\r\n\tat org.apache.spark.sql.catalyst.util.Iso8601TimestampFormatter.validatePatternString(TimestampFormatter.scala:108)\r\n\t... 99 more\r\n",
     "output_type": "error",
     "traceback": [
      "\u001b[1;31m---------------------------------------------------------------------------\u001b[0m",
      "\u001b[1;31mPy4JJavaError\u001b[0m                             Traceback (most recent call last)",
      "\u001b[1;32m<ipython-input-68-6fdc004fae5f>\u001b[0m in \u001b[0;36m<module>\u001b[1;34m\u001b[0m\n\u001b[1;32m----> 1\u001b[1;33m \u001b[0mupdated_pyspark_dummy\u001b[0m\u001b[1;33m.\u001b[0m\u001b[0mfirst\u001b[0m\u001b[1;33m(\u001b[0m\u001b[1;33m)\u001b[0m\u001b[1;33m\u001b[0m\u001b[1;33m\u001b[0m\u001b[0m\n\u001b[0m",
      "\u001b[1;32m~\\anaconda3\\lib\\site-packages\\pyspark\\sql\\dataframe.py\u001b[0m in \u001b[0;36mfirst\u001b[1;34m(self)\u001b[0m\n\u001b[0;32m   1599\u001b[0m         \u001b[0mRow\u001b[0m\u001b[1;33m(\u001b[0m\u001b[0mage\u001b[0m\u001b[1;33m=\u001b[0m\u001b[1;36m2\u001b[0m\u001b[1;33m,\u001b[0m \u001b[0mname\u001b[0m\u001b[1;33m=\u001b[0m\u001b[1;34m'Alice'\u001b[0m\u001b[1;33m)\u001b[0m\u001b[1;33m\u001b[0m\u001b[1;33m\u001b[0m\u001b[0m\n\u001b[0;32m   1600\u001b[0m         \"\"\"\n\u001b[1;32m-> 1601\u001b[1;33m         \u001b[1;32mreturn\u001b[0m \u001b[0mself\u001b[0m\u001b[1;33m.\u001b[0m\u001b[0mhead\u001b[0m\u001b[1;33m(\u001b[0m\u001b[1;33m)\u001b[0m\u001b[1;33m\u001b[0m\u001b[1;33m\u001b[0m\u001b[0m\n\u001b[0m\u001b[0;32m   1602\u001b[0m \u001b[1;33m\u001b[0m\u001b[0m\n\u001b[0;32m   1603\u001b[0m     \u001b[1;32mdef\u001b[0m \u001b[0m__getitem__\u001b[0m\u001b[1;33m(\u001b[0m\u001b[0mself\u001b[0m\u001b[1;33m,\u001b[0m \u001b[0mitem\u001b[0m\u001b[1;33m)\u001b[0m\u001b[1;33m:\u001b[0m\u001b[1;33m\u001b[0m\u001b[1;33m\u001b[0m\u001b[0m\n",
      "\u001b[1;32m~\\anaconda3\\lib\\site-packages\\pyspark\\sql\\dataframe.py\u001b[0m in \u001b[0;36mhead\u001b[1;34m(self, n)\u001b[0m\n\u001b[0;32m   1585\u001b[0m         \"\"\"\n\u001b[0;32m   1586\u001b[0m         \u001b[1;32mif\u001b[0m \u001b[0mn\u001b[0m \u001b[1;32mis\u001b[0m \u001b[1;32mNone\u001b[0m\u001b[1;33m:\u001b[0m\u001b[1;33m\u001b[0m\u001b[1;33m\u001b[0m\u001b[0m\n\u001b[1;32m-> 1587\u001b[1;33m             \u001b[0mrs\u001b[0m \u001b[1;33m=\u001b[0m \u001b[0mself\u001b[0m\u001b[1;33m.\u001b[0m\u001b[0mhead\u001b[0m\u001b[1;33m(\u001b[0m\u001b[1;36m1\u001b[0m\u001b[1;33m)\u001b[0m\u001b[1;33m\u001b[0m\u001b[1;33m\u001b[0m\u001b[0m\n\u001b[0m\u001b[0;32m   1588\u001b[0m             \u001b[1;32mreturn\u001b[0m \u001b[0mrs\u001b[0m\u001b[1;33m[\u001b[0m\u001b[1;36m0\u001b[0m\u001b[1;33m]\u001b[0m \u001b[1;32mif\u001b[0m \u001b[0mrs\u001b[0m \u001b[1;32melse\u001b[0m \u001b[1;32mNone\u001b[0m\u001b[1;33m\u001b[0m\u001b[1;33m\u001b[0m\u001b[0m\n\u001b[0;32m   1589\u001b[0m         \u001b[1;32mreturn\u001b[0m \u001b[0mself\u001b[0m\u001b[1;33m.\u001b[0m\u001b[0mtake\u001b[0m\u001b[1;33m(\u001b[0m\u001b[0mn\u001b[0m\u001b[1;33m)\u001b[0m\u001b[1;33m\u001b[0m\u001b[1;33m\u001b[0m\u001b[0m\n",
      "\u001b[1;32m~\\anaconda3\\lib\\site-packages\\pyspark\\sql\\dataframe.py\u001b[0m in \u001b[0;36mhead\u001b[1;34m(self, n)\u001b[0m\n\u001b[0;32m   1587\u001b[0m             \u001b[0mrs\u001b[0m \u001b[1;33m=\u001b[0m \u001b[0mself\u001b[0m\u001b[1;33m.\u001b[0m\u001b[0mhead\u001b[0m\u001b[1;33m(\u001b[0m\u001b[1;36m1\u001b[0m\u001b[1;33m)\u001b[0m\u001b[1;33m\u001b[0m\u001b[1;33m\u001b[0m\u001b[0m\n\u001b[0;32m   1588\u001b[0m             \u001b[1;32mreturn\u001b[0m \u001b[0mrs\u001b[0m\u001b[1;33m[\u001b[0m\u001b[1;36m0\u001b[0m\u001b[1;33m]\u001b[0m \u001b[1;32mif\u001b[0m \u001b[0mrs\u001b[0m \u001b[1;32melse\u001b[0m \u001b[1;32mNone\u001b[0m\u001b[1;33m\u001b[0m\u001b[1;33m\u001b[0m\u001b[0m\n\u001b[1;32m-> 1589\u001b[1;33m         \u001b[1;32mreturn\u001b[0m \u001b[0mself\u001b[0m\u001b[1;33m.\u001b[0m\u001b[0mtake\u001b[0m\u001b[1;33m(\u001b[0m\u001b[0mn\u001b[0m\u001b[1;33m)\u001b[0m\u001b[1;33m\u001b[0m\u001b[1;33m\u001b[0m\u001b[0m\n\u001b[0m\u001b[0;32m   1590\u001b[0m \u001b[1;33m\u001b[0m\u001b[0m\n\u001b[0;32m   1591\u001b[0m     \u001b[1;32mdef\u001b[0m \u001b[0mfirst\u001b[0m\u001b[1;33m(\u001b[0m\u001b[0mself\u001b[0m\u001b[1;33m)\u001b[0m\u001b[1;33m:\u001b[0m\u001b[1;33m\u001b[0m\u001b[1;33m\u001b[0m\u001b[0m\n",
      "\u001b[1;32m~\\anaconda3\\lib\\site-packages\\pyspark\\sql\\dataframe.py\u001b[0m in \u001b[0;36mtake\u001b[1;34m(self, num)\u001b[0m\n\u001b[0;32m    726\u001b[0m         \u001b[1;33m[\u001b[0m\u001b[0mRow\u001b[0m\u001b[1;33m(\u001b[0m\u001b[0mage\u001b[0m\u001b[1;33m=\u001b[0m\u001b[1;36m2\u001b[0m\u001b[1;33m,\u001b[0m \u001b[0mname\u001b[0m\u001b[1;33m=\u001b[0m\u001b[1;34m'Alice'\u001b[0m\u001b[1;33m)\u001b[0m\u001b[1;33m,\u001b[0m \u001b[0mRow\u001b[0m\u001b[1;33m(\u001b[0m\u001b[0mage\u001b[0m\u001b[1;33m=\u001b[0m\u001b[1;36m5\u001b[0m\u001b[1;33m,\u001b[0m \u001b[0mname\u001b[0m\u001b[1;33m=\u001b[0m\u001b[1;34m'Bob'\u001b[0m\u001b[1;33m)\u001b[0m\u001b[1;33m]\u001b[0m\u001b[1;33m\u001b[0m\u001b[1;33m\u001b[0m\u001b[0m\n\u001b[0;32m    727\u001b[0m         \"\"\"\n\u001b[1;32m--> 728\u001b[1;33m         \u001b[1;32mreturn\u001b[0m \u001b[0mself\u001b[0m\u001b[1;33m.\u001b[0m\u001b[0mlimit\u001b[0m\u001b[1;33m(\u001b[0m\u001b[0mnum\u001b[0m\u001b[1;33m)\u001b[0m\u001b[1;33m.\u001b[0m\u001b[0mcollect\u001b[0m\u001b[1;33m(\u001b[0m\u001b[1;33m)\u001b[0m\u001b[1;33m\u001b[0m\u001b[1;33m\u001b[0m\u001b[0m\n\u001b[0m\u001b[0;32m    729\u001b[0m \u001b[1;33m\u001b[0m\u001b[0m\n\u001b[0;32m    730\u001b[0m     \u001b[1;32mdef\u001b[0m \u001b[0mtail\u001b[0m\u001b[1;33m(\u001b[0m\u001b[0mself\u001b[0m\u001b[1;33m,\u001b[0m \u001b[0mnum\u001b[0m\u001b[1;33m)\u001b[0m\u001b[1;33m:\u001b[0m\u001b[1;33m\u001b[0m\u001b[1;33m\u001b[0m\u001b[0m\n",
      "\u001b[1;32m~\\anaconda3\\lib\\site-packages\\pyspark\\sql\\dataframe.py\u001b[0m in \u001b[0;36mcollect\u001b[1;34m(self)\u001b[0m\n\u001b[0;32m    675\u001b[0m         \"\"\"\n\u001b[0;32m    676\u001b[0m         \u001b[1;32mwith\u001b[0m \u001b[0mSCCallSiteSync\u001b[0m\u001b[1;33m(\u001b[0m\u001b[0mself\u001b[0m\u001b[1;33m.\u001b[0m\u001b[0m_sc\u001b[0m\u001b[1;33m)\u001b[0m \u001b[1;32mas\u001b[0m \u001b[0mcss\u001b[0m\u001b[1;33m:\u001b[0m\u001b[1;33m\u001b[0m\u001b[1;33m\u001b[0m\u001b[0m\n\u001b[1;32m--> 677\u001b[1;33m             \u001b[0msock_info\u001b[0m \u001b[1;33m=\u001b[0m \u001b[0mself\u001b[0m\u001b[1;33m.\u001b[0m\u001b[0m_jdf\u001b[0m\u001b[1;33m.\u001b[0m\u001b[0mcollectToPython\u001b[0m\u001b[1;33m(\u001b[0m\u001b[1;33m)\u001b[0m\u001b[1;33m\u001b[0m\u001b[1;33m\u001b[0m\u001b[0m\n\u001b[0m\u001b[0;32m    678\u001b[0m         \u001b[1;32mreturn\u001b[0m \u001b[0mlist\u001b[0m\u001b[1;33m(\u001b[0m\u001b[0m_load_from_socket\u001b[0m\u001b[1;33m(\u001b[0m\u001b[0msock_info\u001b[0m\u001b[1;33m,\u001b[0m \u001b[0mBatchedSerializer\u001b[0m\u001b[1;33m(\u001b[0m\u001b[0mPickleSerializer\u001b[0m\u001b[1;33m(\u001b[0m\u001b[1;33m)\u001b[0m\u001b[1;33m)\u001b[0m\u001b[1;33m)\u001b[0m\u001b[1;33m)\u001b[0m\u001b[1;33m\u001b[0m\u001b[1;33m\u001b[0m\u001b[0m\n\u001b[0;32m    679\u001b[0m \u001b[1;33m\u001b[0m\u001b[0m\n",
      "\u001b[1;32m~\\anaconda3\\lib\\site-packages\\py4j\\java_gateway.py\u001b[0m in \u001b[0;36m__call__\u001b[1;34m(self, *args)\u001b[0m\n\u001b[0;32m   1302\u001b[0m \u001b[1;33m\u001b[0m\u001b[0m\n\u001b[0;32m   1303\u001b[0m         \u001b[0manswer\u001b[0m \u001b[1;33m=\u001b[0m \u001b[0mself\u001b[0m\u001b[1;33m.\u001b[0m\u001b[0mgateway_client\u001b[0m\u001b[1;33m.\u001b[0m\u001b[0msend_command\u001b[0m\u001b[1;33m(\u001b[0m\u001b[0mcommand\u001b[0m\u001b[1;33m)\u001b[0m\u001b[1;33m\u001b[0m\u001b[1;33m\u001b[0m\u001b[0m\n\u001b[1;32m-> 1304\u001b[1;33m         return_value = get_return_value(\n\u001b[0m\u001b[0;32m   1305\u001b[0m             answer, self.gateway_client, self.target_id, self.name)\n\u001b[0;32m   1306\u001b[0m \u001b[1;33m\u001b[0m\u001b[0m\n",
      "\u001b[1;32m~\\anaconda3\\lib\\site-packages\\pyspark\\sql\\utils.py\u001b[0m in \u001b[0;36mdeco\u001b[1;34m(*a, **kw)\u001b[0m\n\u001b[0;32m    109\u001b[0m     \u001b[1;32mdef\u001b[0m \u001b[0mdeco\u001b[0m\u001b[1;33m(\u001b[0m\u001b[1;33m*\u001b[0m\u001b[0ma\u001b[0m\u001b[1;33m,\u001b[0m \u001b[1;33m**\u001b[0m\u001b[0mkw\u001b[0m\u001b[1;33m)\u001b[0m\u001b[1;33m:\u001b[0m\u001b[1;33m\u001b[0m\u001b[1;33m\u001b[0m\u001b[0m\n\u001b[0;32m    110\u001b[0m         \u001b[1;32mtry\u001b[0m\u001b[1;33m:\u001b[0m\u001b[1;33m\u001b[0m\u001b[1;33m\u001b[0m\u001b[0m\n\u001b[1;32m--> 111\u001b[1;33m             \u001b[1;32mreturn\u001b[0m \u001b[0mf\u001b[0m\u001b[1;33m(\u001b[0m\u001b[1;33m*\u001b[0m\u001b[0ma\u001b[0m\u001b[1;33m,\u001b[0m \u001b[1;33m**\u001b[0m\u001b[0mkw\u001b[0m\u001b[1;33m)\u001b[0m\u001b[1;33m\u001b[0m\u001b[1;33m\u001b[0m\u001b[0m\n\u001b[0m\u001b[0;32m    112\u001b[0m         \u001b[1;32mexcept\u001b[0m \u001b[0mpy4j\u001b[0m\u001b[1;33m.\u001b[0m\u001b[0mprotocol\u001b[0m\u001b[1;33m.\u001b[0m\u001b[0mPy4JJavaError\u001b[0m \u001b[1;32mas\u001b[0m \u001b[0me\u001b[0m\u001b[1;33m:\u001b[0m\u001b[1;33m\u001b[0m\u001b[1;33m\u001b[0m\u001b[0m\n\u001b[0;32m    113\u001b[0m             \u001b[0mconverted\u001b[0m \u001b[1;33m=\u001b[0m \u001b[0mconvert_exception\u001b[0m\u001b[1;33m(\u001b[0m\u001b[0me\u001b[0m\u001b[1;33m.\u001b[0m\u001b[0mjava_exception\u001b[0m\u001b[1;33m)\u001b[0m\u001b[1;33m\u001b[0m\u001b[1;33m\u001b[0m\u001b[0m\n",
      "\u001b[1;32m~\\anaconda3\\lib\\site-packages\\py4j\\protocol.py\u001b[0m in \u001b[0;36mget_return_value\u001b[1;34m(answer, gateway_client, target_id, name)\u001b[0m\n\u001b[0;32m    324\u001b[0m             \u001b[0mvalue\u001b[0m \u001b[1;33m=\u001b[0m \u001b[0mOUTPUT_CONVERTER\u001b[0m\u001b[1;33m[\u001b[0m\u001b[0mtype\u001b[0m\u001b[1;33m]\u001b[0m\u001b[1;33m(\u001b[0m\u001b[0manswer\u001b[0m\u001b[1;33m[\u001b[0m\u001b[1;36m2\u001b[0m\u001b[1;33m:\u001b[0m\u001b[1;33m]\u001b[0m\u001b[1;33m,\u001b[0m \u001b[0mgateway_client\u001b[0m\u001b[1;33m)\u001b[0m\u001b[1;33m\u001b[0m\u001b[1;33m\u001b[0m\u001b[0m\n\u001b[0;32m    325\u001b[0m             \u001b[1;32mif\u001b[0m \u001b[0manswer\u001b[0m\u001b[1;33m[\u001b[0m\u001b[1;36m1\u001b[0m\u001b[1;33m]\u001b[0m \u001b[1;33m==\u001b[0m \u001b[0mREFERENCE_TYPE\u001b[0m\u001b[1;33m:\u001b[0m\u001b[1;33m\u001b[0m\u001b[1;33m\u001b[0m\u001b[0m\n\u001b[1;32m--> 326\u001b[1;33m                 raise Py4JJavaError(\n\u001b[0m\u001b[0;32m    327\u001b[0m                     \u001b[1;34m\"An error occurred while calling {0}{1}{2}.\\n\"\u001b[0m\u001b[1;33m.\u001b[0m\u001b[1;33m\u001b[0m\u001b[1;33m\u001b[0m\u001b[0m\n\u001b[0;32m    328\u001b[0m                     format(target_id, \".\", name), value)\n",
      "\u001b[1;31mPy4JJavaError\u001b[0m: An error occurred while calling o693.collectToPython.\n: org.apache.spark.SparkUpgradeException: You may get a different result due to the upgrading of Spark 3.0: Fail to recognize 'MM/dd/yyyy hh:mm:ss aa' pattern in the DateTimeFormatter. 1) You can set spark.sql.legacy.timeParserPolicy to LEGACY to restore the behavior before Spark 3.0. 2) You can form a valid datetime pattern with the guide from https://spark.apache.org/docs/latest/sql-ref-datetime-pattern.html\r\n\tat org.apache.spark.sql.catalyst.util.DateTimeFormatterHelper$$anonfun$checkLegacyFormatter$1.applyOrElse(DateTimeFormatterHelper.scala:196)\r\n\tat org.apache.spark.sql.catalyst.util.DateTimeFormatterHelper$$anonfun$checkLegacyFormatter$1.applyOrElse(DateTimeFormatterHelper.scala:185)\r\n\tat scala.runtime.AbstractPartialFunction.apply(AbstractPartialFunction.scala:38)\r\n\tat org.apache.spark.sql.catalyst.util.Iso8601TimestampFormatter.validatePatternString(TimestampFormatter.scala:109)\r\n\tat org.apache.spark.sql.catalyst.util.TimestampFormatter$.getFormatter(TimestampFormatter.scala:300)\r\n\tat org.apache.spark.sql.catalyst.util.TimestampFormatter$.apply(TimestampFormatter.scala:333)\r\n\tat org.apache.spark.sql.catalyst.expressions.TimestampFormatterHelper.getFormatter(datetimeExpressions.scala:72)\r\n\tat org.apache.spark.sql.catalyst.expressions.TimestampFormatterHelper.getFormatter$(datetimeExpressions.scala:67)\r\n\tat org.apache.spark.sql.catalyst.expressions.ToTimestamp.getFormatter(datetimeExpressions.scala:919)\r\n\tat org.apache.spark.sql.catalyst.expressions.TimestampFormatterHelper.$anonfun$formatterOption$1(datetimeExpressions.scala:64)\r\n\tat scala.Option.map(Option.scala:230)\r\n\tat org.apache.spark.sql.catalyst.expressions.TimestampFormatterHelper.formatterOption(datetimeExpressions.scala:64)\r\n\tat org.apache.spark.sql.catalyst.expressions.TimestampFormatterHelper.formatterOption$(datetimeExpressions.scala:62)\r\n\tat org.apache.spark.sql.catalyst.expressions.ToTimestamp.formatterOption$lzycompute(datetimeExpressions.scala:919)\r\n\tat org.apache.spark.sql.catalyst.expressions.ToTimestamp.formatterOption(datetimeExpressions.scala:919)\r\n\tat org.apache.spark.sql.catalyst.expressions.ToTimestamp.doGenCode(datetimeExpressions.scala:979)\r\n\tat org.apache.spark.sql.catalyst.expressions.Expression.$anonfun$genCode$3(Expression.scala:146)\r\n\tat scala.Option.getOrElse(Option.scala:189)\r\n\tat org.apache.spark.sql.catalyst.expressions.Expression.genCode(Expression.scala:141)\r\n\tat org.apache.spark.sql.catalyst.expressions.BinaryExpression.nullSafeCodeGen(Expression.scala:608)\r\n\tat org.apache.spark.sql.catalyst.expressions.BinaryExpression.defineCodeGen(Expression.scala:591)\r\n\tat org.apache.spark.sql.catalyst.expressions.FromUnixTime.$anonfun$doGenCode$22(datetimeExpressions.scala:1102)\r\n\tat scala.Option.map(Option.scala:230)\r\n\tat org.apache.spark.sql.catalyst.expressions.FromUnixTime.doGenCode(datetimeExpressions.scala:1100)\r\n\tat org.apache.spark.sql.catalyst.expressions.Expression.$anonfun$genCode$3(Expression.scala:146)\r\n\tat scala.Option.getOrElse(Option.scala:189)\r\n\tat org.apache.spark.sql.catalyst.expressions.Expression.genCode(Expression.scala:141)\r\n\tat org.apache.spark.sql.catalyst.expressions.Alias.genCode(namedExpressions.scala:163)\r\n\tat org.apache.spark.sql.execution.ProjectExec.$anonfun$doConsume$2(basicPhysicalOperators.scala:73)\r\n\tat scala.collection.TraversableLike.$anonfun$map$1(TraversableLike.scala:238)\r\n\tat scala.collection.mutable.ResizableArray.foreach(ResizableArray.scala:62)\r\n\tat scala.collection.mutable.ResizableArray.foreach$(ResizableArray.scala:55)\r\n\tat scala.collection.mutable.ArrayBuffer.foreach(ArrayBuffer.scala:49)\r\n\tat scala.collection.TraversableLike.map(TraversableLike.scala:238)\r\n\tat scala.collection.TraversableLike.map$(TraversableLike.scala:231)\r\n\tat scala.collection.AbstractTraversable.map(Traversable.scala:108)\r\n\tat org.apache.spark.sql.execution.ProjectExec.$anonfun$doConsume$1(basicPhysicalOperators.scala:73)\r\n\tat org.apache.spark.sql.catalyst.expressions.codegen.CodegenContext.withSubExprEliminationExprs(CodeGenerator.scala:1026)\r\n\tat org.apache.spark.sql.execution.ProjectExec.doConsume(basicPhysicalOperators.scala:73)\r\n\tat org.apache.spark.sql.execution.CodegenSupport.consume(WholeStageCodegenExec.scala:194)\r\n\tat org.apache.spark.sql.execution.CodegenSupport.consume$(WholeStageCodegenExec.scala:149)\r\n\tat org.apache.spark.sql.execution.FilterExec.consume(basicPhysicalOperators.scala:113)\r\n\tat org.apache.spark.sql.execution.FilterExec.doConsume(basicPhysicalOperators.scala:238)\r\n\tat org.apache.spark.sql.execution.CodegenSupport.consume(WholeStageCodegenExec.scala:194)\r\n\tat org.apache.spark.sql.execution.CodegenSupport.consume$(WholeStageCodegenExec.scala:149)\r\n\tat org.apache.spark.sql.execution.InputAdapter.consume(WholeStageCodegenExec.scala:496)\r\n\tat org.apache.spark.sql.execution.InputRDDCodegen.doProduce(WholeStageCodegenExec.scala:483)\r\n\tat org.apache.spark.sql.execution.InputRDDCodegen.doProduce$(WholeStageCodegenExec.scala:456)\r\n\tat org.apache.spark.sql.execution.InputAdapter.doProduce(WholeStageCodegenExec.scala:496)\r\n\tat org.apache.spark.sql.execution.CodegenSupport.$anonfun$produce$1(WholeStageCodegenExec.scala:95)\r\n\tat org.apache.spark.sql.execution.SparkPlan.$anonfun$executeQuery$1(SparkPlan.scala:218)\r\n\tat org.apache.spark.rdd.RDDOperationScope$.withScope(RDDOperationScope.scala:151)\r\n\tat org.apache.spark.sql.execution.SparkPlan.executeQuery(SparkPlan.scala:215)\r\n\tat org.apache.spark.sql.execution.CodegenSupport.produce(WholeStageCodegenExec.scala:90)\r\n\tat org.apache.spark.sql.execution.CodegenSupport.produce$(WholeStageCodegenExec.scala:90)\r\n\tat org.apache.spark.sql.execution.InputAdapter.produce(WholeStageCodegenExec.scala:496)\r\n\tat org.apache.spark.sql.execution.FilterExec.doProduce(basicPhysicalOperators.scala:153)\r\n\tat org.apache.spark.sql.execution.CodegenSupport.$anonfun$produce$1(WholeStageCodegenExec.scala:95)\r\n\tat org.apache.spark.sql.execution.SparkPlan.$anonfun$executeQuery$1(SparkPlan.scala:218)\r\n\tat org.apache.spark.rdd.RDDOperationScope$.withScope(RDDOperationScope.scala:151)\r\n\tat org.apache.spark.sql.execution.SparkPlan.executeQuery(SparkPlan.scala:215)\r\n\tat org.apache.spark.sql.execution.CodegenSupport.produce(WholeStageCodegenExec.scala:90)\r\n\tat org.apache.spark.sql.execution.CodegenSupport.produce$(WholeStageCodegenExec.scala:90)\r\n\tat org.apache.spark.sql.execution.FilterExec.produce(basicPhysicalOperators.scala:113)\r\n\tat org.apache.spark.sql.execution.ProjectExec.doProduce(basicPhysicalOperators.scala:54)\r\n\tat org.apache.spark.sql.execution.CodegenSupport.$anonfun$produce$1(WholeStageCodegenExec.scala:95)\r\n\tat org.apache.spark.sql.execution.SparkPlan.$anonfun$executeQuery$1(SparkPlan.scala:218)\r\n\tat org.apache.spark.rdd.RDDOperationScope$.withScope(RDDOperationScope.scala:151)\r\n\tat org.apache.spark.sql.execution.SparkPlan.executeQuery(SparkPlan.scala:215)\r\n\tat org.apache.spark.sql.execution.CodegenSupport.produce(WholeStageCodegenExec.scala:90)\r\n\tat org.apache.spark.sql.execution.CodegenSupport.produce$(WholeStageCodegenExec.scala:90)\r\n\tat org.apache.spark.sql.execution.ProjectExec.produce(basicPhysicalOperators.scala:41)\r\n\tat org.apache.spark.sql.execution.WholeStageCodegenExec.doCodeGen(WholeStageCodegenExec.scala:655)\r\n\tat org.apache.spark.sql.execution.WholeStageCodegenExec.doExecute(WholeStageCodegenExec.scala:718)\r\n\tat org.apache.spark.sql.execution.SparkPlan.$anonfun$execute$1(SparkPlan.scala:180)\r\n\tat org.apache.spark.sql.execution.SparkPlan.$anonfun$executeQuery$1(SparkPlan.scala:218)\r\n\tat org.apache.spark.rdd.RDDOperationScope$.withScope(RDDOperationScope.scala:151)\r\n\tat org.apache.spark.sql.execution.SparkPlan.executeQuery(SparkPlan.scala:215)\r\n\tat org.apache.spark.sql.execution.SparkPlan.execute(SparkPlan.scala:176)\r\n\tat org.apache.spark.sql.execution.SparkPlan.getByteArrayRdd(SparkPlan.scala:321)\r\n\tat org.apache.spark.sql.execution.SparkPlan.executeTake(SparkPlan.scala:439)\r\n\tat org.apache.spark.sql.execution.SparkPlan.executeTake(SparkPlan.scala:425)\r\n\tat org.apache.spark.sql.execution.CollectLimitExec.executeCollect(limit.scala:47)\r\n\tat org.apache.spark.sql.Dataset.$anonfun$collectToPython$1(Dataset.scala:3519)\r\n\tat org.apache.spark.sql.Dataset.$anonfun$withAction$1(Dataset.scala:3687)\r\n\tat org.apache.spark.sql.execution.SQLExecution$.$anonfun$withNewExecutionId$5(SQLExecution.scala:103)\r\n\tat org.apache.spark.sql.execution.SQLExecution$.withSQLConfPropagated(SQLExecution.scala:163)\r\n\tat org.apache.spark.sql.execution.SQLExecution$.$anonfun$withNewExecutionId$1(SQLExecution.scala:90)\r\n\tat org.apache.spark.sql.SparkSession.withActive(SparkSession.scala:775)\r\n\tat org.apache.spark.sql.execution.SQLExecution$.withNewExecutionId(SQLExecution.scala:64)\r\n\tat org.apache.spark.sql.Dataset.withAction(Dataset.scala:3685)\r\n\tat org.apache.spark.sql.Dataset.collectToPython(Dataset.scala:3516)\r\n\tat sun.reflect.NativeMethodAccessorImpl.invoke0(Native Method)\r\n\tat sun.reflect.NativeMethodAccessorImpl.invoke(NativeMethodAccessorImpl.java:62)\r\n\tat sun.reflect.DelegatingMethodAccessorImpl.invoke(DelegatingMethodAccessorImpl.java:43)\r\n\tat java.lang.reflect.Method.invoke(Method.java:498)\r\n\tat py4j.reflection.MethodInvoker.invoke(MethodInvoker.java:244)\r\n\tat py4j.reflection.ReflectionEngine.invoke(ReflectionEngine.java:357)\r\n\tat py4j.Gateway.invoke(Gateway.java:282)\r\n\tat py4j.commands.AbstractCommand.invokeMethod(AbstractCommand.java:132)\r\n\tat py4j.commands.CallCommand.execute(CallCommand.java:79)\r\n\tat py4j.GatewayConnection.run(GatewayConnection.java:238)\r\n\tat java.lang.Thread.run(Thread.java:748)\r\nCaused by: java.lang.IllegalArgumentException: Too many pattern letters: a\r\n\tat java.time.format.DateTimeFormatterBuilder.parseField(DateTimeFormatterBuilder.java:1763)\r\n\tat java.time.format.DateTimeFormatterBuilder.parsePattern(DateTimeFormatterBuilder.java:1602)\r\n\tat java.time.format.DateTimeFormatterBuilder.appendPattern(DateTimeFormatterBuilder.java:1570)\r\n\tat org.apache.spark.sql.catalyst.util.DateTimeFormatterHelper$.buildFormatter(DateTimeFormatterHelper.scala:254)\r\n\tat org.apache.spark.sql.catalyst.util.DateTimeFormatterHelper.getOrCreateFormatter(DateTimeFormatterHelper.scala:126)\r\n\tat org.apache.spark.sql.catalyst.util.DateTimeFormatterHelper.getOrCreateFormatter$(DateTimeFormatterHelper.scala:117)\r\n\tat org.apache.spark.sql.catalyst.util.Iso8601TimestampFormatter.getOrCreateFormatter(TimestampFormatter.scala:59)\r\n\tat org.apache.spark.sql.catalyst.util.Iso8601TimestampFormatter.formatter$lzycompute(TimestampFormatter.scala:68)\r\n\tat org.apache.spark.sql.catalyst.util.Iso8601TimestampFormatter.formatter(TimestampFormatter.scala:67)\r\n\tat org.apache.spark.sql.catalyst.util.Iso8601TimestampFormatter.validatePatternString(TimestampFormatter.scala:108)\r\n\t... 99 more\r\n"
     ]
    }
   ],
   "source": [
    "updated_pyspark_dummy.first()"
   ]
  },
  {
   "cell_type": "code",
   "execution_count": 69,
   "id": "e0d864df",
   "metadata": {},
   "outputs": [
    {
     "data": {
      "text/plain": [
       "Row(Closed_Date='05/28/2013 02:24:37 PM')"
      ]
     },
     "execution_count": 69,
     "metadata": {},
     "output_type": "execute_result"
    }
   ],
   "source": [
    "updated_pyspark_dummy.select(\"Closed_Date\").first()"
   ]
  },
  {
   "cell_type": "code",
   "execution_count": 70,
   "id": "ecefcf59",
   "metadata": {},
   "outputs": [
    {
     "ename": "Py4JJavaError",
     "evalue": "An error occurred while calling o711.showString.\n: org.apache.spark.SparkUpgradeException: You may get a different result due to the upgrading of Spark 3.0: Fail to recognize 'MM/dd/yyyy hh:mm:ss aa' pattern in the DateTimeFormatter. 1) You can set spark.sql.legacy.timeParserPolicy to LEGACY to restore the behavior before Spark 3.0. 2) You can form a valid datetime pattern with the guide from https://spark.apache.org/docs/latest/sql-ref-datetime-pattern.html\r\n\tat org.apache.spark.sql.catalyst.util.DateTimeFormatterHelper$$anonfun$checkLegacyFormatter$1.applyOrElse(DateTimeFormatterHelper.scala:196)\r\n\tat org.apache.spark.sql.catalyst.util.DateTimeFormatterHelper$$anonfun$checkLegacyFormatter$1.applyOrElse(DateTimeFormatterHelper.scala:185)\r\n\tat scala.runtime.AbstractPartialFunction.apply(AbstractPartialFunction.scala:38)\r\n\tat org.apache.spark.sql.catalyst.util.Iso8601TimestampFormatter.validatePatternString(TimestampFormatter.scala:109)\r\n\tat org.apache.spark.sql.catalyst.util.TimestampFormatter$.getFormatter(TimestampFormatter.scala:300)\r\n\tat org.apache.spark.sql.catalyst.util.TimestampFormatter$.apply(TimestampFormatter.scala:333)\r\n\tat org.apache.spark.sql.catalyst.expressions.TimestampFormatterHelper.getFormatter(datetimeExpressions.scala:72)\r\n\tat org.apache.spark.sql.catalyst.expressions.TimestampFormatterHelper.getFormatter$(datetimeExpressions.scala:67)\r\n\tat org.apache.spark.sql.catalyst.expressions.ToTimestamp.getFormatter(datetimeExpressions.scala:919)\r\n\tat org.apache.spark.sql.catalyst.expressions.TimestampFormatterHelper.$anonfun$formatterOption$1(datetimeExpressions.scala:64)\r\n\tat scala.Option.map(Option.scala:230)\r\n\tat org.apache.spark.sql.catalyst.expressions.TimestampFormatterHelper.formatterOption(datetimeExpressions.scala:64)\r\n\tat org.apache.spark.sql.catalyst.expressions.TimestampFormatterHelper.formatterOption$(datetimeExpressions.scala:62)\r\n\tat org.apache.spark.sql.catalyst.expressions.ToTimestamp.formatterOption$lzycompute(datetimeExpressions.scala:919)\r\n\tat org.apache.spark.sql.catalyst.expressions.ToTimestamp.formatterOption(datetimeExpressions.scala:919)\r\n\tat org.apache.spark.sql.catalyst.expressions.ToTimestamp.doGenCode(datetimeExpressions.scala:979)\r\n\tat org.apache.spark.sql.catalyst.expressions.Expression.$anonfun$genCode$3(Expression.scala:146)\r\n\tat scala.Option.getOrElse(Option.scala:189)\r\n\tat org.apache.spark.sql.catalyst.expressions.Expression.genCode(Expression.scala:141)\r\n\tat org.apache.spark.sql.catalyst.expressions.BinaryExpression.nullSafeCodeGen(Expression.scala:608)\r\n\tat org.apache.spark.sql.catalyst.expressions.BinaryExpression.defineCodeGen(Expression.scala:591)\r\n\tat org.apache.spark.sql.catalyst.expressions.FromUnixTime.$anonfun$doGenCode$22(datetimeExpressions.scala:1102)\r\n\tat scala.Option.map(Option.scala:230)\r\n\tat org.apache.spark.sql.catalyst.expressions.FromUnixTime.doGenCode(datetimeExpressions.scala:1100)\r\n\tat org.apache.spark.sql.catalyst.expressions.Expression.$anonfun$genCode$3(Expression.scala:146)\r\n\tat scala.Option.getOrElse(Option.scala:189)\r\n\tat org.apache.spark.sql.catalyst.expressions.Expression.genCode(Expression.scala:141)\r\n\tat org.apache.spark.sql.catalyst.expressions.Alias.genCode(namedExpressions.scala:163)\r\n\tat org.apache.spark.sql.execution.ProjectExec.$anonfun$doConsume$2(basicPhysicalOperators.scala:73)\r\n\tat scala.collection.TraversableLike.$anonfun$map$1(TraversableLike.scala:238)\r\n\tat scala.collection.mutable.ResizableArray.foreach(ResizableArray.scala:62)\r\n\tat scala.collection.mutable.ResizableArray.foreach$(ResizableArray.scala:55)\r\n\tat scala.collection.mutable.ArrayBuffer.foreach(ArrayBuffer.scala:49)\r\n\tat scala.collection.TraversableLike.map(TraversableLike.scala:238)\r\n\tat scala.collection.TraversableLike.map$(TraversableLike.scala:231)\r\n\tat scala.collection.AbstractTraversable.map(Traversable.scala:108)\r\n\tat org.apache.spark.sql.execution.ProjectExec.$anonfun$doConsume$1(basicPhysicalOperators.scala:73)\r\n\tat org.apache.spark.sql.catalyst.expressions.codegen.CodegenContext.withSubExprEliminationExprs(CodeGenerator.scala:1026)\r\n\tat org.apache.spark.sql.execution.ProjectExec.doConsume(basicPhysicalOperators.scala:73)\r\n\tat org.apache.spark.sql.execution.CodegenSupport.consume(WholeStageCodegenExec.scala:194)\r\n\tat org.apache.spark.sql.execution.CodegenSupport.consume$(WholeStageCodegenExec.scala:149)\r\n\tat org.apache.spark.sql.execution.FilterExec.consume(basicPhysicalOperators.scala:113)\r\n\tat org.apache.spark.sql.execution.FilterExec.doConsume(basicPhysicalOperators.scala:238)\r\n\tat org.apache.spark.sql.execution.CodegenSupport.consume(WholeStageCodegenExec.scala:194)\r\n\tat org.apache.spark.sql.execution.CodegenSupport.consume$(WholeStageCodegenExec.scala:149)\r\n\tat org.apache.spark.sql.execution.InputAdapter.consume(WholeStageCodegenExec.scala:496)\r\n\tat org.apache.spark.sql.execution.InputRDDCodegen.doProduce(WholeStageCodegenExec.scala:483)\r\n\tat org.apache.spark.sql.execution.InputRDDCodegen.doProduce$(WholeStageCodegenExec.scala:456)\r\n\tat org.apache.spark.sql.execution.InputAdapter.doProduce(WholeStageCodegenExec.scala:496)\r\n\tat org.apache.spark.sql.execution.CodegenSupport.$anonfun$produce$1(WholeStageCodegenExec.scala:95)\r\n\tat org.apache.spark.sql.execution.SparkPlan.$anonfun$executeQuery$1(SparkPlan.scala:218)\r\n\tat org.apache.spark.rdd.RDDOperationScope$.withScope(RDDOperationScope.scala:151)\r\n\tat org.apache.spark.sql.execution.SparkPlan.executeQuery(SparkPlan.scala:215)\r\n\tat org.apache.spark.sql.execution.CodegenSupport.produce(WholeStageCodegenExec.scala:90)\r\n\tat org.apache.spark.sql.execution.CodegenSupport.produce$(WholeStageCodegenExec.scala:90)\r\n\tat org.apache.spark.sql.execution.InputAdapter.produce(WholeStageCodegenExec.scala:496)\r\n\tat org.apache.spark.sql.execution.FilterExec.doProduce(basicPhysicalOperators.scala:153)\r\n\tat org.apache.spark.sql.execution.CodegenSupport.$anonfun$produce$1(WholeStageCodegenExec.scala:95)\r\n\tat org.apache.spark.sql.execution.SparkPlan.$anonfun$executeQuery$1(SparkPlan.scala:218)\r\n\tat org.apache.spark.rdd.RDDOperationScope$.withScope(RDDOperationScope.scala:151)\r\n\tat org.apache.spark.sql.execution.SparkPlan.executeQuery(SparkPlan.scala:215)\r\n\tat org.apache.spark.sql.execution.CodegenSupport.produce(WholeStageCodegenExec.scala:90)\r\n\tat org.apache.spark.sql.execution.CodegenSupport.produce$(WholeStageCodegenExec.scala:90)\r\n\tat org.apache.spark.sql.execution.FilterExec.produce(basicPhysicalOperators.scala:113)\r\n\tat org.apache.spark.sql.execution.ProjectExec.doProduce(basicPhysicalOperators.scala:54)\r\n\tat org.apache.spark.sql.execution.CodegenSupport.$anonfun$produce$1(WholeStageCodegenExec.scala:95)\r\n\tat org.apache.spark.sql.execution.SparkPlan.$anonfun$executeQuery$1(SparkPlan.scala:218)\r\n\tat org.apache.spark.rdd.RDDOperationScope$.withScope(RDDOperationScope.scala:151)\r\n\tat org.apache.spark.sql.execution.SparkPlan.executeQuery(SparkPlan.scala:215)\r\n\tat org.apache.spark.sql.execution.CodegenSupport.produce(WholeStageCodegenExec.scala:90)\r\n\tat org.apache.spark.sql.execution.CodegenSupport.produce$(WholeStageCodegenExec.scala:90)\r\n\tat org.apache.spark.sql.execution.ProjectExec.produce(basicPhysicalOperators.scala:41)\r\n\tat org.apache.spark.sql.execution.WholeStageCodegenExec.doCodeGen(WholeStageCodegenExec.scala:655)\r\n\tat org.apache.spark.sql.execution.WholeStageCodegenExec.doExecute(WholeStageCodegenExec.scala:718)\r\n\tat org.apache.spark.sql.execution.SparkPlan.$anonfun$execute$1(SparkPlan.scala:180)\r\n\tat org.apache.spark.sql.execution.SparkPlan.$anonfun$executeQuery$1(SparkPlan.scala:218)\r\n\tat org.apache.spark.rdd.RDDOperationScope$.withScope(RDDOperationScope.scala:151)\r\n\tat org.apache.spark.sql.execution.SparkPlan.executeQuery(SparkPlan.scala:215)\r\n\tat org.apache.spark.sql.execution.SparkPlan.execute(SparkPlan.scala:176)\r\n\tat org.apache.spark.sql.execution.SparkPlan.getByteArrayRdd(SparkPlan.scala:321)\r\n\tat org.apache.spark.sql.execution.SparkPlan.executeTake(SparkPlan.scala:439)\r\n\tat org.apache.spark.sql.execution.SparkPlan.executeTake(SparkPlan.scala:425)\r\n\tat org.apache.spark.sql.execution.CollectLimitExec.executeCollect(limit.scala:47)\r\n\tat org.apache.spark.sql.Dataset.collectFromPlan(Dataset.scala:3696)\r\n\tat org.apache.spark.sql.Dataset.$anonfun$head$1(Dataset.scala:2722)\r\n\tat org.apache.spark.sql.Dataset.$anonfun$withAction$1(Dataset.scala:3687)\r\n\tat org.apache.spark.sql.execution.SQLExecution$.$anonfun$withNewExecutionId$5(SQLExecution.scala:103)\r\n\tat org.apache.spark.sql.execution.SQLExecution$.withSQLConfPropagated(SQLExecution.scala:163)\r\n\tat org.apache.spark.sql.execution.SQLExecution$.$anonfun$withNewExecutionId$1(SQLExecution.scala:90)\r\n\tat org.apache.spark.sql.SparkSession.withActive(SparkSession.scala:775)\r\n\tat org.apache.spark.sql.execution.SQLExecution$.withNewExecutionId(SQLExecution.scala:64)\r\n\tat org.apache.spark.sql.Dataset.withAction(Dataset.scala:3685)\r\n\tat org.apache.spark.sql.Dataset.head(Dataset.scala:2722)\r\n\tat org.apache.spark.sql.Dataset.take(Dataset.scala:2929)\r\n\tat org.apache.spark.sql.Dataset.getRows(Dataset.scala:301)\r\n\tat org.apache.spark.sql.Dataset.showString(Dataset.scala:338)\r\n\tat sun.reflect.NativeMethodAccessorImpl.invoke0(Native Method)\r\n\tat sun.reflect.NativeMethodAccessorImpl.invoke(NativeMethodAccessorImpl.java:62)\r\n\tat sun.reflect.DelegatingMethodAccessorImpl.invoke(DelegatingMethodAccessorImpl.java:43)\r\n\tat java.lang.reflect.Method.invoke(Method.java:498)\r\n\tat py4j.reflection.MethodInvoker.invoke(MethodInvoker.java:244)\r\n\tat py4j.reflection.ReflectionEngine.invoke(ReflectionEngine.java:357)\r\n\tat py4j.Gateway.invoke(Gateway.java:282)\r\n\tat py4j.commands.AbstractCommand.invokeMethod(AbstractCommand.java:132)\r\n\tat py4j.commands.CallCommand.execute(CallCommand.java:79)\r\n\tat py4j.GatewayConnection.run(GatewayConnection.java:238)\r\n\tat java.lang.Thread.run(Thread.java:748)\r\nCaused by: java.lang.IllegalArgumentException: Too many pattern letters: a\r\n\tat java.time.format.DateTimeFormatterBuilder.parseField(DateTimeFormatterBuilder.java:1763)\r\n\tat java.time.format.DateTimeFormatterBuilder.parsePattern(DateTimeFormatterBuilder.java:1602)\r\n\tat java.time.format.DateTimeFormatterBuilder.appendPattern(DateTimeFormatterBuilder.java:1570)\r\n\tat org.apache.spark.sql.catalyst.util.DateTimeFormatterHelper$.buildFormatter(DateTimeFormatterHelper.scala:254)\r\n\tat org.apache.spark.sql.catalyst.util.DateTimeFormatterHelper.getOrCreateFormatter(DateTimeFormatterHelper.scala:126)\r\n\tat org.apache.spark.sql.catalyst.util.DateTimeFormatterHelper.getOrCreateFormatter$(DateTimeFormatterHelper.scala:117)\r\n\tat org.apache.spark.sql.catalyst.util.Iso8601TimestampFormatter.getOrCreateFormatter(TimestampFormatter.scala:59)\r\n\tat org.apache.spark.sql.catalyst.util.Iso8601TimestampFormatter.formatter$lzycompute(TimestampFormatter.scala:68)\r\n\tat org.apache.spark.sql.catalyst.util.Iso8601TimestampFormatter.formatter(TimestampFormatter.scala:67)\r\n\tat org.apache.spark.sql.catalyst.util.Iso8601TimestampFormatter.validatePatternString(TimestampFormatter.scala:108)\r\n\t... 103 more\r\n",
     "output_type": "error",
     "traceback": [
      "\u001b[1;31m---------------------------------------------------------------------------\u001b[0m",
      "\u001b[1;31mPy4JJavaError\u001b[0m                             Traceback (most recent call last)",
      "\u001b[1;32m<ipython-input-70-dd2564145ba9>\u001b[0m in \u001b[0;36m<module>\u001b[1;34m\u001b[0m\n\u001b[1;32m----> 1\u001b[1;33m \u001b[0mdf1\u001b[0m\u001b[1;33m=\u001b[0m\u001b[0mupdated_pyspark_dummy\u001b[0m\u001b[1;33m.\u001b[0m\u001b[0mwithColumn\u001b[0m\u001b[1;33m(\u001b[0m\u001b[1;34m\"DateOn\"\u001b[0m\u001b[1;33m,\u001b[0m \u001b[0mdate_format\u001b[0m\u001b[1;33m(\u001b[0m\u001b[0munix_timestamp\u001b[0m\u001b[1;33m(\u001b[0m\u001b[1;34m\"Closed_Date\"\u001b[0m\u001b[1;33m,\u001b[0m \u001b[1;34m'MM/dd/yyyy HH:mm:ss a'\u001b[0m\u001b[1;33m)\u001b[0m\u001b[1;33m.\u001b[0m\u001b[0mcast\u001b[0m\u001b[1;33m(\u001b[0m\u001b[0mTimestampType\u001b[0m\u001b[1;33m(\u001b[0m\u001b[1;33m)\u001b[0m\u001b[1;33m)\u001b[0m\u001b[1;33m,\u001b[0m \u001b[1;34m\"yyyyMMdd\"\u001b[0m\u001b[1;33m)\u001b[0m\u001b[1;33m)\u001b[0m\u001b[1;33m.\u001b[0m\u001b[0mshow\u001b[0m\u001b[1;33m(\u001b[0m\u001b[1;33m)\u001b[0m\u001b[1;33m\u001b[0m\u001b[1;33m\u001b[0m\u001b[0m\n\u001b[0m",
      "\u001b[1;32m~\\anaconda3\\lib\\site-packages\\pyspark\\sql\\dataframe.py\u001b[0m in \u001b[0;36mshow\u001b[1;34m(self, n, truncate, vertical)\u001b[0m\n\u001b[0;32m    482\u001b[0m         \"\"\"\n\u001b[0;32m    483\u001b[0m         \u001b[1;32mif\u001b[0m \u001b[0misinstance\u001b[0m\u001b[1;33m(\u001b[0m\u001b[0mtruncate\u001b[0m\u001b[1;33m,\u001b[0m \u001b[0mbool\u001b[0m\u001b[1;33m)\u001b[0m \u001b[1;32mand\u001b[0m \u001b[0mtruncate\u001b[0m\u001b[1;33m:\u001b[0m\u001b[1;33m\u001b[0m\u001b[1;33m\u001b[0m\u001b[0m\n\u001b[1;32m--> 484\u001b[1;33m             \u001b[0mprint\u001b[0m\u001b[1;33m(\u001b[0m\u001b[0mself\u001b[0m\u001b[1;33m.\u001b[0m\u001b[0m_jdf\u001b[0m\u001b[1;33m.\u001b[0m\u001b[0mshowString\u001b[0m\u001b[1;33m(\u001b[0m\u001b[0mn\u001b[0m\u001b[1;33m,\u001b[0m \u001b[1;36m20\u001b[0m\u001b[1;33m,\u001b[0m \u001b[0mvertical\u001b[0m\u001b[1;33m)\u001b[0m\u001b[1;33m)\u001b[0m\u001b[1;33m\u001b[0m\u001b[1;33m\u001b[0m\u001b[0m\n\u001b[0m\u001b[0;32m    485\u001b[0m         \u001b[1;32melse\u001b[0m\u001b[1;33m:\u001b[0m\u001b[1;33m\u001b[0m\u001b[1;33m\u001b[0m\u001b[0m\n\u001b[0;32m    486\u001b[0m             \u001b[0mprint\u001b[0m\u001b[1;33m(\u001b[0m\u001b[0mself\u001b[0m\u001b[1;33m.\u001b[0m\u001b[0m_jdf\u001b[0m\u001b[1;33m.\u001b[0m\u001b[0mshowString\u001b[0m\u001b[1;33m(\u001b[0m\u001b[0mn\u001b[0m\u001b[1;33m,\u001b[0m \u001b[0mint\u001b[0m\u001b[1;33m(\u001b[0m\u001b[0mtruncate\u001b[0m\u001b[1;33m)\u001b[0m\u001b[1;33m,\u001b[0m \u001b[0mvertical\u001b[0m\u001b[1;33m)\u001b[0m\u001b[1;33m)\u001b[0m\u001b[1;33m\u001b[0m\u001b[1;33m\u001b[0m\u001b[0m\n",
      "\u001b[1;32m~\\anaconda3\\lib\\site-packages\\py4j\\java_gateway.py\u001b[0m in \u001b[0;36m__call__\u001b[1;34m(self, *args)\u001b[0m\n\u001b[0;32m   1302\u001b[0m \u001b[1;33m\u001b[0m\u001b[0m\n\u001b[0;32m   1303\u001b[0m         \u001b[0manswer\u001b[0m \u001b[1;33m=\u001b[0m \u001b[0mself\u001b[0m\u001b[1;33m.\u001b[0m\u001b[0mgateway_client\u001b[0m\u001b[1;33m.\u001b[0m\u001b[0msend_command\u001b[0m\u001b[1;33m(\u001b[0m\u001b[0mcommand\u001b[0m\u001b[1;33m)\u001b[0m\u001b[1;33m\u001b[0m\u001b[1;33m\u001b[0m\u001b[0m\n\u001b[1;32m-> 1304\u001b[1;33m         return_value = get_return_value(\n\u001b[0m\u001b[0;32m   1305\u001b[0m             answer, self.gateway_client, self.target_id, self.name)\n\u001b[0;32m   1306\u001b[0m \u001b[1;33m\u001b[0m\u001b[0m\n",
      "\u001b[1;32m~\\anaconda3\\lib\\site-packages\\pyspark\\sql\\utils.py\u001b[0m in \u001b[0;36mdeco\u001b[1;34m(*a, **kw)\u001b[0m\n\u001b[0;32m    109\u001b[0m     \u001b[1;32mdef\u001b[0m \u001b[0mdeco\u001b[0m\u001b[1;33m(\u001b[0m\u001b[1;33m*\u001b[0m\u001b[0ma\u001b[0m\u001b[1;33m,\u001b[0m \u001b[1;33m**\u001b[0m\u001b[0mkw\u001b[0m\u001b[1;33m)\u001b[0m\u001b[1;33m:\u001b[0m\u001b[1;33m\u001b[0m\u001b[1;33m\u001b[0m\u001b[0m\n\u001b[0;32m    110\u001b[0m         \u001b[1;32mtry\u001b[0m\u001b[1;33m:\u001b[0m\u001b[1;33m\u001b[0m\u001b[1;33m\u001b[0m\u001b[0m\n\u001b[1;32m--> 111\u001b[1;33m             \u001b[1;32mreturn\u001b[0m \u001b[0mf\u001b[0m\u001b[1;33m(\u001b[0m\u001b[1;33m*\u001b[0m\u001b[0ma\u001b[0m\u001b[1;33m,\u001b[0m \u001b[1;33m**\u001b[0m\u001b[0mkw\u001b[0m\u001b[1;33m)\u001b[0m\u001b[1;33m\u001b[0m\u001b[1;33m\u001b[0m\u001b[0m\n\u001b[0m\u001b[0;32m    112\u001b[0m         \u001b[1;32mexcept\u001b[0m \u001b[0mpy4j\u001b[0m\u001b[1;33m.\u001b[0m\u001b[0mprotocol\u001b[0m\u001b[1;33m.\u001b[0m\u001b[0mPy4JJavaError\u001b[0m \u001b[1;32mas\u001b[0m \u001b[0me\u001b[0m\u001b[1;33m:\u001b[0m\u001b[1;33m\u001b[0m\u001b[1;33m\u001b[0m\u001b[0m\n\u001b[0;32m    113\u001b[0m             \u001b[0mconverted\u001b[0m \u001b[1;33m=\u001b[0m \u001b[0mconvert_exception\u001b[0m\u001b[1;33m(\u001b[0m\u001b[0me\u001b[0m\u001b[1;33m.\u001b[0m\u001b[0mjava_exception\u001b[0m\u001b[1;33m)\u001b[0m\u001b[1;33m\u001b[0m\u001b[1;33m\u001b[0m\u001b[0m\n",
      "\u001b[1;32m~\\anaconda3\\lib\\site-packages\\py4j\\protocol.py\u001b[0m in \u001b[0;36mget_return_value\u001b[1;34m(answer, gateway_client, target_id, name)\u001b[0m\n\u001b[0;32m    324\u001b[0m             \u001b[0mvalue\u001b[0m \u001b[1;33m=\u001b[0m \u001b[0mOUTPUT_CONVERTER\u001b[0m\u001b[1;33m[\u001b[0m\u001b[0mtype\u001b[0m\u001b[1;33m]\u001b[0m\u001b[1;33m(\u001b[0m\u001b[0manswer\u001b[0m\u001b[1;33m[\u001b[0m\u001b[1;36m2\u001b[0m\u001b[1;33m:\u001b[0m\u001b[1;33m]\u001b[0m\u001b[1;33m,\u001b[0m \u001b[0mgateway_client\u001b[0m\u001b[1;33m)\u001b[0m\u001b[1;33m\u001b[0m\u001b[1;33m\u001b[0m\u001b[0m\n\u001b[0;32m    325\u001b[0m             \u001b[1;32mif\u001b[0m \u001b[0manswer\u001b[0m\u001b[1;33m[\u001b[0m\u001b[1;36m1\u001b[0m\u001b[1;33m]\u001b[0m \u001b[1;33m==\u001b[0m \u001b[0mREFERENCE_TYPE\u001b[0m\u001b[1;33m:\u001b[0m\u001b[1;33m\u001b[0m\u001b[1;33m\u001b[0m\u001b[0m\n\u001b[1;32m--> 326\u001b[1;33m                 raise Py4JJavaError(\n\u001b[0m\u001b[0;32m    327\u001b[0m                     \u001b[1;34m\"An error occurred while calling {0}{1}{2}.\\n\"\u001b[0m\u001b[1;33m.\u001b[0m\u001b[1;33m\u001b[0m\u001b[1;33m\u001b[0m\u001b[0m\n\u001b[0;32m    328\u001b[0m                     format(target_id, \".\", name), value)\n",
      "\u001b[1;31mPy4JJavaError\u001b[0m: An error occurred while calling o711.showString.\n: org.apache.spark.SparkUpgradeException: You may get a different result due to the upgrading of Spark 3.0: Fail to recognize 'MM/dd/yyyy hh:mm:ss aa' pattern in the DateTimeFormatter. 1) You can set spark.sql.legacy.timeParserPolicy to LEGACY to restore the behavior before Spark 3.0. 2) You can form a valid datetime pattern with the guide from https://spark.apache.org/docs/latest/sql-ref-datetime-pattern.html\r\n\tat org.apache.spark.sql.catalyst.util.DateTimeFormatterHelper$$anonfun$checkLegacyFormatter$1.applyOrElse(DateTimeFormatterHelper.scala:196)\r\n\tat org.apache.spark.sql.catalyst.util.DateTimeFormatterHelper$$anonfun$checkLegacyFormatter$1.applyOrElse(DateTimeFormatterHelper.scala:185)\r\n\tat scala.runtime.AbstractPartialFunction.apply(AbstractPartialFunction.scala:38)\r\n\tat org.apache.spark.sql.catalyst.util.Iso8601TimestampFormatter.validatePatternString(TimestampFormatter.scala:109)\r\n\tat org.apache.spark.sql.catalyst.util.TimestampFormatter$.getFormatter(TimestampFormatter.scala:300)\r\n\tat org.apache.spark.sql.catalyst.util.TimestampFormatter$.apply(TimestampFormatter.scala:333)\r\n\tat org.apache.spark.sql.catalyst.expressions.TimestampFormatterHelper.getFormatter(datetimeExpressions.scala:72)\r\n\tat org.apache.spark.sql.catalyst.expressions.TimestampFormatterHelper.getFormatter$(datetimeExpressions.scala:67)\r\n\tat org.apache.spark.sql.catalyst.expressions.ToTimestamp.getFormatter(datetimeExpressions.scala:919)\r\n\tat org.apache.spark.sql.catalyst.expressions.TimestampFormatterHelper.$anonfun$formatterOption$1(datetimeExpressions.scala:64)\r\n\tat scala.Option.map(Option.scala:230)\r\n\tat org.apache.spark.sql.catalyst.expressions.TimestampFormatterHelper.formatterOption(datetimeExpressions.scala:64)\r\n\tat org.apache.spark.sql.catalyst.expressions.TimestampFormatterHelper.formatterOption$(datetimeExpressions.scala:62)\r\n\tat org.apache.spark.sql.catalyst.expressions.ToTimestamp.formatterOption$lzycompute(datetimeExpressions.scala:919)\r\n\tat org.apache.spark.sql.catalyst.expressions.ToTimestamp.formatterOption(datetimeExpressions.scala:919)\r\n\tat org.apache.spark.sql.catalyst.expressions.ToTimestamp.doGenCode(datetimeExpressions.scala:979)\r\n\tat org.apache.spark.sql.catalyst.expressions.Expression.$anonfun$genCode$3(Expression.scala:146)\r\n\tat scala.Option.getOrElse(Option.scala:189)\r\n\tat org.apache.spark.sql.catalyst.expressions.Expression.genCode(Expression.scala:141)\r\n\tat org.apache.spark.sql.catalyst.expressions.BinaryExpression.nullSafeCodeGen(Expression.scala:608)\r\n\tat org.apache.spark.sql.catalyst.expressions.BinaryExpression.defineCodeGen(Expression.scala:591)\r\n\tat org.apache.spark.sql.catalyst.expressions.FromUnixTime.$anonfun$doGenCode$22(datetimeExpressions.scala:1102)\r\n\tat scala.Option.map(Option.scala:230)\r\n\tat org.apache.spark.sql.catalyst.expressions.FromUnixTime.doGenCode(datetimeExpressions.scala:1100)\r\n\tat org.apache.spark.sql.catalyst.expressions.Expression.$anonfun$genCode$3(Expression.scala:146)\r\n\tat scala.Option.getOrElse(Option.scala:189)\r\n\tat org.apache.spark.sql.catalyst.expressions.Expression.genCode(Expression.scala:141)\r\n\tat org.apache.spark.sql.catalyst.expressions.Alias.genCode(namedExpressions.scala:163)\r\n\tat org.apache.spark.sql.execution.ProjectExec.$anonfun$doConsume$2(basicPhysicalOperators.scala:73)\r\n\tat scala.collection.TraversableLike.$anonfun$map$1(TraversableLike.scala:238)\r\n\tat scala.collection.mutable.ResizableArray.foreach(ResizableArray.scala:62)\r\n\tat scala.collection.mutable.ResizableArray.foreach$(ResizableArray.scala:55)\r\n\tat scala.collection.mutable.ArrayBuffer.foreach(ArrayBuffer.scala:49)\r\n\tat scala.collection.TraversableLike.map(TraversableLike.scala:238)\r\n\tat scala.collection.TraversableLike.map$(TraversableLike.scala:231)\r\n\tat scala.collection.AbstractTraversable.map(Traversable.scala:108)\r\n\tat org.apache.spark.sql.execution.ProjectExec.$anonfun$doConsume$1(basicPhysicalOperators.scala:73)\r\n\tat org.apache.spark.sql.catalyst.expressions.codegen.CodegenContext.withSubExprEliminationExprs(CodeGenerator.scala:1026)\r\n\tat org.apache.spark.sql.execution.ProjectExec.doConsume(basicPhysicalOperators.scala:73)\r\n\tat org.apache.spark.sql.execution.CodegenSupport.consume(WholeStageCodegenExec.scala:194)\r\n\tat org.apache.spark.sql.execution.CodegenSupport.consume$(WholeStageCodegenExec.scala:149)\r\n\tat org.apache.spark.sql.execution.FilterExec.consume(basicPhysicalOperators.scala:113)\r\n\tat org.apache.spark.sql.execution.FilterExec.doConsume(basicPhysicalOperators.scala:238)\r\n\tat org.apache.spark.sql.execution.CodegenSupport.consume(WholeStageCodegenExec.scala:194)\r\n\tat org.apache.spark.sql.execution.CodegenSupport.consume$(WholeStageCodegenExec.scala:149)\r\n\tat org.apache.spark.sql.execution.InputAdapter.consume(WholeStageCodegenExec.scala:496)\r\n\tat org.apache.spark.sql.execution.InputRDDCodegen.doProduce(WholeStageCodegenExec.scala:483)\r\n\tat org.apache.spark.sql.execution.InputRDDCodegen.doProduce$(WholeStageCodegenExec.scala:456)\r\n\tat org.apache.spark.sql.execution.InputAdapter.doProduce(WholeStageCodegenExec.scala:496)\r\n\tat org.apache.spark.sql.execution.CodegenSupport.$anonfun$produce$1(WholeStageCodegenExec.scala:95)\r\n\tat org.apache.spark.sql.execution.SparkPlan.$anonfun$executeQuery$1(SparkPlan.scala:218)\r\n\tat org.apache.spark.rdd.RDDOperationScope$.withScope(RDDOperationScope.scala:151)\r\n\tat org.apache.spark.sql.execution.SparkPlan.executeQuery(SparkPlan.scala:215)\r\n\tat org.apache.spark.sql.execution.CodegenSupport.produce(WholeStageCodegenExec.scala:90)\r\n\tat org.apache.spark.sql.execution.CodegenSupport.produce$(WholeStageCodegenExec.scala:90)\r\n\tat org.apache.spark.sql.execution.InputAdapter.produce(WholeStageCodegenExec.scala:496)\r\n\tat org.apache.spark.sql.execution.FilterExec.doProduce(basicPhysicalOperators.scala:153)\r\n\tat org.apache.spark.sql.execution.CodegenSupport.$anonfun$produce$1(WholeStageCodegenExec.scala:95)\r\n\tat org.apache.spark.sql.execution.SparkPlan.$anonfun$executeQuery$1(SparkPlan.scala:218)\r\n\tat org.apache.spark.rdd.RDDOperationScope$.withScope(RDDOperationScope.scala:151)\r\n\tat org.apache.spark.sql.execution.SparkPlan.executeQuery(SparkPlan.scala:215)\r\n\tat org.apache.spark.sql.execution.CodegenSupport.produce(WholeStageCodegenExec.scala:90)\r\n\tat org.apache.spark.sql.execution.CodegenSupport.produce$(WholeStageCodegenExec.scala:90)\r\n\tat org.apache.spark.sql.execution.FilterExec.produce(basicPhysicalOperators.scala:113)\r\n\tat org.apache.spark.sql.execution.ProjectExec.doProduce(basicPhysicalOperators.scala:54)\r\n\tat org.apache.spark.sql.execution.CodegenSupport.$anonfun$produce$1(WholeStageCodegenExec.scala:95)\r\n\tat org.apache.spark.sql.execution.SparkPlan.$anonfun$executeQuery$1(SparkPlan.scala:218)\r\n\tat org.apache.spark.rdd.RDDOperationScope$.withScope(RDDOperationScope.scala:151)\r\n\tat org.apache.spark.sql.execution.SparkPlan.executeQuery(SparkPlan.scala:215)\r\n\tat org.apache.spark.sql.execution.CodegenSupport.produce(WholeStageCodegenExec.scala:90)\r\n\tat org.apache.spark.sql.execution.CodegenSupport.produce$(WholeStageCodegenExec.scala:90)\r\n\tat org.apache.spark.sql.execution.ProjectExec.produce(basicPhysicalOperators.scala:41)\r\n\tat org.apache.spark.sql.execution.WholeStageCodegenExec.doCodeGen(WholeStageCodegenExec.scala:655)\r\n\tat org.apache.spark.sql.execution.WholeStageCodegenExec.doExecute(WholeStageCodegenExec.scala:718)\r\n\tat org.apache.spark.sql.execution.SparkPlan.$anonfun$execute$1(SparkPlan.scala:180)\r\n\tat org.apache.spark.sql.execution.SparkPlan.$anonfun$executeQuery$1(SparkPlan.scala:218)\r\n\tat org.apache.spark.rdd.RDDOperationScope$.withScope(RDDOperationScope.scala:151)\r\n\tat org.apache.spark.sql.execution.SparkPlan.executeQuery(SparkPlan.scala:215)\r\n\tat org.apache.spark.sql.execution.SparkPlan.execute(SparkPlan.scala:176)\r\n\tat org.apache.spark.sql.execution.SparkPlan.getByteArrayRdd(SparkPlan.scala:321)\r\n\tat org.apache.spark.sql.execution.SparkPlan.executeTake(SparkPlan.scala:439)\r\n\tat org.apache.spark.sql.execution.SparkPlan.executeTake(SparkPlan.scala:425)\r\n\tat org.apache.spark.sql.execution.CollectLimitExec.executeCollect(limit.scala:47)\r\n\tat org.apache.spark.sql.Dataset.collectFromPlan(Dataset.scala:3696)\r\n\tat org.apache.spark.sql.Dataset.$anonfun$head$1(Dataset.scala:2722)\r\n\tat org.apache.spark.sql.Dataset.$anonfun$withAction$1(Dataset.scala:3687)\r\n\tat org.apache.spark.sql.execution.SQLExecution$.$anonfun$withNewExecutionId$5(SQLExecution.scala:103)\r\n\tat org.apache.spark.sql.execution.SQLExecution$.withSQLConfPropagated(SQLExecution.scala:163)\r\n\tat org.apache.spark.sql.execution.SQLExecution$.$anonfun$withNewExecutionId$1(SQLExecution.scala:90)\r\n\tat org.apache.spark.sql.SparkSession.withActive(SparkSession.scala:775)\r\n\tat org.apache.spark.sql.execution.SQLExecution$.withNewExecutionId(SQLExecution.scala:64)\r\n\tat org.apache.spark.sql.Dataset.withAction(Dataset.scala:3685)\r\n\tat org.apache.spark.sql.Dataset.head(Dataset.scala:2722)\r\n\tat org.apache.spark.sql.Dataset.take(Dataset.scala:2929)\r\n\tat org.apache.spark.sql.Dataset.getRows(Dataset.scala:301)\r\n\tat org.apache.spark.sql.Dataset.showString(Dataset.scala:338)\r\n\tat sun.reflect.NativeMethodAccessorImpl.invoke0(Native Method)\r\n\tat sun.reflect.NativeMethodAccessorImpl.invoke(NativeMethodAccessorImpl.java:62)\r\n\tat sun.reflect.DelegatingMethodAccessorImpl.invoke(DelegatingMethodAccessorImpl.java:43)\r\n\tat java.lang.reflect.Method.invoke(Method.java:498)\r\n\tat py4j.reflection.MethodInvoker.invoke(MethodInvoker.java:244)\r\n\tat py4j.reflection.ReflectionEngine.invoke(ReflectionEngine.java:357)\r\n\tat py4j.Gateway.invoke(Gateway.java:282)\r\n\tat py4j.commands.AbstractCommand.invokeMethod(AbstractCommand.java:132)\r\n\tat py4j.commands.CallCommand.execute(CallCommand.java:79)\r\n\tat py4j.GatewayConnection.run(GatewayConnection.java:238)\r\n\tat java.lang.Thread.run(Thread.java:748)\r\nCaused by: java.lang.IllegalArgumentException: Too many pattern letters: a\r\n\tat java.time.format.DateTimeFormatterBuilder.parseField(DateTimeFormatterBuilder.java:1763)\r\n\tat java.time.format.DateTimeFormatterBuilder.parsePattern(DateTimeFormatterBuilder.java:1602)\r\n\tat java.time.format.DateTimeFormatterBuilder.appendPattern(DateTimeFormatterBuilder.java:1570)\r\n\tat org.apache.spark.sql.catalyst.util.DateTimeFormatterHelper$.buildFormatter(DateTimeFormatterHelper.scala:254)\r\n\tat org.apache.spark.sql.catalyst.util.DateTimeFormatterHelper.getOrCreateFormatter(DateTimeFormatterHelper.scala:126)\r\n\tat org.apache.spark.sql.catalyst.util.DateTimeFormatterHelper.getOrCreateFormatter$(DateTimeFormatterHelper.scala:117)\r\n\tat org.apache.spark.sql.catalyst.util.Iso8601TimestampFormatter.getOrCreateFormatter(TimestampFormatter.scala:59)\r\n\tat org.apache.spark.sql.catalyst.util.Iso8601TimestampFormatter.formatter$lzycompute(TimestampFormatter.scala:68)\r\n\tat org.apache.spark.sql.catalyst.util.Iso8601TimestampFormatter.formatter(TimestampFormatter.scala:67)\r\n\tat org.apache.spark.sql.catalyst.util.Iso8601TimestampFormatter.validatePatternString(TimestampFormatter.scala:108)\r\n\t... 103 more\r\n"
     ]
    }
   ],
   "source": [
    "df1=updated_pyspark_dummy.withColumn(\"DateOn\", date_format(unix_timestamp(\"Closed_Date\", 'MM/dd/yyyy HH:mm:ss a').cast(TimestampType()), \"yyyyMMdd\")).show()"
   ]
  },
  {
   "cell_type": "code",
   "execution_count": 71,
   "id": "a0c0ee93",
   "metadata": {},
   "outputs": [],
   "source": [
    "demo_df=updated_pyspark_dummy.select(['Unique_Key','Created_Date', 'Closed_Date','Agency','Agency Name','Complaint Type','Descriptor','Location Type','Incident Zip','Incident Address','Street Name','Cross Street 1','Cross Street 2','Address Type','City','Facility Type','Status','Due_Date','Resolution Description','Community Board','BBL','Borough','X Coordinate (State Plane)','Y Coordinate (State Plane)','Open Data Channel Type','Park Facility Name','Park Borough','Latitude','Longitude','Location','Resolution_Action_Updated_Date'])"
   ]
  },
  {
   "cell_type": "code",
   "execution_count": 72,
   "id": "468ff6e2",
   "metadata": {},
   "outputs": [
    {
     "data": {
      "text/plain": [
       "9787090"
      ]
     },
     "execution_count": 72,
     "metadata": {},
     "output_type": "execute_result"
    }
   ],
   "source": [
    "demo_df.count()"
   ]
  },
  {
   "cell_type": "code",
   "execution_count": 117,
   "id": "ee9221b4",
   "metadata": {},
   "outputs": [],
   "source": [
    "df=demo_df"
   ]
  },
  {
   "cell_type": "code",
   "execution_count": 118,
   "id": "49b03fd0",
   "metadata": {},
   "outputs": [
    {
     "data": {
      "text/plain": [
       "9787090"
      ]
     },
     "execution_count": 118,
     "metadata": {},
     "output_type": "execute_result"
    }
   ],
   "source": [
    "updated_pyspark_dummy.count()"
   ]
  },
  {
   "cell_type": "code",
   "execution_count": 119,
   "id": "f0301625",
   "metadata": {},
   "outputs": [],
   "source": [
    "from pyspark.sql.functions import date_format\n",
    "df_in=df\n",
    "df1=demo_df.withColumn(\"Closed_Date_format\", to_date(date_format(unix_timestamp(\"Closed_Date\", \"MM/dd/yyyy hh:mm:ss a\").cast(TimestampType()), \"yyyy-MM-dd\")))"
   ]
  },
  {
   "cell_type": "code",
   "execution_count": 120,
   "id": "b0303103",
   "metadata": {},
   "outputs": [
    {
     "data": {
      "text/plain": [
       "DataFrame[Unique_Key: int, Created_Date: string, Closed_Date: string, Agency: string, Agency Name: string, Complaint Type: string, Descriptor: string, Location Type: string, Incident Zip: string, Incident Address: string, Street Name: string, Cross Street 1: string, Cross Street 2: string, Address Type: string, City: string, Facility Type: string, Status: string, Due_Date: string, Resolution Description: string, Community Board: string, BBL: string, Borough: string, X Coordinate (State Plane): bigint, Y Coordinate (State Plane): string, Open Data Channel Type: string, Park Facility Name: string, Park Borough: string, Latitude: double, Longitude: double, Location: string, Resolution_Action_Updated_Date: string]"
      ]
     },
     "execution_count": 120,
     "metadata": {},
     "output_type": "execute_result"
    }
   ],
   "source": [
    "demo_df"
   ]
  },
  {
   "cell_type": "code",
   "execution_count": 173,
   "id": "da36c6f3",
   "metadata": {},
   "outputs": [
    {
     "name": "stdout",
     "output_type": "stream",
     "text": [
      "root\n",
      " |-- Unique_Key: integer (nullable = true)\n",
      " |-- Created_Date: string (nullable = true)\n",
      " |-- Closed_Date: string (nullable = true)\n",
      " |-- Agency: string (nullable = true)\n",
      " |-- Agency Name: string (nullable = true)\n",
      " |-- Complaint Type: string (nullable = true)\n",
      " |-- Descriptor: string (nullable = true)\n",
      " |-- Location Type: string (nullable = true)\n",
      " |-- Incident Zip: string (nullable = true)\n",
      " |-- Incident Address: string (nullable = true)\n",
      " |-- Street Name: string (nullable = true)\n",
      " |-- Cross Street 1: string (nullable = true)\n",
      " |-- Cross Street 2: string (nullable = true)\n",
      " |-- Address Type: string (nullable = true)\n",
      " |-- City: string (nullable = true)\n",
      " |-- Facility Type: string (nullable = true)\n",
      " |-- Status: string (nullable = true)\n",
      " |-- Due_Date: string (nullable = true)\n",
      " |-- Resolution Description: string (nullable = true)\n",
      " |-- Community Board: string (nullable = true)\n",
      " |-- BBL: string (nullable = true)\n",
      " |-- Borough: string (nullable = true)\n",
      " |-- X Coordinate (State Plane): long (nullable = true)\n",
      " |-- Y Coordinate (State Plane): string (nullable = true)\n",
      " |-- Open Data Channel Type: string (nullable = true)\n",
      " |-- Park Facility Name: string (nullable = true)\n",
      " |-- Park Borough: string (nullable = true)\n",
      " |-- Latitude: double (nullable = true)\n",
      " |-- Longitude: double (nullable = true)\n",
      " |-- Location: string (nullable = true)\n",
      " |-- Closed_Date_format: date (nullable = true)\n",
      " |-- Created_Date_format: date (nullable = true)\n",
      "\n",
      "+----------+--------------------+--------------------+------+--------------------+--------------------+--------------------+--------------------+------------+--------------------+--------------------+-----------------+----------------+------------+-------------------+-------------+--------+--------------------+----------------------+----------------+----------+-------------+--------------------------+--------------------------+----------------------+------------------+-------------+------------------+------------------+--------------------+------------------+-------------------+\n",
      "|Unique_Key|        Created_Date|         Closed_Date|Agency|         Agency Name|      Complaint Type|          Descriptor|       Location Type|Incident Zip|    Incident Address|         Street Name|   Cross Street 1|  Cross Street 2|Address Type|               City|Facility Type|  Status|            Due_Date|Resolution Description| Community Board|       BBL|      Borough|X Coordinate (State Plane)|Y Coordinate (State Plane)|Open Data Channel Type|Park Facility Name| Park Borough|          Latitude|         Longitude|            Location|Closed_Date_format|Created_Date_format|\n",
      "+----------+--------------------+--------------------+------+--------------------+--------------------+--------------------+--------------------+------------+--------------------+--------------------+-----------------+----------------+------------+-------------------+-------------+--------+--------------------+----------------------+----------------+----------+-------------+--------------------------+--------------------------+----------------------+------------------+-------------+------------------+------------------+--------------------+------------------+-------------------+\n",
      "|  25620844|05/28/2013 10:12:...|05/28/2013 02:24:...|  NYPD|New York City Pol...| Urinating in Public|                 N/A|     Street/Sidewalk|       10459|1228 SOUTHERN BOU...|  SOUTHERN BOULEVARD|      HOME STREET|  FREEMAN STREET|     ADDRESS|              BRONX|     Precinct|  Closed|05/28/2013 06:12:...|  The Police Depart...|        03 BRONX|2029790012|        BRONX|                   1014173|                    241412|                 PHONE|       Unspecified|        BRONX| 40.82924494625826|-73.89187449031489|(40.8292449462582...|        2013-05-28|         2013-05-28|\n",
      "|  25620853|05/28/2013 04:06:...|05/31/2013 12:34:...|   DPR|Department of Par...|           Dead Tree|     Dead/Dying Tree|              Street|       11236|10802 FLATLANDS N...|FLATLANDS NINTH S...|  EAST 108 STREET|        DEAD END|     ADDRESS|           BROOKLYN|          N/A|  Closed|06/05/2013 07:43:...|  The Department of...|     18 BROOKLYN|3082737501|     BROOKLYN|                   1016796|                    172561|                 PHONE|       Unspecified|     BROOKLYN| 40.64025689607397|-73.88272946731684|(40.6402568960739...|        2013-05-31|         2013-05-28|\n",
      "|  25620854|05/28/2013 03:29:...|06/05/2013 09:24:...|   DPR|Department of Par...|           Dead Tree|     Dead/Dying Tree|              Street|       11370|     30-36 83 STREET|           83 STREET|        30 AVENUE|       31 AVENUE|     ADDRESS|      EAST ELMHURST|          N/A|  Closed|06/05/2013 06:52:...|  The Department of...|       03 QUEENS|4013800023|       QUEENS|                   1016017|                    216370|                 PHONE|       Unspecified|       QUEENS|40.760505061647166|  -73.885329735479|(40.7605050616471...|        2013-06-05|         2013-05-28|\n",
      "|  25620855|05/28/2013 07:55:...|05/29/2013 07:21:...|   DPR|Department of Par...|           Dead Tree|     Dead/Dying Tree|              Street|       11413|   227-18 141 AVENUE|          141 AVENUE|       227 STREET|      228 STREET|     ADDRESS|SPRINGFIELD GARDENS|          N/A|  Closed|06/02/2013 07:55:...|  The Department of...|       13 QUEENS|4131910297|       QUEENS|                   1054155|                    182971|                 PHONE|       Unspecified|       QUEENS| 40.66861388568256|-73.74800925747168|(40.6686138856825...|        2013-05-29|         2013-05-28|\n",
      "|  25620856|05/28/2013 02:50:...|06/02/2013 02:50:...|   DPR|Department of Par...|           Dead Tree|     Dead/Dying Tree|              Street|       10312|  666 RATHBUN AVENUE|      RATHBUN AVENUE|  HUGUENOT AVENUE|ELLSWORTH AVENUE|     ADDRESS|      STATEN ISLAND|          N/A|    Open|06/02/2013 02:50:...|  The Department of...|03 STATEN ISLAND|5068430044|STATEN ISLAND|                    929316|                    135821|                 PHONE|       Unspecified|STATEN ISLAND| 40.53930264937191|-74.19764060985678|(40.5393026493719...|        2013-06-02|         2013-05-28|\n",
      "|  25620866|05/28/2013 10:32:...|05/30/2013 08:09:...|  NYPD|New York City Pol...|Noise - Street/Si...|        Loud Talking|     Street/Sidewalk|       10034|    176 NAGLE AVENUE|        NAGLE AVENUE|   DYCKMAN STREET|    NYCTA SUBWAY|     ADDRESS|           NEW YORK|     Precinct|  Closed|05/29/2013 06:32:...|  The Police Depart...|    12 MANHATTAN|1022170047|    MANHATTAN|                   1005179|                    253245|                ONLINE|       Unspecified|    MANHATTAN| 40.86174893459112|-73.92433698102494|(40.8617489345911...|        2013-05-30|         2013-05-28|\n",
      "|  25620867|05/28/2013 06:49:...|05/31/2013 01:55:...| DOHMH|Department of Hea...|      Food Poisoning|              1 or 2|Restaurant/Bar/De...|       10003|        227 1 AVENUE|            1 AVENUE|   EAST 13 STREET|  EAST 14 STREET|     ADDRESS|           NEW YORK|          N/A|  Closed|06/11/2013 06:49:...|  The Department of...|    03 MANHATTAN|1004550038|    MANHATTAN|                    989005|                    205592|                 PHONE|       Unspecified|    MANHATTAN|  40.7309779455853|-73.98284334851826|(40.7309779455853...|        2013-05-31|         2013-05-28|\n",
      "|  25620868|05/28/2013 07:03:...|05/31/2013 01:55:...| DOHMH|Department of Hea...|      Food Poisoning|              1 or 2|Restaurant/Bar/De...|       10003|        227 1 AVENUE|            1 AVENUE|   EAST 13 STREET|  EAST 14 STREET|     ADDRESS|           NEW YORK|          N/A|  Closed|06/11/2013 06:49:...|  The Department of...|    03 MANHATTAN|1004550038|    MANHATTAN|                    989005|                    205592|                 PHONE|       Unspecified|    MANHATTAN|  40.7309779455853|-73.98284334851826|(40.7309779455853...|        2013-05-31|         2013-05-28|\n",
      "|  25620872|05/28/2013 04:18:...|06/04/2013 10:09:...| DOHMH|Department of Hea...|  Indoor Air Quality|Chemical Vapors/G...|Other (Explain Be...|       10013|     44 WHITE STREET|        WHITE STREET|    CHURCH STREET|  FRANKLIN PLACE|     ADDRESS|           NEW YORK|          N/A|  Closed|06/27/2013 04:18:...|  The Department of...|    01 MANHATTAN|1001930012|    MANHATTAN|                    983062|                    201084|                ONLINE|       Unspecified|    MANHATTAN| 40.71860577784937|-74.00428566104473|(40.7186057778493...|        2013-06-04|         2013-05-28|\n",
      "|  25620876|05/28/2013 09:32:...|07/24/2013 10:37:...|   DPR|Department of Par...|        Damaged Tree|Branch Cracked an...|              Street|       11355|    45-74 157 STREET|          157 STREET|        45 AVENUE|       46 AVENUE|     ADDRESS|           FLUSHING|          N/A|  Closed|07/25/2013 10:40:...|  The Department of...|       07 QUEENS|4054350082|       QUEENS|                   1037045|                    214394|                 PHONE|       Unspecified|       QUEENS| 40.75498089829135|-73.80944006042999|(40.7549808982913...|        2013-07-24|         2013-05-28|\n",
      "|  25620880|05/28/2013 12:04:...|06/27/2013 12:04:...| DOHMH|Department of Hea...|      Standing Water|Other - Explain B...|               Other|       10013|   139 CENTER STREET|       CENTER STREET|     WHITE STREET|   WALKER STREET|     ADDRESS|           NEW YORK|          N/A|    Open|06/27/2013 12:04:...|  The Department of...|    01 MANHATTAN|1001977502|    MANHATTAN|                    984083|                    200578|                 PHONE|       Unspecified|    MANHATTAN|40.717217007536156|-74.00060243306505|(40.7172170075361...|        2013-06-27|         2013-05-28|\n",
      "|  25620884|05/28/2013 08:24:...|05/29/2013 07:28:...|   DPR|Department of Par...|        Damaged Tree|    Tree Trunk Split|              Street|       11205|  116 CLINTON AVENUE|      CLINTON AVENUE|      PARK AVENUE|   MYRTLE AVENUE|     ADDRESS|           BROOKLYN|          N/A|  Closed|06/02/2013 08:24:...|  The condition was...|     02 BROOKLYN|3018870078|     BROOKLYN|                    992828|                    192249|                 PHONE|       Unspecified|     BROOKLYN| 40.69435171040216|-73.96906647478316|(40.6943517104021...|        2013-05-29|         2013-05-28|\n",
      "|  25620893|05/28/2013 12:00:...|06/14/2013 12:00:...| DOHMH|Department of Hea...|Unsanitary Animal...|        Animal Waste| 1-2 Family Dwelling|       11411|   115-01 217 STREET|          217 STREET|       115 AVENUE|        115 ROAD|     ADDRESS|    Cambria Heights|          N/A|  Closed|06/27/2013 12:16:...|  The Department of...|       13 QUEENS|4112810030|       QUEENS|                   1056293|                    194722|                 PHONE|       Unspecified|       QUEENS|40.700850415092525|-73.74017668245126|(40.7008504150925...|        2013-06-14|         2013-05-28|\n",
      "|  25620906|05/28/2013 10:43:...|05/29/2013 10:21:...|   DOT|Department of Tra...|Street Sign - Dam...|Street Cleaning -...|              Street|       11204|1773 BAY RIDGE PA...|   BAY RIDGE PARKWAY|        17 AVENUE|       18 AVENUE|     ADDRESS|           BROOKLYN|          N/A|  Closed|06/11/2013 10:43:...|  \"The Department o...|     11 BROOKLYN|3062150053|     BROOKLYN|                    985145|                    162929|                ONLINE|       Unspecified|     BROOKLYN|  40.6138788322438|-73.99677638967815|(40.6138788322438...|        2013-05-29|         2013-05-28|\n",
      "|  25620925|05/28/2013 12:00:...|06/12/2013 12:00:...|   HPD|Department of Hou...|     PAINT - PLASTER|             CEILING|RESIDENTIAL BUILDING|       10033|   21 BENNETT AVENUE|      BENNETT AVENUE|  WEST 181 STREET| WEST 184 STREET|     ADDRESS|           NEW YORK|          N/A|  Closed|06/12/2013 12:00:...|  The Department of...|    12 MANHATTAN|1021800096|    MANHATTAN|                   1001878|                    249394|                 PHONE|       Unspecified|    MANHATTAN| 40.85118630249899|-73.93628095735038|(40.8511863024989...|        2013-06-12|         2013-05-28|\n",
      "|  25620946|05/28/2013 11:37:...|06/03/2013 10:41:...|   DPR|Department of Par...|    New Tree Request|     For One Address|              Street|       11358|160-17 LABURNUM A...|     LABURNUM AVENUE|       160 STREET|      161 STREET|     ADDRESS|           FLUSHING|          N/A|  Closed|11/24/2013 11:37:...|  The Department of...|       07 QUEENS|4054590057|       QUEENS|                   1037781|                    213227|                 PHONE|       Unspecified|       QUEENS| 40.75177336185098|-73.80679281791294|(40.7517733618509...|        2013-06-03|         2013-05-28|\n",
      "|  25620947|05/28/2013 12:06:...|08/02/2013 12:33:...|   DPR|Department of Par...|    New Tree Request|     For One Address|              Street|       11230| 1137 EAST 14 STREET|      EAST 14 STREET|         AVENUE K|        AVENUE L|     ADDRESS|           BROOKLYN|          N/A|  Closed|11/30/2013 10:42:...|  The agency has de...|     14 BROOKLYN|3067250074|     BROOKLYN|                    994890|                    165787|                 OTHER|       Unspecified|     BROOKLYN|40.621717105140625|-73.96167235443735|(40.6217171051406...|        2013-08-02|         2013-05-28|\n",
      "|  25620948|05/28/2013 12:06:...|12/15/2014 04:54:...|   DPR|Department of Par...|    New Tree Request|     For One Address|              Street|       11207|  109 WARWICK STREET|      WARWICK STREET| RIDGEWOOD AVENUE|ARLINGTON AVENUE|     ADDRESS|           BROOKLYN|          N/A|Assigned|12/15/2014 04:54:...|  The location has ...|     05 BROOKLYN|3039230012|     BROOKLYN|                   1015347|                    187548|                 PHONE|       Unspecified|     BROOKLYN|40.681398077547406| -73.8878814149668|(40.6813980775474...|        2014-12-15|         2013-05-28|\n",
      "|  25620952|05/28/2013 02:56:...|05/29/2013 07:06:...|   DOT|Department of Tra...|   Broken Muni Meter|          Bent/Loose|              Street|       10010|  122 EAST 23 STREET|      EAST 23 STREET|PARK AVENUE SOUTH|LEXINGTON AVENUE|     ADDRESS|           NEW YORK|          N/A|  Closed|06/27/2013 02:56:...|  \"The Department o...|    05 MANHATTAN|1008780015|    MANHATTAN|                    988318|                    208785|                 PHONE|       Unspecified|    MANHATTAN| 40.73974228555911|-73.98532020213307|(40.7397422855591...|        2013-05-29|         2013-05-28|\n",
      "|  25620957|05/28/2013 03:38:...|07/05/2013 07:13:...|   DPR|Department of Par...|Root/Sewer/Sidewa...|Trees and Sidewal...|              Street|       11358|33-62 UTOPIA PARKWAY|      UTOPIA PARKWAY|        33 AVENUE|       35 AVENUE|     ADDRESS|           FLUSHING|          N/A|  Closed|06/28/2013 06:24:...|  This request has ...|       07 QUEENS|4052570036|       QUEENS|                   1041656|                    218664|                 PHONE|       Unspecified|       QUEENS| 40.76667218536972|-73.79276056845092|(40.7666721853697...|        2013-07-05|         2013-05-28|\n",
      "+----------+--------------------+--------------------+------+--------------------+--------------------+--------------------+--------------------+------------+--------------------+--------------------+-----------------+----------------+------------+-------------------+-------------+--------+--------------------+----------------------+----------------+----------+-------------+--------------------------+--------------------------+----------------------+------------------+-------------+------------------+------------------+--------------------+------------------+-------------------+\n",
      "only showing top 20 rows\n",
      "\n"
     ]
    }
   ],
   "source": [
    "from pyspark.sql.functions import date_format\n",
    "df_in=df\n",
    "df1=demo_df.withColumn(\"Closed_Date_format\", to_date(date_format(unix_timestamp(\"Closed_Date\", \"MM/dd/yyyy hh:mm:ss a\").cast(TimestampType()), \"yyyy-MM-dd\")))\n",
    "df1=df1.withColumn(\"Created_Date_format\", to_date(date_format(unix_timestamp(\"Created_Date\", \"MM/dd/yyyy hh:mm:ss a\").cast(TimestampType()), \"yyyy-MM-dd\")))\n",
    "#df1=df1.withColumn(\"Resolution_Action_Updated_Date_format\", to_date(date_format(unix_timestamp(\"Resolution_Action_Updated_Date\", \"MM/dd/yyyy hh:mm:ss a\").cast(TimestampType()), \"yyyy-MM-dd\")))\n",
    "df1.printSchema()\n",
    "df1.show()"
   ]
  },
  {
   "cell_type": "code",
   "execution_count": 176,
   "id": "ac607800",
   "metadata": {},
   "outputs": [
    {
     "data": {
      "text/plain": [
       "Row(Closed_Date_format=datetime.date(2013, 5, 28))"
      ]
     },
     "execution_count": 176,
     "metadata": {},
     "output_type": "execute_result"
    }
   ],
   "source": [
    "df1.select(\"Closed_Date_format\").first()"
   ]
  },
  {
   "cell_type": "code",
   "execution_count": 186,
   "id": "22705a5e",
   "metadata": {},
   "outputs": [],
   "source": [
    "df1=df1.withColumn(\"datesDiff\",datediff(col(\"Closed_Date_format\"),col(\"Created_Date_format\")))"
   ]
  },
  {
   "cell_type": "code",
   "execution_count": 187,
   "id": "52d1ba86",
   "metadata": {},
   "outputs": [
    {
     "data": {
      "text/plain": [
       "DataFrame[Unique_Key: int, Created_Date: string, Closed_Date: string, Agency: string, Agency Name: string, Complaint Type: string, Descriptor: string, Location Type: string, Incident Zip: string, Incident Address: string, Street Name: string, Cross Street 1: string, Cross Street 2: string, Address Type: string, City: string, Facility Type: string, Status: string, Due_Date: string, Resolution Description: string, Community Board: string, BBL: string, Borough: string, X Coordinate (State Plane): bigint, Y Coordinate (State Plane): string, Open Data Channel Type: string, Park Facility Name: string, Park Borough: string, Latitude: double, Longitude: double, Location: string, Closed_Date_format: date, Created_Date_format: date, datesDiff: int]"
      ]
     },
     "execution_count": 187,
     "metadata": {},
     "output_type": "execute_result"
    }
   ],
   "source": [
    "df1"
   ]
  },
  {
   "cell_type": "code",
   "execution_count": 212,
   "id": "a7e2f69e",
   "metadata": {},
   "outputs": [],
   "source": [
    "Y=df1.select(\"datesDiff\")"
   ]
  },
  {
   "cell_type": "code",
   "execution_count": 111,
   "id": "68d42f33",
   "metadata": {},
   "outputs": [
    {
     "data": {
      "text/plain": [
       "pyspark.sql.dataframe.DataFrame"
      ]
     },
     "execution_count": 111,
     "metadata": {},
     "output_type": "execute_result"
    }
   ],
   "source": [
    "type(updated_pyspark_dummy)"
   ]
  },
  {
   "cell_type": "code",
   "execution_count": 112,
   "id": "bd8ebb7f",
   "metadata": {},
   "outputs": [
    {
     "data": {
      "text/plain": [
       "['Unique_Key',\n",
       " 'Created_Date',\n",
       " 'Closed_Date',\n",
       " 'Agency',\n",
       " 'Agency Name',\n",
       " 'Complaint Type',\n",
       " 'Descriptor',\n",
       " 'Location Type',\n",
       " 'Incident Zip',\n",
       " 'Incident Address',\n",
       " 'Street Name',\n",
       " 'Cross Street 1',\n",
       " 'Cross Street 2',\n",
       " 'Address Type',\n",
       " 'City',\n",
       " 'Facility Type',\n",
       " 'Status',\n",
       " 'Due_Date',\n",
       " 'Resolution Description',\n",
       " 'Community Board',\n",
       " 'BBL',\n",
       " 'Borough',\n",
       " 'X Coordinate (State Plane)',\n",
       " 'Y Coordinate (State Plane)',\n",
       " 'Open Data Channel Type',\n",
       " 'Park Facility Name',\n",
       " 'Park Borough',\n",
       " 'Latitude',\n",
       " 'Longitude',\n",
       " 'Location',\n",
       " 'Resolution_Action_Updated_Date',\n",
       " 'web_datetime']"
      ]
     },
     "execution_count": 112,
     "metadata": {},
     "output_type": "execute_result"
    }
   ],
   "source": [
    "updated_pyspark_dummy.columns"
   ]
  },
  {
   "cell_type": "code",
   "execution_count": 113,
   "id": "30466ea9",
   "metadata": {},
   "outputs": [
    {
     "data": {
      "text/plain": [
       "DataFrame[Unique_Key: int, Created_Date: string, Closed_Date: string, Agency: string, Agency Name: string, Complaint Type: string, Descriptor: string, Location Type: string, Incident Zip: string, Incident Address: string, Street Name: string, Cross Street 1: string, Cross Street 2: string, Address Type: string, City: string, Facility Type: string, Status: string, Due_Date: string, Resolution Description: string, Community Board: string, BBL: string, Borough: string, X Coordinate (State Plane): bigint, Y Coordinate (State Plane): string, Open Data Channel Type: string, Park Facility Name: string, Park Borough: string, Latitude: double, Longitude: double, Location: string, Resolution_Action_Updated_Date: string, Resolution_Action_Updated_Date_format: date]"
      ]
     },
     "execution_count": 113,
     "metadata": {},
     "output_type": "execute_result"
    }
   ],
   "source": [
    "df1"
   ]
  },
  {
   "cell_type": "code",
   "execution_count": 83,
   "id": "cd3ba1f2",
   "metadata": {},
   "outputs": [],
   "source": [
    "agency_count=df1.groupBy(\"Agency\").count()"
   ]
  },
  {
   "cell_type": "code",
   "execution_count": 84,
   "id": "eaefd93d",
   "metadata": {},
   "outputs": [
    {
     "name": "stdout",
     "output_type": "stream",
     "text": [
      "+------+-------+\n",
      "|Agency|  count|\n",
      "+------+-------+\n",
      "| NYCEM|     21|\n",
      "|   HRA|      1|\n",
      "|   DOT| 535888|\n",
      "|   HPD|3105680|\n",
      "|   DPR| 602273|\n",
      "|   TLC|  43218|\n",
      "|   EDC|   5849|\n",
      "|   DOF|  15367|\n",
      "| 3-1-1|  15860|\n",
      "|  NYPD|3876425|\n",
      "|   DOB|  27626|\n",
      "|  DFTA|    319|\n",
      "|   DOE|     66|\n",
      "| DOHMH| 413562|\n",
      "|  DSNY|1088089|\n",
      "|   DHS|  53744|\n",
      "| DOITT|   3102|\n",
      "+------+-------+\n",
      "\n"
     ]
    }
   ],
   "source": [
    "agency_count.show()"
   ]
  },
  {
   "cell_type": "code",
   "execution_count": 85,
   "id": "207ca195",
   "metadata": {},
   "outputs": [
    {
     "data": {
      "text/plain": [
       "list"
      ]
     },
     "execution_count": 85,
     "metadata": {},
     "output_type": "execute_result"
    }
   ],
   "source": [
    "type(agency_count.select(\"Agency\").collect())"
   ]
  },
  {
   "cell_type": "code",
   "execution_count": 86,
   "id": "167d4f63",
   "metadata": {},
   "outputs": [],
   "source": [
    "agency_count_pandas=agency_count.toPandas()"
   ]
  },
  {
   "cell_type": "code",
   "execution_count": 87,
   "id": "a01d4901",
   "metadata": {},
   "outputs": [],
   "source": [
    "agency_list=agency_count.select(\"Agency\").collect()\n",
    "agency_count_list=agency_count.select(\"count\").collect()"
   ]
  },
  {
   "cell_type": "code",
   "execution_count": 88,
   "id": "067be2a4",
   "metadata": {},
   "outputs": [
    {
     "data": {
      "text/html": [
       "<div>\n",
       "<style scoped>\n",
       "    .dataframe tbody tr th:only-of-type {\n",
       "        vertical-align: middle;\n",
       "    }\n",
       "\n",
       "    .dataframe tbody tr th {\n",
       "        vertical-align: top;\n",
       "    }\n",
       "\n",
       "    .dataframe thead th {\n",
       "        text-align: right;\n",
       "    }\n",
       "</style>\n",
       "<table border=\"1\" class=\"dataframe\">\n",
       "  <thead>\n",
       "    <tr style=\"text-align: right;\">\n",
       "      <th></th>\n",
       "      <th>Agency</th>\n",
       "      <th>count</th>\n",
       "    </tr>\n",
       "  </thead>\n",
       "  <tbody>\n",
       "    <tr>\n",
       "      <th>0</th>\n",
       "      <td>NYCEM</td>\n",
       "      <td>21</td>\n",
       "    </tr>\n",
       "    <tr>\n",
       "      <th>1</th>\n",
       "      <td>HRA</td>\n",
       "      <td>1</td>\n",
       "    </tr>\n",
       "    <tr>\n",
       "      <th>2</th>\n",
       "      <td>DOT</td>\n",
       "      <td>535888</td>\n",
       "    </tr>\n",
       "    <tr>\n",
       "      <th>3</th>\n",
       "      <td>HPD</td>\n",
       "      <td>3105680</td>\n",
       "    </tr>\n",
       "    <tr>\n",
       "      <th>4</th>\n",
       "      <td>DPR</td>\n",
       "      <td>602273</td>\n",
       "    </tr>\n",
       "    <tr>\n",
       "      <th>5</th>\n",
       "      <td>TLC</td>\n",
       "      <td>43218</td>\n",
       "    </tr>\n",
       "    <tr>\n",
       "      <th>6</th>\n",
       "      <td>EDC</td>\n",
       "      <td>5849</td>\n",
       "    </tr>\n",
       "    <tr>\n",
       "      <th>7</th>\n",
       "      <td>DOF</td>\n",
       "      <td>15367</td>\n",
       "    </tr>\n",
       "    <tr>\n",
       "      <th>8</th>\n",
       "      <td>3-1-1</td>\n",
       "      <td>15860</td>\n",
       "    </tr>\n",
       "    <tr>\n",
       "      <th>9</th>\n",
       "      <td>NYPD</td>\n",
       "      <td>3876425</td>\n",
       "    </tr>\n",
       "    <tr>\n",
       "      <th>10</th>\n",
       "      <td>DOB</td>\n",
       "      <td>27626</td>\n",
       "    </tr>\n",
       "    <tr>\n",
       "      <th>11</th>\n",
       "      <td>DFTA</td>\n",
       "      <td>319</td>\n",
       "    </tr>\n",
       "    <tr>\n",
       "      <th>12</th>\n",
       "      <td>DOE</td>\n",
       "      <td>66</td>\n",
       "    </tr>\n",
       "    <tr>\n",
       "      <th>13</th>\n",
       "      <td>DOHMH</td>\n",
       "      <td>413562</td>\n",
       "    </tr>\n",
       "    <tr>\n",
       "      <th>14</th>\n",
       "      <td>DSNY</td>\n",
       "      <td>1088089</td>\n",
       "    </tr>\n",
       "    <tr>\n",
       "      <th>15</th>\n",
       "      <td>DHS</td>\n",
       "      <td>53744</td>\n",
       "    </tr>\n",
       "    <tr>\n",
       "      <th>16</th>\n",
       "      <td>DOITT</td>\n",
       "      <td>3102</td>\n",
       "    </tr>\n",
       "  </tbody>\n",
       "</table>\n",
       "</div>"
      ],
      "text/plain": [
       "   Agency    count\n",
       "0   NYCEM       21\n",
       "1     HRA        1\n",
       "2     DOT   535888\n",
       "3     HPD  3105680\n",
       "4     DPR   602273\n",
       "5     TLC    43218\n",
       "6     EDC     5849\n",
       "7     DOF    15367\n",
       "8   3-1-1    15860\n",
       "9    NYPD  3876425\n",
       "10    DOB    27626\n",
       "11   DFTA      319\n",
       "12    DOE       66\n",
       "13  DOHMH   413562\n",
       "14   DSNY  1088089\n",
       "15    DHS    53744\n",
       "16  DOITT     3102"
      ]
     },
     "execution_count": 88,
     "metadata": {},
     "output_type": "execute_result"
    }
   ],
   "source": [
    "agency_count_pandas"
   ]
  },
  {
   "cell_type": "code",
   "execution_count": 89,
   "id": "f8e4c163",
   "metadata": {},
   "outputs": [
    {
     "data": {
      "text/plain": [
       "Text(0, 0.5, 'Frequency')"
      ]
     },
     "execution_count": 89,
     "metadata": {},
     "output_type": "execute_result"
    },
    {
     "data": {
      "image/png": "[encoded data removed]",
      "text/plain": [
       "<Figure size 720x576 with 1 Axes>"
      ]
     },
     "metadata": {
      "needs_background": "light"
     },
     "output_type": "display_data"
    }
   ],
   "source": [
    "import matplotlib.pyplot as plt\n",
    "\n",
    "plt.figure(figsize=(10,8))\n",
    "plt.hist(agency_count_pandas[\"Agency\"],weights=agency_count_pandas[\"count\"],bins=30,rwidth=2,color='red')\n",
    "plt.xlabel(\"Agency\")\n",
    "plt.ylabel(\"Frequency\")"
   ]
  },
  {
   "cell_type": "code",
   "execution_count": 90,
   "id": "0b632c53",
   "metadata": {},
   "outputs": [],
   "source": [
    "agency_count_pandas_updated=agency_count_pandas[agency_count_pandas[\"count\"]>15000]\n",
    "        \n",
    "        "
   ]
  },
  {
   "cell_type": "code",
   "execution_count": 91,
   "id": "2e9a6e81",
   "metadata": {},
   "outputs": [
    {
     "data": {
      "text/html": [
       "<div>\n",
       "<style scoped>\n",
       "    .dataframe tbody tr th:only-of-type {\n",
       "        vertical-align: middle;\n",
       "    }\n",
       "\n",
       "    .dataframe tbody tr th {\n",
       "        vertical-align: top;\n",
       "    }\n",
       "\n",
       "    .dataframe thead th {\n",
       "        text-align: right;\n",
       "    }\n",
       "</style>\n",
       "<table border=\"1\" class=\"dataframe\">\n",
       "  <thead>\n",
       "    <tr style=\"text-align: right;\">\n",
       "      <th></th>\n",
       "      <th>Agency</th>\n",
       "      <th>count</th>\n",
       "    </tr>\n",
       "  </thead>\n",
       "  <tbody>\n",
       "    <tr>\n",
       "      <th>2</th>\n",
       "      <td>DOT</td>\n",
       "      <td>535888</td>\n",
       "    </tr>\n",
       "    <tr>\n",
       "      <th>3</th>\n",
       "      <td>HPD</td>\n",
       "      <td>3105680</td>\n",
       "    </tr>\n",
       "    <tr>\n",
       "      <th>4</th>\n",
       "      <td>DPR</td>\n",
       "      <td>602273</td>\n",
       "    </tr>\n",
       "    <tr>\n",
       "      <th>5</th>\n",
       "      <td>TLC</td>\n",
       "      <td>43218</td>\n",
       "    </tr>\n",
       "    <tr>\n",
       "      <th>7</th>\n",
       "      <td>DOF</td>\n",
       "      <td>15367</td>\n",
       "    </tr>\n",
       "    <tr>\n",
       "      <th>8</th>\n",
       "      <td>3-1-1</td>\n",
       "      <td>15860</td>\n",
       "    </tr>\n",
       "    <tr>\n",
       "      <th>9</th>\n",
       "      <td>NYPD</td>\n",
       "      <td>3876425</td>\n",
       "    </tr>\n",
       "    <tr>\n",
       "      <th>10</th>\n",
       "      <td>DOB</td>\n",
       "      <td>27626</td>\n",
       "    </tr>\n",
       "    <tr>\n",
       "      <th>13</th>\n",
       "      <td>DOHMH</td>\n",
       "      <td>413562</td>\n",
       "    </tr>\n",
       "    <tr>\n",
       "      <th>14</th>\n",
       "      <td>DSNY</td>\n",
       "      <td>1088089</td>\n",
       "    </tr>\n",
       "    <tr>\n",
       "      <th>15</th>\n",
       "      <td>DHS</td>\n",
       "      <td>53744</td>\n",
       "    </tr>\n",
       "  </tbody>\n",
       "</table>\n",
       "</div>"
      ],
      "text/plain": [
       "   Agency    count\n",
       "2     DOT   535888\n",
       "3     HPD  3105680\n",
       "4     DPR   602273\n",
       "5     TLC    43218\n",
       "7     DOF    15367\n",
       "8   3-1-1    15860\n",
       "9    NYPD  3876425\n",
       "10    DOB    27626\n",
       "13  DOHMH   413562\n",
       "14   DSNY  1088089\n",
       "15    DHS    53744"
      ]
     },
     "execution_count": 91,
     "metadata": {},
     "output_type": "execute_result"
    }
   ],
   "source": [
    "agency_count_pandas_updated"
   ]
  },
  {
   "cell_type": "code",
   "execution_count": 92,
   "id": "3a01aaec",
   "metadata": {},
   "outputs": [
    {
     "data": {
      "text/plain": [
       "Text(0, 0.5, 'Frequency')"
      ]
     },
     "execution_count": 92,
     "metadata": {},
     "output_type": "execute_result"
    },
    {
     "data": {
      "image/png": "[encoded data removed]",
      "text/plain": [
       "<Figure size 720x576 with 1 Axes>"
      ]
     },
     "metadata": {
      "needs_background": "light"
     },
     "output_type": "display_data"
    }
   ],
   "source": [
    "import matplotlib.pyplot as plt\n",
    "\n",
    "plt.figure(figsize=(10,8))\n",
    "plt.hist(agency_count_pandas_updated[\"Agency\"],weights=agency_count_pandas_updated[\"count\"],bins=30,rwidth=2,color='red')\n",
    "plt.xlabel(\"Agency\")\n",
    "plt.ylabel(\"Frequency\")"
   ]
  },
  {
   "cell_type": "code",
   "execution_count": 93,
   "id": "5183935e",
   "metadata": {},
   "outputs": [],
   "source": [
    "city_count=df1.groupBy(\"City\").count()"
   ]
  },
  {
   "cell_type": "code",
   "execution_count": 94,
   "id": "52d01ef4",
   "metadata": {},
   "outputs": [
    {
     "data": {
      "text/plain": [
       "92"
      ]
     },
     "execution_count": 94,
     "metadata": {},
     "output_type": "execute_result"
    }
   ],
   "source": [
    "city_count.count()"
   ]
  },
  {
   "cell_type": "code",
   "execution_count": 95,
   "id": "d3ca6f60",
   "metadata": {},
   "outputs": [],
   "source": [
    "park_count=df1.groupBy(\"Park Borough\").count()"
   ]
  },
  {
   "cell_type": "code",
   "execution_count": 96,
   "id": "01000604",
   "metadata": {},
   "outputs": [],
   "source": [
    "park_count_pandas=park_count.toPandas()"
   ]
  },
  {
   "cell_type": "code",
   "execution_count": 97,
   "id": "efa4f794",
   "metadata": {},
   "outputs": [
    {
     "data": {
      "text/html": [
       "<div>\n",
       "<style scoped>\n",
       "    .dataframe tbody tr th:only-of-type {\n",
       "        vertical-align: middle;\n",
       "    }\n",
       "\n",
       "    .dataframe tbody tr th {\n",
       "        vertical-align: top;\n",
       "    }\n",
       "\n",
       "    .dataframe thead th {\n",
       "        text-align: right;\n",
       "    }\n",
       "</style>\n",
       "<table border=\"1\" class=\"dataframe\">\n",
       "  <thead>\n",
       "    <tr style=\"text-align: right;\">\n",
       "      <th></th>\n",
       "      <th>Park Borough</th>\n",
       "      <th>count</th>\n",
       "    </tr>\n",
       "  </thead>\n",
       "  <tbody>\n",
       "    <tr>\n",
       "      <th>0</th>\n",
       "      <td>Unspecified</td>\n",
       "      <td>793413</td>\n",
       "    </tr>\n",
       "    <tr>\n",
       "      <th>1</th>\n",
       "      <td>QUEENS</td>\n",
       "      <td>2101492</td>\n",
       "    </tr>\n",
       "    <tr>\n",
       "      <th>2</th>\n",
       "      <td>BROOKLYN</td>\n",
       "      <td>2977987</td>\n",
       "    </tr>\n",
       "    <tr>\n",
       "      <th>3</th>\n",
       "      <td>BRONX</td>\n",
       "      <td>1761696</td>\n",
       "    </tr>\n",
       "    <tr>\n",
       "      <th>4</th>\n",
       "      <td>MANHATTAN</td>\n",
       "      <td>1690670</td>\n",
       "    </tr>\n",
       "    <tr>\n",
       "      <th>5</th>\n",
       "      <td>STATEN ISLAND</td>\n",
       "      <td>461832</td>\n",
       "    </tr>\n",
       "  </tbody>\n",
       "</table>\n",
       "</div>"
      ],
      "text/plain": [
       "    Park Borough    count\n",
       "0    Unspecified   793413\n",
       "1         QUEENS  2101492\n",
       "2       BROOKLYN  2977987\n",
       "3          BRONX  1761696\n",
       "4      MANHATTAN  1690670\n",
       "5  STATEN ISLAND   461832"
      ]
     },
     "execution_count": 97,
     "metadata": {},
     "output_type": "execute_result"
    }
   ],
   "source": [
    "park_count_pandas"
   ]
  },
  {
   "cell_type": "code",
   "execution_count": 98,
   "id": "88b7fc32",
   "metadata": {},
   "outputs": [
    {
     "data": {
      "image/png": "[encoded data removed]",
      "text/plain": [
       "<Figure size 432x288 with 1 Axes>"
      ]
     },
     "metadata": {},
     "output_type": "display_data"
    }
   ],
   "source": [
    "import matplotlib.pyplot as plt\n",
    "\n",
    "labels = park_count_pandas[\"Park Borough\"]\n",
    "sizes = park_count_pandas[\"count\"]\n",
    "\n",
    "fig1, ax1 = plt.subplots()\n",
    "ax1.pie(sizes, labels=labels, autopct='%1.1f%%',\n",
    "        shadow=True, startangle=90)\n",
    "ax1.axis('equal')  # Equal aspect ratio ensures that pie is drawn as a circle.\n",
    "\n",
    "plt.show()"
   ]
  },
  {
   "cell_type": "code",
   "execution_count": 99,
   "id": "98bc3b85",
   "metadata": {},
   "outputs": [],
   "source": [
    "complaint_type_pd=df1.groupBy(\"Complaint Type\").count()"
   ]
  },
  {
   "cell_type": "code",
   "execution_count": 100,
   "id": "64af4c2d",
   "metadata": {},
   "outputs": [],
   "source": [
    "complaint_type_pd=complaint_type_pd.toPandas()"
   ]
  },
  {
   "cell_type": "code",
   "execution_count": 101,
   "id": "e960d6e3",
   "metadata": {},
   "outputs": [
    {
     "data": {
      "text/html": [
       "<div>\n",
       "<style scoped>\n",
       "    .dataframe tbody tr th:only-of-type {\n",
       "        vertical-align: middle;\n",
       "    }\n",
       "\n",
       "    .dataframe tbody tr th {\n",
       "        vertical-align: top;\n",
       "    }\n",
       "\n",
       "    .dataframe thead th {\n",
       "        text-align: right;\n",
       "    }\n",
       "</style>\n",
       "<table border=\"1\" class=\"dataframe\">\n",
       "  <thead>\n",
       "    <tr style=\"text-align: right;\">\n",
       "      <th></th>\n",
       "      <th>Complaint Type</th>\n",
       "      <th>count</th>\n",
       "    </tr>\n",
       "  </thead>\n",
       "  <tbody>\n",
       "    <tr>\n",
       "      <th>36</th>\n",
       "      <td>Noise - Residential</td>\n",
       "      <td>1498724</td>\n",
       "    </tr>\n",
       "    <tr>\n",
       "      <th>126</th>\n",
       "      <td>HEATING</td>\n",
       "      <td>861184</td>\n",
       "    </tr>\n",
       "    <tr>\n",
       "      <th>55</th>\n",
       "      <td>Blocked Driveway</td>\n",
       "      <td>798396</td>\n",
       "    </tr>\n",
       "    <tr>\n",
       "      <th>33</th>\n",
       "      <td>Illegal Parking</td>\n",
       "      <td>571085</td>\n",
       "    </tr>\n",
       "    <tr>\n",
       "      <th>19</th>\n",
       "      <td>GENERAL CONSTRUCTION</td>\n",
       "      <td>469519</td>\n",
       "    </tr>\n",
       "  </tbody>\n",
       "</table>\n",
       "</div>"
      ],
      "text/plain": [
       "           Complaint Type    count\n",
       "36    Noise - Residential  1498724\n",
       "126               HEATING   861184\n",
       "55       Blocked Driveway   798396\n",
       "33        Illegal Parking   571085\n",
       "19   GENERAL CONSTRUCTION   469519"
      ]
     },
     "execution_count": 101,
     "metadata": {},
     "output_type": "execute_result"
    }
   ],
   "source": [
    "# # complaint_type_pd.sort_values(by=['Complaint Type']).head(5)\n",
    "# complaint_type_pd['Complaint Type'].nlargest(n=5)\n",
    "df_comp=complaint_type_pd.nlargest(5, ['count'])\n",
    "df_comp"
   ]
  },
  {
   "cell_type": "code",
   "execution_count": 102,
   "id": "a063d00f",
   "metadata": {},
   "outputs": [
    {
     "data": {
      "text/plain": [
       "Text(0, 0.5, 'Frequency')"
      ]
     },
     "execution_count": 102,
     "metadata": {},
     "output_type": "execute_result"
    },
    {
     "data": {
      "image/png": "[encoded data removed]",
      "text/plain": [
       "<Figure size 720x576 with 1 Axes>"
      ]
     },
     "metadata": {
      "needs_background": "light"
     },
     "output_type": "display_data"
    }
   ],
   "source": [
    "import matplotlib.pyplot as plt\n",
    "\n",
    "plt.figure(figsize=(10,8))\n",
    "plt.hist(df_comp[\"Complaint Type\"],weights=df_comp[\"count\"],bins=30,rwidth=2,color='green')\n",
    "plt.xlabel(\"Complaint Type\")\n",
    "plt.ylabel(\"Frequency\")"
   ]
  },
  {
   "cell_type": "code",
   "execution_count": 103,
   "id": "a34d490a",
   "metadata": {},
   "outputs": [],
   "source": [
    "lat_long_pd=df1.select(\"Latitude\",\"Longitude\").toPandas()"
   ]
  },
  {
   "cell_type": "code",
   "execution_count": 104,
   "id": "e9e6b359",
   "metadata": {},
   "outputs": [
    {
     "name": "stdout",
     "output_type": "stream",
     "text": [
      "+--------------------+------+\n",
      "|       Location Type| count|\n",
      "+--------------------+------+\n",
      "|           Apartment|   226|\n",
      "|     House and Store|  1024|\n",
      "|      Private School|    91|\n",
      "|Other (Explain Be...| 25980|\n",
      "|             Roadway|  1392|\n",
      "|  Public Park/Garden|    49|\n",
      "|          Condo Unit|     3|\n",
      "|    House of Worship|  7239|\n",
      "|    Store/Commercial|154719|\n",
      "|1-3 Family Mixed ...|    28|\n",
      "|Building (Non-Res...| 10014|\n",
      "|                Home|  8088|\n",
      "|Cafeteria - Priva...|   132|\n",
      "|       Street Vendor|    44|\n",
      "|       Tanning Salon|    22|\n",
      "|       Grocery Store|    23|\n",
      "|  Abandoned Building|   234|\n",
      "|            Cemetery|     3|\n",
      "|  Street Fair Vendor|    47|\n",
      "|              Subway|    35|\n",
      "+--------------------+------+\n",
      "only showing top 20 rows\n",
      "\n"
     ]
    }
   ],
   "source": [
    "df1.groupBy(\"Location Type\").count().show()"
   ]
  },
  {
   "cell_type": "code",
   "execution_count": 106,
   "id": "4e6606aa",
   "metadata": {},
   "outputs": [
    {
     "name": "stdout",
     "output_type": "stream",
     "text": [
      "DataFrame[Unique_Key: int, Created_Date: string, Closed_Date: string, Agency: string, Agency Name: string, Complaint Type: string, Descriptor: string, Location Type: string, Incident Zip: string, Incident Address: string, Street Name: string, Cross Street 1: string, Cross Street 2: string, Address Type: string, City: string, Facility Type: string, Status: string, Due_Date: string, Resolution Description: string, Community Board: string, BBL: string, Borough: string, X Coordinate (State Plane): bigint, Y Coordinate (State Plane): string, Open Data Channel Type: string, Park Facility Name: string, Park Borough: string, Latitude: double, Longitude: double, Location: string, Resolution_Action_Updated_Date: string, Resolution_Action_Updated_Date_format: date]\n"
     ]
    }
   ],
   "source": [
    "print(df1)"
   ]
  },
  {
   "cell_type": "code",
   "execution_count": 107,
   "id": "b6501694",
   "metadata": {},
   "outputs": [
    {
     "data": {
      "text/plain": [
       "DataFrame[summary: string, Unique_Key: string, Created_Date: string, Closed_Date: string, Agency: string, Agency Name: string, Complaint Type: string, Descriptor: string, Location Type: string, Incident Zip: string, Incident Address: string, Street Name: string, Cross Street 1: string, Cross Street 2: string, Address Type: string, City: string, Facility Type: string, Status: string, Due_Date: string, Resolution Description: string, Community Board: string, BBL: string, Borough: string, X Coordinate (State Plane): string, Y Coordinate (State Plane): string, Open Data Channel Type: string, Park Facility Name: string, Park Borough: string, Latitude: string, Longitude: string, Location: string, Resolution_Action_Updated_Date: string]"
      ]
     },
     "execution_count": 107,
     "metadata": {},
     "output_type": "execute_result"
    }
   ],
   "source": [
    "df1.describe()"
   ]
  },
  {
   "cell_type": "code",
   "execution_count": 190,
   "id": "9228b518",
   "metadata": {},
   "outputs": [],
   "source": [
    "X=df1.select([ 'Agency'])"
   ]
  },
  {
   "cell_type": "code",
   "execution_count": 192,
   "id": "0f0d4268",
   "metadata": {},
   "outputs": [
    {
     "name": "stdout",
     "output_type": "stream",
     "text": [
      "+------+\n",
      "|Agency|\n",
      "+------+\n",
      "|  NYPD|\n",
      "|   DPR|\n",
      "|   DPR|\n",
      "|   DPR|\n",
      "|   DPR|\n",
      "|  NYPD|\n",
      "| DOHMH|\n",
      "| DOHMH|\n",
      "| DOHMH|\n",
      "|   DPR|\n",
      "| DOHMH|\n",
      "|   DPR|\n",
      "| DOHMH|\n",
      "|   DOT|\n",
      "|   HPD|\n",
      "|   DPR|\n",
      "|   DPR|\n",
      "|   DPR|\n",
      "|   DOT|\n",
      "|   DPR|\n",
      "+------+\n",
      "only showing top 20 rows\n",
      "\n"
     ]
    }
   ],
   "source": [
    "X.show()"
   ]
  },
  {
   "cell_type": "code",
   "execution_count": 193,
   "id": "ae91df26",
   "metadata": {},
   "outputs": [],
   "source": [
    "from sklearn.preprocessing import OneHotEncoder"
   ]
  },
  {
   "cell_type": "code",
   "execution_count": 194,
   "id": "365c6b6e",
   "metadata": {},
   "outputs": [],
   "source": [
    "enc = OneHotEncoder(handle_unknown='ignore')"
   ]
  },
  {
   "cell_type": "code",
   "execution_count": 198,
   "id": "ab375081",
   "metadata": {},
   "outputs": [],
   "source": [
    "t=enc.fit(X.head(1000))"
   ]
  },
  {
   "cell_type": "code",
   "execution_count": 202,
   "id": "dd85683d",
   "metadata": {},
   "outputs": [
    {
     "name": "stdout",
     "output_type": "stream",
     "text": [
      "+------+\n",
      "|Agency|\n",
      "+------+\n",
      "|  NYPD|\n",
      "|   DPR|\n",
      "|   DPR|\n",
      "|   DPR|\n",
      "|   DPR|\n",
      "|  NYPD|\n",
      "| DOHMH|\n",
      "| DOHMH|\n",
      "| DOHMH|\n",
      "|   DPR|\n",
      "| DOHMH|\n",
      "|   DPR|\n",
      "| DOHMH|\n",
      "|   DOT|\n",
      "|   HPD|\n",
      "|   DPR|\n",
      "|   DPR|\n",
      "|   DPR|\n",
      "|   DOT|\n",
      "|   DPR|\n",
      "+------+\n",
      "only showing top 20 rows\n",
      "\n"
     ]
    }
   ],
   "source": [
    "X.show()"
   ]
  },
  {
   "cell_type": "code",
   "execution_count": 203,
   "id": "34802b7d",
   "metadata": {},
   "outputs": [
    {
     "name": "stdout",
     "output_type": "stream",
     "text": [
      "+---------+\n",
      "|datesDiff|\n",
      "+---------+\n",
      "|        0|\n",
      "|        3|\n",
      "|        8|\n",
      "|        1|\n",
      "|        5|\n",
      "|        2|\n",
      "|        3|\n",
      "|        3|\n",
      "|        7|\n",
      "|       57|\n",
      "|       30|\n",
      "|        1|\n",
      "|       17|\n",
      "|        1|\n",
      "|       15|\n",
      "|        6|\n",
      "|       66|\n",
      "|      566|\n",
      "|        1|\n",
      "|       38|\n",
      "+---------+\n",
      "only showing top 20 rows\n",
      "\n"
     ]
    }
   ],
   "source": [
    "Y.show()"
   ]
  },
  {
   "cell_type": "code",
   "execution_count": 237,
   "id": "bab8b17b",
   "metadata": {},
   "outputs": [],
   "source": [
    "X_train, X_test, y_train, y_test = train_test_split(X_dummy, Y_dummy, test_size=0.3, random_state=2)"
   ]
  },
  {
   "cell_type": "code",
   "execution_count": 231,
   "id": "a07b7a29",
   "metadata": {},
   "outputs": [],
   "source": [
    "X_dummy=Y.limit(100000).toPandas()"
   ]
  },
  {
   "cell_type": "code",
   "execution_count": 232,
   "id": "3773ba27",
   "metadata": {},
   "outputs": [
    {
     "name": "stdout",
     "output_type": "stream",
     "text": [
      "       datesDiff\n",
      "0              0\n",
      "1              3\n",
      "2              8\n",
      "3              1\n",
      "4              5\n",
      "...          ...\n",
      "99995          0\n",
      "99996          0\n",
      "99997          0\n",
      "99998          2\n",
      "99999          0\n",
      "\n",
      "[100000 rows x 1 columns]\n"
     ]
    }
   ],
   "source": [
    "print(X_dummy)"
   ]
  },
  {
   "cell_type": "code",
   "execution_count": 233,
   "id": "a50a8073",
   "metadata": {},
   "outputs": [],
   "source": [
    "Y_dummy=X.limit(100000).toPandas()"
   ]
  },
  {
   "cell_type": "code",
   "execution_count": 240,
   "id": "2054fce1",
   "metadata": {},
   "outputs": [],
   "source": [
    "X_train, X_test, Y_train, Y_test = train_test_split(X_dummy, Y_dummy, test_size=0.3, random_state=2)"
   ]
  },
  {
   "cell_type": "code",
   "execution_count": 243,
   "id": "c8bae207",
   "metadata": {},
   "outputs": [
    {
     "name": "stderr",
     "output_type": "stream",
     "text": [
      "C:\\Users\\Vignesh\\anaconda3\\lib\\site-packages\\sklearn\\utils\\validation.py:63: DataConversionWarning: A column-vector y was passed when a 1d array was expected. Please change the shape of y to (n_samples, ), for example using ravel().\n",
      "  return f(*args, **kwargs)\n",
      "C:\\Users\\Vignesh\\anaconda3\\lib\\site-packages\\sklearn\\linear_model\\_logistic.py:763: ConvergenceWarning: lbfgs failed to converge (status=1):\n",
      "STOP: TOTAL NO. of ITERATIONS REACHED LIMIT.\n",
      "\n",
      "Increase the number of iterations (max_iter) or scale the data as shown in:\n",
      "    https://scikit-learn.org/stable/modules/preprocessing.html\n",
      "Please also refer to the documentation for alternative solver options:\n",
      "    https://scikit-learn.org/stable/modules/linear_model.html#logistic-regression\n",
      "  n_iter_i = _check_optimize_result(\n"
     ]
    },
    {
     "data": {
      "text/plain": [
       "0.6048"
      ]
     },
     "execution_count": 243,
     "metadata": {},
     "output_type": "execute_result"
    }
   ],
   "source": [
    "from sklearn.linear_model import LogisticRegression\n",
    "\n",
    "clf = LogisticRegression(random_state=0).fit(X_train,Y_train)\n",
    "clf.score(X_test, Y_test)"
   ]
  },
  {
   "cell_type": "code",
   "execution_count": 246,
   "id": "6fa4e7ec",
   "metadata": {},
   "outputs": [],
   "source": [
    "from sklearn.ensemble import RandomForestRegressor"
   ]
  },
  {
   "cell_type": "code",
   "execution_count": 251,
   "id": "39427f42",
   "metadata": {},
   "outputs": [
    {
     "name": "stderr",
     "output_type": "stream",
     "text": [
      "<ipython-input-251-311601bf8c1f>:2: DataConversionWarning: A column-vector y was passed when a 1d array was expected. Please change the shape of y to (n_samples,), for example using ravel().\n",
      "  random_forest.fit(X_dummy, X_dummy)\n"
     ]
    },
    {
     "data": {
      "text/plain": [
       "0.999999921741327"
      ]
     },
     "execution_count": 251,
     "metadata": {},
     "output_type": "execute_result"
    }
   ],
   "source": [
    "random_forest = RandomForestRegressor()\n",
    "random_forest.fit(X_dummy, X_dummy)\n",
    "random_forest.score(X_dummy,X_dummy)"
   ]
  },
  {
   "cell_type": "code",
   "execution_count": 264,
   "id": "1d6a1399",
   "metadata": {},
   "outputs": [],
   "source": [
    "import numpy as np\n",
    "from sklearn.neighbors import KNeighborsClassifier"
   ]
  },
  {
   "cell_type": "code",
   "execution_count": 271,
   "id": "05779c4b",
   "metadata": {},
   "outputs": [
    {
     "name": "stderr",
     "output_type": "stream",
     "text": [
      "C:\\Users\\Vignesh\\anaconda3\\lib\\site-packages\\sklearn\\neighbors\\_classification.py:179: DataConversionWarning: A column-vector y was passed when a 1d array was expected. Please change the shape of y to (n_samples,), for example using ravel().\n",
      "  return self._fit(X, y)\n",
      "C:\\Users\\Vignesh\\anaconda3\\lib\\site-packages\\sklearn\\neighbors\\_classification.py:179: DataConversionWarning: A column-vector y was passed when a 1d array was expected. Please change the shape of y to (n_samples,), for example using ravel().\n",
      "  return self._fit(X, y)\n",
      "C:\\Users\\Vignesh\\anaconda3\\lib\\site-packages\\sklearn\\neighbors\\_classification.py:179: DataConversionWarning: A column-vector y was passed when a 1d array was expected. Please change the shape of y to (n_samples,), for example using ravel().\n",
      "  return self._fit(X, y)\n",
      "C:\\Users\\Vignesh\\anaconda3\\lib\\site-packages\\sklearn\\neighbors\\_classification.py:179: DataConversionWarning: A column-vector y was passed when a 1d array was expected. Please change the shape of y to (n_samples,), for example using ravel().\n",
      "  return self._fit(X, y)\n",
      "C:\\Users\\Vignesh\\anaconda3\\lib\\site-packages\\sklearn\\neighbors\\_classification.py:179: DataConversionWarning: A column-vector y was passed when a 1d array was expected. Please change the shape of y to (n_samples,), for example using ravel().\n",
      "  return self._fit(X, y)\n",
      "C:\\Users\\Vignesh\\anaconda3\\lib\\site-packages\\sklearn\\neighbors\\_classification.py:179: DataConversionWarning: A column-vector y was passed when a 1d array was expected. Please change the shape of y to (n_samples,), for example using ravel().\n",
      "  return self._fit(X, y)\n",
      "C:\\Users\\Vignesh\\anaconda3\\lib\\site-packages\\sklearn\\neighbors\\_classification.py:179: DataConversionWarning: A column-vector y was passed when a 1d array was expected. Please change the shape of y to (n_samples,), for example using ravel().\n",
      "  return self._fit(X, y)\n",
      "C:\\Users\\Vignesh\\anaconda3\\lib\\site-packages\\sklearn\\neighbors\\_classification.py:179: DataConversionWarning: A column-vector y was passed when a 1d array was expected. Please change the shape of y to (n_samples,), for example using ravel().\n",
      "  return self._fit(X, y)\n",
      "C:\\Users\\Vignesh\\anaconda3\\lib\\site-packages\\sklearn\\neighbors\\_classification.py:179: DataConversionWarning: A column-vector y was passed when a 1d array was expected. Please change the shape of y to (n_samples,), for example using ravel().\n",
      "  return self._fit(X, y)\n",
      "C:\\Users\\Vignesh\\anaconda3\\lib\\site-packages\\sklearn\\neighbors\\_classification.py:179: DataConversionWarning: A column-vector y was passed when a 1d array was expected. Please change the shape of y to (n_samples,), for example using ravel().\n",
      "  return self._fit(X, y)\n",
      "C:\\Users\\Vignesh\\anaconda3\\lib\\site-packages\\sklearn\\neighbors\\_classification.py:179: DataConversionWarning: A column-vector y was passed when a 1d array was expected. Please change the shape of y to (n_samples,), for example using ravel().\n",
      "  return self._fit(X, y)\n",
      "C:\\Users\\Vignesh\\anaconda3\\lib\\site-packages\\sklearn\\neighbors\\_classification.py:179: DataConversionWarning: A column-vector y was passed when a 1d array was expected. Please change the shape of y to (n_samples,), for example using ravel().\n",
      "  return self._fit(X, y)\n",
      "C:\\Users\\Vignesh\\anaconda3\\lib\\site-packages\\sklearn\\neighbors\\_classification.py:179: DataConversionWarning: A column-vector y was passed when a 1d array was expected. Please change the shape of y to (n_samples,), for example using ravel().\n",
      "  return self._fit(X, y)\n",
      "C:\\Users\\Vignesh\\anaconda3\\lib\\site-packages\\sklearn\\neighbors\\_classification.py:179: DataConversionWarning: A column-vector y was passed when a 1d array was expected. Please change the shape of y to (n_samples,), for example using ravel().\n",
      "  return self._fit(X, y)\n",
      "C:\\Users\\Vignesh\\anaconda3\\lib\\site-packages\\sklearn\\neighbors\\_classification.py:179: DataConversionWarning: A column-vector y was passed when a 1d array was expected. Please change the shape of y to (n_samples,), for example using ravel().\n",
      "  return self._fit(X, y)\n",
      "C:\\Users\\Vignesh\\anaconda3\\lib\\site-packages\\sklearn\\neighbors\\_classification.py:179: DataConversionWarning: A column-vector y was passed when a 1d array was expected. Please change the shape of y to (n_samples,), for example using ravel().\n",
      "  return self._fit(X, y)\n",
      "C:\\Users\\Vignesh\\anaconda3\\lib\\site-packages\\sklearn\\neighbors\\_classification.py:179: DataConversionWarning: A column-vector y was passed when a 1d array was expected. Please change the shape of y to (n_samples,), for example using ravel().\n",
      "  return self._fit(X, y)\n",
      "C:\\Users\\Vignesh\\anaconda3\\lib\\site-packages\\sklearn\\neighbors\\_classification.py:179: DataConversionWarning: A column-vector y was passed when a 1d array was expected. Please change the shape of y to (n_samples,), for example using ravel().\n",
      "  return self._fit(X, y)\n",
      "C:\\Users\\Vignesh\\anaconda3\\lib\\site-packages\\sklearn\\neighbors\\_classification.py:179: DataConversionWarning: A column-vector y was passed when a 1d array was expected. Please change the shape of y to (n_samples,), for example using ravel().\n",
      "  return self._fit(X, y)\n"
     ]
    }
   ],
   "source": [
    "iters = 20\n",
    "std = np.zeros((iters-1))\n",
    "mean = np.zeros((iters-1))\n",
    "for i in range(1,iters):\n",
    "    \n",
    "    neighbour = KNeighborsClassifier(n_neighbors = i).fit(X_train,Y_train)\n",
    "    yhat=neighbour.predict(X_test)\n",
    "    mean[i-1] = accuracy_score(Y_test, yhat)"
   ]
  },
  {
   "cell_type": "code",
   "execution_count": 273,
   "id": "6241d085",
   "metadata": {},
   "outputs": [
    {
     "data": {
      "image/png": "[encoded data removed]",
      "text/plain": [
       "<Figure size 432x288 with 1 Axes>"
      ]
     },
     "metadata": {
      "needs_background": "light"
     },
     "output_type": "display_data"
    },
    {
     "name": "stdout",
     "output_type": "stream",
     "text": [
      "The K value with the highest accuracy is 19 with an accuracy of 0.7691666666666667\n"
     ]
    }
   ],
   "source": [
    "plt.plot(range(1,iters),mean,'r')\n",
    "plt.ylabel('Predicted accuracy')\n",
    "plt.xlabel('No of neighbours')\n",
    "\n",
    "plt.show()\n",
    "\n",
    "print(\"The K value with the highest accuracy is\", mean.argmax()+1, \"with an accuracy of\", mean.max())"
   ]
  },
  {
   "cell_type": "code",
   "execution_count": 278,
   "id": "81fb01b3",
   "metadata": {},
   "outputs": [
    {
     "name": "stdout",
     "output_type": "stream",
     "text": [
      "Train set Accuracy:  0.7704142857142857\n",
      "Test set Accuracy:  0.7691666666666667\n"
     ]
    }
   ],
   "source": [
    "yhat = neighbour.predict(X_test)\n",
    "print(\"Train set Accuracy: \", accuracy_score(y_train, neighbour.predict(X_train)))\n",
    "print(\"Test set Accuracy: \", accuracy_score(y_test, yhat))"
   ]
  },
  {
   "cell_type": "code",
   "execution_count": null,
   "id": "f49eb8fa",
   "metadata": {},
   "outputs": [],
   "source": []
  }
 ],
 "metadata": {
  "kernelspec": {
   "display_name": "Python 3",
   "language": "python",
   "name": "python3"
  },
  "language_info": {
   "codemirror_mode": {
    "name": "ipython",
    "version": 3
   },
   "file_extension": ".py",
   "mimetype": "text/x-python",
   "name": "python",
   "nbconvert_exporter": "python",
   "pygments_lexer": "ipython3",
   "version": "3.8.8"
  }
 },
 "nbformat": 4,
 "nbformat_minor": 5
}
